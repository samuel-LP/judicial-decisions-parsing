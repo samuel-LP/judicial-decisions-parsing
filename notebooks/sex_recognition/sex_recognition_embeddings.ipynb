{
 "cells": [
  {
   "cell_type": "code",
   "execution_count": 23,
   "metadata": {},
   "outputs": [],
   "source": [
    "import sys\n",
    "sys.path.append(\"../src\")\n",
    "\n",
    "import pandas as pd\n",
    "import numpy as np\n",
    "from transformers import AutoTokenizer\n",
    "\n",
    "from bert_model import MyBertModel\n",
    "from embedding_model import EmbeddingModel\n",
    "from collator import CustomCollator\n",
    "from dataset import JuridiqueDataset\n",
    "from preprocess import Preprocessing\n",
    "from tqdm import tqdm\n",
    "import torch\n",
    "import torch.nn as nn\n",
    "from torch.utils.data import DataLoader\n",
    "import torch.optim as optim\n",
    "\n",
    "from transformers import get_cosine_schedule_with_warmup\n",
    "\n",
    "import random\n",
    "import time\n",
    "\n",
    "from sklearn.model_selection import train_test_split\n",
    "from sklearn.linear_model import LogisticRegression\n",
    "import sklearn.metrics as metrics\n",
    "\n",
    "device = torch.device(\"cuda\" if torch.cuda.is_available() else \"cpu\")\n"
   ]
  },
  {
   "cell_type": "markdown",
   "metadata": {},
   "source": [
    "# Import our datas"
   ]
  },
  {
   "cell_type": "code",
   "execution_count": 2,
   "metadata": {},
   "outputs": [
    {
     "data": {
      "text/plain": [
       "'Le : 12/11/2019\\n\\xa0\\n\\xa0\\nCour d’appel d’Agen \\n\\xa0\\nchambre civile \\n\\xa0\\nAudience publique du 25 janvier 2012 \\n\\xa0\\nN° de RG: 11/00752 \\n\\xa0\\n\\xa0\\nInfirme partiellement, réforme ou modifie certaines dispositions de la décision déférée \\n\\xa0\\n\\xa0\\n\\xa0\\nREPUBLIQUE FRANCAISE\\n\\xa0\\nAU NOM DU PEUPLE FRANCAIS\\n\\xa0\\nARRÊT DU \\n\\xa0\\n25 Janvier 2012 \\xa0\\n\\xa0\\n-------------------- \\n\\xa0\\nRG N : 11/ 00752\\n\\xa0\\n-------------------- \\xa0\\nMichaël X... \\xa0\\nSylvie X... \\xa0\\nPhilippe X... \\xa0\\n\\xa0\\nC/ \\xa0\\n\\xa0\\nS. A. FONDS DE GARANTIE AUTOMOBILE \\xa0\\nCAISSE NATIONALE DE SÉCURITÉ MILITAIRE \\xa0\\nCAISSE PRIMAIRE D’ASSURANCE MALADIE DE HAUTE GARONNE \\xa0\\nEtablissement UNEO MONTROUGE \\xa0\\nCAISSE DE SECURITE SOCIALE ETUDIANTE VITTAVI\\xa0\\n\\xa0\\n------------------- \\xa0\\n\\xa0\\nARRÊT no 123-2012 \\xa0\\n\\xa0\\nCOUR D’APPEL D’AGEN \\xa0\\nChambre Civile \\xa0\\n\\xa0\\nPrononcé par mise à disposition au greffe conformément au second alinéa de l’article 450 et 453 du Code de procédure civile le vingt cinq Janvier deux mille douze, par Bernard BOUTIE, Président de Chambre, assisté de Nathalie CAILHETON, Greffier, \\xa0\\nLA COUR D’APPEL D’AGEN, 1ère Chambre dans l’affaire, \\xa0\\n\\xa0\\nENTRE : \\xa0\\nMonsieur Michael X... \\n\\xa0\\nné le 01 Octobre 1986 \\xa0\\nMadame Sylvie X... \\n\\xa0\\nnée le 14 Septembre 1960 à TOULON (83000) \\n\\xa0\\nsecrétaire médicale \\xa0\\nMonsieur Philippe X... \\n\\xa0\\nné le 01 Juin 1959 à TOULON (83000) \\xa0\\nDemeurant tous : ... \\n\\xa0\\n40090 BOUGUE \\xa0\\nTous représentés par la SCP PATUREAU-RIGAULT, avoués \\n\\xa0\\nassistés de Me Jehanne COLLARD, avocat \\xa0\\n\\xa0\\nAPPELANTS d’un jugement rendu par le Tribunal de Grande Instance d’AUCH en date du 22 Avril 2011 \\xa0\\nD’une part, \\xa0\\n\\xa0\\nET : \\xa0\\nS. A. FONDS DE GARANTIE AUTOMOBILE, représenté par son Directeur Général actuellement en fonctions domicilié en cette qualité audit siège. \\n\\xa0\\n64 Rue Defrance \\n\\xa0\\n94300 VINCENNES \\xa0\\nreprésenté par la SCP NARRAN Guy, avoués \\n\\xa0\\nassisté de la SELARL MARTIAL BEAUVAIS LABADIE, avocats \\xa0\\n\\xa0\\nCAISSE NATIONALE DE SÉCURITÉ MILITAIRE, prise en la personne de son représentant légal actuellement en fonctions domicilié en cette qualité au siège \\n\\xa0\\n247, Avenue Jacques Cartier \\n\\xa0\\n83090 TOULON CEDEX 09 \\xa0\\nASSIGNÉE, n’ayant pas constitué avoué \\xa0\\n\\xa0\\nCAISSE PRIMAIRE D’ASSURANCE MALADIE DE HAUTE GARONNE, pris en la personne de son représentant légal actuellement en fonctions domicilié en cette qualité au siège \\n\\xa0\\n3 boulevard Léopold Escande \\n\\xa0\\n31093 TOULOUSE CEDEX 9 \\xa0\\nASSIGNÉE, n’ayant pas constitué avoué \\xa0\\n\\xa0\\nEtablissement UNEO MONTROUGE organisme social, pris en la personne de son représentant légal actuellement en fonctions domicilié en cette qualité au siège \\n\\xa0\\n48 rue Barbes \\n\\xa0\\n92542 MONTROUGE CEDEX \\xa0\\nASSIGNÉ, n’ayant pas constitué avoué \\xa0\\n\\xa0\\nCAISSE DE SECURITE SOCIALE ETUDIANTE VITTAVI, prise en la personne de son représentant légal actuellement en fonctions domicilié en cette qualité au siège \\n\\xa0\\n104 avenue Jean Rieux \\n\\xa0\\n31500 TOULOUSE \\xa0\\nASSIGNÉE, n’ayant pas constitué avoué \\xa0\\n\\xa0\\nINTIMÉS \\n\\xa0\\nD’autre part, \\xa0\\n\\xa0\\na rendu l’arrêt réputé contradictoire suivant. La cause a été débattue et plaidée en audience publique, le 23 Novembre 2011 sans opposition des parties, devant Bernard BOUTIE, Président de Chambre, et Dominique NOLET, Conseiller, rapporteurs, assistés de Nathalie CAILHETON, Greffier. Le Président de Chambre et le Conseiller rapporteurs en ont, dans leur délibéré, rendu compte à la Cour composée, outre eux-mêmes, de Gérard SARRAU, Conseiller, en application des dispositions des articles 945-1 et 786 du Code de Procédure Civile, et qu’il en ait été délibéré par les magistrats ci-dessus nommés, les parties ayant été avisées par le Président, à l’issue des débats, que l’arrêt serait prononcé par sa mise à disposition au greffe à la date qu’il indique. \\xa0\\n\\xa0\\n\\xa0\\nFAITS ET PROCÉDURE : \\xa0\\nMonsieur Michaël X..., né le 1er octobre 1986, qui circulait le 10 juin 2005 dans le sens NOGARO-MANCIET, a perdu le contrôle de son véhicule à la suite de la perte de pièces métalliques par un camion qui circulait en sens inverse. Le véhicule conduit par Monsieur X... a percuté un arbre et le chauffeur du camion, qui a poursuivi sa route, n’a pu être identifié. \\xa0\\nMonsieur X..., qui a été grièvement blessé dans cet accident de la circulation, a saisi le Juge des Référés. A la suite d’une expertise effectuée par le Docteur Z..., une transaction est intervenue avec le FONDS DE GARANTIE AUTOMOBILE. \\xa0\\nLe 15 mars 2010, le docteur Hervé A..., médecin-conseil de la victime, et le Docteur André B..., mandaté par le FONDS DE GARANTIE AUTOMOBILE, ont examiné Monsieur X... et ont déposé leur rapport d’expertise le 3 mai 2010 en fixant sa consolidation au 19 janvier 2010. \\xa0\\nPar actes d’huissier en date des 17, 18 et 31 mai 2010, 18 juin 2010 et 9 août 2010, Monsieur Michaël X..., Madame Sylvie X... et Monsieur Philippe X... ont fait assigner devant le Tribunal de Grande Instance d’AUCH :\\xa0\\n- le FONDS DE GARANTIE AUTOMOBILE,\\n\\xa0\\n- la CAISSE NATIONALE DE SÉCURITÉ MILITAIRE,\\n\\xa0\\n- la CAISSE DE SÉCURITÉ SOCIALE VITTAVI,\\n\\xa0\\n- l’UNEO MONTROUGE,\\n\\xa0\\n- la CAISSE PRIMAIRE D’ASSURANCE MALADIE de la HAUTE-GARONNE. \\xa0\\n\\xa0\\nPar jugement en date du 22 avril 2011, le Tribunal de Grande Instance d’AUCH a fixé le préjudice de Monsieur Michaël X... comme suit : \\xa0\\nPréjudices patrimoniaux : \\xa0\\nTemporaires :\\n\\xa0\\n- dépenses de santé actuelles : 448, 55 €\\n\\xa0\\n- préjudices professionnels temporaires :\\n\\xa0\\n- pertes de gains professionnels actuels : 2. 865, 79 €\\n\\xa0\\n- préjudice scolaire, universitaire et de formation : 10. 000 €\\n\\xa0\\n- frais divers : 9. 837, 26 € \\xa0\\nPermanents :\\n\\xa0\\n- dépenses de santé futures : Réservé\\n\\xa0\\n-incidence professionnelle : 30. 000 € \\xa0\\nsoit un total de 53. 151, 60 € au titre des préjudices patrimoniaux \\xa0\\n\\xa0\\nPréjudices extra-patrimoniaux : \\xa0\\nTemporaires :\\n\\xa0\\n- déficit fonctionnel temporaire : 6. 217, 05 €\\n\\xa0\\n- souffrances endurées : 30. 000 €\\n\\xa0\\n- préjudice esthétique temporaire : 6. 000 € \\xa0\\nPermanents :\\n\\xa0\\n- déficit fonctionnel permanent : 131. 000 €\\n\\xa0\\n- préjudice esthétique permanent : 12. 000 €\\n\\xa0\\n- préjudice d’agrément : 30. 000 € \\xa0\\nsoit un total de 215. 217, 05 € au titre de préjudices extra-patrimoniaux. \\xa0\\n\\xa0\\nLe Tribunal de Grand Instance d’AUCH a en outre :\\xa0\\n- réservé les dépenses de santé futures ;\\xa0\\n- débouté pour le surplus ;\\xa0\\n- fixé à 10. 000 € le préjudice moral de Madame Sylvie X... ;\\xa0\\n- fixé à 10. 000 € le préjudice moral subi par Monsieur Philippe X... ;\\xa0\\n- rappelé que les débours de la CPAM de HAUTE-GARONNE s’élèvent à la somme de 146. 985, 03 € ;\\xa0\\n- rappelé que les débours de la CAISSE NATIONALE DE SÉCURITÉ MILITAIRE s’élèvent à la somme de 86. 611, 04 € ;\\xa0\\n- rappelé que les débours de l’UNEO s’élèvent à la somme de 1. 323, 54 € ;\\xa0\\n- déclaré le jugement opposable au FONDS DE GARANTIE AUTOMOBILE, à la CPAM de la HAUTE-GARONNE, à la CAISSE NATIONALE DE SÉCURITÉ MILITAIRE, à la CAISSE DE SÉCURITÉ SOCIALE ETUDIANTE VITTAVI et à l’UNEO ;\\xa0\\n- dit n’y avoir lieu de faire application de l’article 700 du code de procédure civile ;\\xa0\\n- laissé les dépens à la charge du TRÉSOR PUBLIC ;\\xa0\\n- ordonné l’exécution provisoire du jugement. \\xa0\\n\\xa0\\nLes consorts X... ont interjeté appel du jugement par déclaration en date du 4 mai 2011 dans des conditions de forme et de délai qui n’ont pas été discutées. \\xa0\\nPRÉTENTIONS ET MOYENS DES PARTIES : \\xa0\\nDans leurs conclusions signifiées le 7 octobre 2011, les consorts X... demandent à la Cour de : \\xa0\\nconfirmer le jugement entrepris pour les postes de préjudices suivants concernant Michaël X... : \\xa0\\n* 448, 55 € en remboursement des dépenses de santé actuelles après déduction des créances de la Caisse Nationale de Sécurité Militaire et de la Caisse de Sécurité Sociale Etudiante VITTAVI ; \\n\\xa0\\n* 5. 548 € au titre des frais d’assistance à expertise ; \\n\\xa0\\n* 96 € au titre des frais de reproduction du dossier médical ; \\n\\xa0\\n* 68, 26 € au titre des frais de location du téléviseur ; \\xa0\\nconfirmer le jugement entrepris en ce qu’il a alloué une somme de 10. 000 € à Monsieur Philippe X... au titre du préjudice moral ; \\xa0\\nconfirmer le jugement entrepris en ce qu’il a alloué une somme de 10. 000 € à Madame Sylvie X... au titre du préjudice moral ; \\xa0\\nréformer pour le surplus le jugement entrepris et statuant à nouveau, fixer l’indemnisation des préjudices de Michaël X... comme suit : \\xa0\\n* 237 € en remboursement des frais de vêtements et lunettes détruites dans l’accident ; \\n\\xa0\\n* 7. 293, 20 € en remboursement des gains professionnels perdus actuels ; \\n\\xa0\\n* 34. 750 € en réparation du préjudice scolaire ; \\n\\xa0\\n* 181. 139, 47 € au titre des pertes de gains professionnels futurs ; \\n\\xa0\\n* 50. 000 € au titre de l’incidence professionnelle ; \\n\\xa0\\n* 7. 162, 50 € en réparation du déficit fonctionnel temporaire ; \\n\\xa0\\n* 50. 000 € en réparation des souffrances endurées ; \\n\\xa0\\n* 20. 000 € en réparation du préjudice esthétique temporaire ; \\n\\xa0\\n* 300. 000 € en réparation du déficit fonctionnel permanent ; \\n\\xa0\\n* 150. 000 € en réparation du préjudice d’agrément ; \\n\\xa0\\n* 70. 000 € en réparation du préjudice esthétique permanent ; \\n\\xa0\\n* 30. 000 € en réparation du préjudice d’établissement ; \\xa0\\nallouer à Monsieur X... une provision à hauteur de 971, 77 € à valoir sur l’indemnisation du poste de préjudice “ dépenses de santé futures “ ; \\xa0\\nréserver pour le surplus le poste “ dépenses de santé futures “ en l’attente de la production des justificatifs pour la prise en charge d’une paire de lunette tous les deux ans ; \\xa0\\nfixer l’indemnisation du préjudice matériel de Monsieur et Madame X... à 4. 962, 12 € au titre de leurs frais de transport ; \\xa0\\ndire que l’arrêt à intervenir sera commun à la Caisse Nationale de Sécurité Militaire, à la Caisse de Sécurité Sociale Etudiante VITTAVI et à la CPAM de HAUTE-GARONNE ; \\xa0\\ndéclarer l’arrêt opposable au FONDS DE GARANTIE AUTOMOBILE et en tant que de besoin, en cas de non paiement, condamner le FONDS DE GARANTIE AUTOMOBILE au paiement des causes de la décision. \\xa0\\n* * * \\xa0\\nLe FONDS DE GARANTIE AUTOMOBILE conclut au débouté de la demande présentée par Michaël X... au titre des frais divers et des dépenses de santé futures ainsi qu’à la fixation :\\xa0\\n- des pertes de gains professionnels actuels à la somme de 2. 667, 27 € ;\\n\\xa0\\n- du préjudice patrimonial des époux Philippe X... à la somme totale \\n\\xa0\\nde 2. 000 € ;\\n\\xa0\\n- du préjudice esthétique temporaire de Monsieur X... à la somme de 2. 000 €. \\xa0\\n\\xa0\\nIl demande en outre à la Cour de dire que les indemnités seront versées aux consorts X... en deniers ou quittances et de confirmer la décision attaquée pour le surplus. \\xa0\\nPar courrier en date du 22 juin 2011, la Mutuelle UNEO a informé la Cour qu’elle a procédé au remboursement de soins médicaux directement liés à l’accident à hauteur de 1. 323, 54 €. \\xa0\\nLa Caisse Primaire d’Assurance Maladie de HAUTE-GARONNE a déclaré par courrier du 28 juin 2011 qu’elle n’entendait pas intervenir à l’instance. \\xa0\\nLa Caisse Nationale de Sécurité Militaire, assignée par acte d’huissier en date du 23 juin 2011 avec notification de la déclaration d’appel et des conclusions déposées au greffe de la Cour, n’a pas constitué avoué et s’est abstenue d’adresser à la Cour le décompte de sa créance. \\xa0\\nL’ordonnance de clôture a été prononcée le 26 octobre 2011. \\xa0\\nMOTIFS DE LA DÉCISION : \\xa0\\nI-Sur les préjudices patrimoniaux de Monsieur Michaël X... : \\xa0\\nA-Sur les préjudices patrimoniaux temporaires : \\xa0\\n1) Les dépenses de santé actuelles : \\xa0\\nLa Caisse Nationale de Sécurité Militaire, la Caisse de Sécurité Sociale Etudiante VITTAVI et la CPAM de HAUTE-GARONNE ont communiqué le montant de leur créance en première instance devant le Tribunal de Grande Instance d’AUCH. \\xa0\\nCe dernier a constaté que les parties s’accordaient sur le fait qu’il est resté à la charge de Monsieur X... des frais de pharmacie d’un montant de 448, 55 €. \\xa0\\nCe chef de demande n’est nullement discuté devant la Cour et il convient donc de confirmer le jugement déféré en ce qu’il a alloué à Monsieur X... la somme de 448, 55 €. \\xa0\\n\\xa0\\n2) Les frais divers : \\xa0\\nMonsieur X... sollicite de ce chef les paiement de :\\xa0\\n- la somme de 5. 548 € au titre des frais d’assistance à expertise ;\\n\\xa0\\n- la somme de 96 € au titre des frais de reproduction du dossier médical ;\\n\\xa0\\n- la somme de 68, 26 € au titre des frais de location de téléviseur ;\\n\\xa0\\n- la somme de 237 € au titre des frais de vêtements et lunettes détruits dans l’accident. \\xa0\\n\\xa0\\nLe Fonds de Garantie Automobile conteste les frais d’assistance à expertise en faisant observer que Monsieur X... n’a jamais justifié des sommes versées à ce titre. \\xa0\\nC’est à bon droit que le premier juge a fait droit à la demande présentée au titre des frais d’assistance à expertise dans la mesure où Monsieur X... justifie de trois notes d’honoraires établies par le docteur A...pour un montant total de 5. 548 €. \\xa0\\nLa demande en paiement des frais de reproduction du dossier médical pour un montant de 96 €, des frais de location de téléviseur d’un montant de 68, 26 € et des frais de vêtements et de lunettes pour un montant de 237 € n’est pas sérieusement discutée par le Fonds de Garantie Automobile compte tenu des factures produites aux débats par le requérant. \\xa0\\n\\xa0\\nIl convient donc de confirmer le jugement déféré en ce qu’il a alloué à Monsieur X... :\\xa0\\n- la somme de 5. 548 € au titre des frais d’assistance à expertise ;\\n\\xa0\\n- la somme de 96 € au titre des frais de reproduction du dossier médical ;\\n\\xa0\\n- la somme de 68, 26 € au titre des frais de location de téléviseur. \\xa0\\n\\xa0\\nEn revanche, le jugement déféré sera réformé en ce qui concerne les frais de vêtements et lunettes détruites dans l’accident. Il sera alloué de ce chef à Monsieur X... la somme de 237 €. \\xa0\\nSur les frais de transports exposés par Monsieur et Madame X..., le tribunal a fixé avec justesse à 2. 000 € les frais exposés par chacun des époux X... en l’absence de pièces justificatives susceptibles d’apprécier leur montant précis, le versement desdites sommes étant accepté par le Fonds de Garantie Automobile. Le jugement entrepris sera donc confirmé sur ce point. \\xa0\\n\\xa0\\n3) Les préjudices professionnels temporaires : \\xa0\\nA) la perte de gains professionnels actuels : \\xa0\\nMonsieur X... sollicite de ce chef le paiement des sommes suivantes correspondant à la perte de salaires d’emploi saisonnier au sein de la société \\n\\xa0\\nEts DEGREANE :\\xa0\\n- la somme de 2. 578, 40 € pour la période du 7 juillet au 2 septembre 2005 ;\\n\\xa0\\n- la somme de 847, 20 € pour la perte subie du 7 août au 8 septembre 2006 ;\\n\\xa0\\n- la somme de 3. 867, 60 € pour les emplois saisonniers des années 2007, 2008 et 2009. \\xa0\\n\\xa0\\nLe premier juge a exactement fixé à la somme de 2. 865, 97 € la perte de gains professionnels actuels pour les années 2005 et 2006 compte tenu des attestations des Ets DEGREANE produites aux débats. L’attestation en date du 8 août 2005 établie par Monsieur C..., chef d’entreprise de la société DEGREANE, précise que le salaire que Monsieur X... aurait dû percevoir “ pour 151, 67 H aurait été de 1. 289, 20 € “. Contrairement aux affirmations du Fonds de Garantie Automobile, ce montant n’est nullement mentionné en brut. \\xa0\\nIl convient donc de confirmer le jugement déféré en ce qu’il a pris pour base d’indemnisation un salaire mensuel de 1. 289, 20 € et a alloué à Monsieur X... la somme de 2. 865, 97 € pour les années 2005 et 2006. \\xa0\\nLes demandes d’indemnisation complémentaire présentées par Monsieur X... pour les années 2007, 2008 et 2009 doivent être rejetées dans la mesure où en l’état il n’est nullement établi avec certitude que Monsieur X... aurait travaillé au sein des établissements DEGREANE les années considérées. Le jugement déféré sera donc confirmé en ce qu’il a débouté Monsieur X... de sa demande en paiement de la somme 3. 867, 60 € pour les années 2007, 2008 et 2009. \\xa0\\n\\xa0\\nB) le préjudice scolaire, universitaire ou de formation : \\xa0\\nIl ressort du rapport d’expertise que Monsieur X..., qui terminait sa première année d’études à l’INSA au moment de l’accident, a perdu une année universitaire du fait de celui-ci. \\xa0\\nLe premier juge a alloué de ce chef à Monsieur X... une indemnité d’un montant de 10. 000 €. Monsieur X... conclut à la réformation du jugement en indiquant qu’après avoir obtenu son diplôme, il aurait pu espérer trouver facilement un emploi avec un salaire moyen de 34. 750 €. Il sollicite en conséquence le paiement de ladite somme pour la perte d’une année universitaire. \\xa0\\nEn l’espèce, ce préjudice est inclus dans les préjudices patrimoniaux temporaires et non dans les préjudices patrimoniaux permanents ainsi que le soutient l’appelant. \\xa0\\nC’est avec justesse que le premier juge a alloué de ce chef à Monsieur X... une indemnité de 10. 000 €, le préjudice se situant avant la consolidation et ne portant nullement sur la rémunération présumée de l’appelant. \\xa0\\nLe jugement déféré sera confirmé sur ce point. \\xa0\\n\\xa0\\nB-Sur les préjudices patrimoniaux permanents : \\xa0\\n1) Les dépenses de santé futures : \\xa0\\nFaute d’être en mesure de chiffrer le préjudice résultant des dépenses de santé futures, le premier juge a réservé les droits de Monsieur X.... \\xa0\\nDevant la Cour, Monsieur X... demande à la Cour de lui allouer une provision à hauteur de 971, 77 € à valoir sur l’indemnisation de son préjudice au titre du polissage de la prothèse oculaire et de réserver pour le surplus le poste “ dépenses de santé futures “ en l’attente de la production des justificatifs pour la prise en charge d’une paire de lunette tous les deux ans. \\xa0\\nLe Fonds de Garantie Automobile s’oppose à la demande en paiement de la somme de 971, 77 € en soutenant que Monsieur X... ne dispose d’aucun justificatif précis sur ce point. \\xa0\\nMonsieur X... a versé au dossier une attestation établie par Madame Christine D..., oculariste, en date du 15 novembre 2010, précisant que le coût du polissage de prothèse oculaire s’élève à la somme de 31, 50 € et que le suivi de cet appareillage oculaire est effectué tous les six mois. Dans la mesure où la Caisse Primaire d’Assurance Maladie prend en charge le coût d’un polissage par an, il est démontré que la somme annuelle de 31, 50 € restera à la charge de Monsieur X.... L’euro de rente concernant Monsieur X... étant fixé à 30. 850, il lui est dû après capitalisation la somme de 971, 77 € de ce chef. Il convient donc de faire droit à sa demande. \\xa0\\n\\xa0\\n2) Les préjudices professionnels : \\xa0\\nA) La perte de gains professionnels futurs : \\xa0\\nMonsieur X... déclare principalement que du fait de son accident et de ses conséquences dramatiques, il ne pourra pas prétendre à la même évolution de carrière qu’une personne ayant des capacités physiques optimales. Il affirme qu’il était promis à un brillant avenir d’ingénieur, qu’il n’a en fait trouvé un emploi chez EDF qu’en qualité de cadre de maintenance dans un emploi réservé aux handicapés, qu’il ne pourra pas y évoluer comme il aurait pu le faire et qu’il se verra condamné à stagner au salaire de base d’un ingénieur. Il soutient qu’après seulement trois ans d’ancienneté, il percevra un salaire inférieur de 6. 675 € par an par rapport au salaire auquel il aurait pu prétendre et, après capitalisation, il sollicite de ce chef l’allocation d’une indemnité d’un montant de 181. 139, 47 €. \\xa0\\nLe Fonds de Garantie Automobile fait observer que l’expert n’a retenu aucune inaptitude de Monsieur X... à l’exercice de la profession d’ingénieur. Il déclare qu’il n’est nullement démontré que sans l’accident dont il a été victime, Monsieur X... aurait trouvé un travail mieux rémunéré. Il fait remarquer que la demande présentée par Monsieur X... est fondée sur des argumentations totalement théoriques sans fondement et conclut au débouté de ses prétentions. \\xa0\\nLa perte de gains professionnels résulte de la perte d’emploi ou du changement d’emploi. \\xa0\\nC’est avec justesse que le premier juge a considéré que Monsieur X... ne justifiait d’aucune perte ou changement d’emploi, ni d’une réduction d’activité susceptible d’entraîner une perte de gains professionnels, et l’a débouté de sa demande. Le médecin expert a en effet uniquement considéré qu’un retentissement professionnel ou une orientation professionnelle était à prévoir, ceux-ci relevant en droit de l’indemnisation de l’incidence professionnelle. Il faut observer que la motivation de la demande d’indemnisation de la perte de gains professionnels résultant des conclusions déposées par Monsieur X... concerne en fait l’incidence professionnelle qui indemnise notamment la dévalorisation sur le marché du travail, la perte de chance de promotion, la perte de gains espérés à l’issue d’une formation universitaire ou professionnelle et certaines catégories d’emplois fermés en raison du handicap séquellaire. \\xa0\\nIl convient de confirmer le jugement déféré sur ce point. \\xa0\\n\\xa0\\nB) L’incidence professionnelle : \\xa0\\nMonsieur X... sollicite de ce chef l’allocation d’une indemnité de 50. 000 € alors que le Fonds de Garantie Automobile conclut à la confirmation du jugement déféré en ce qu’il a alloué à la victime la somme de 30. 000 € en réparation de chef de préjudice. \\xa0\\nDans leur rapport, les experts ont notamment relevé la perte fonctionnelle totale de l’oeil gauche, des céphalées post-traumatisme crânien et des cicatrices et aspect inesthétique de la face et de la prothèse oculaire. Ils ont conclu à la nécessité d’une orientation professionnelle. \\xa0\\nEn considération de ces éléments, il y a lieu d’allouer à Monsieur X... une indemnité de 50. 000 € en réparation de l’incidence professionnelle et de réformer en conséquence le jugement déféré. \\xa0\\n\\xa0\\nII-Sur les préjudices extra-patrimoniaux de Monsieur X... : \\xa0\\nA-Sur les préjudices extra-patrimoniaux temporaires : \\xa0\\n1) Le déficit fonctionnel temporaire : \\xa0\\nMonsieur X... conclut à la réformation du jugement déféré et à l’allocation d’une indemnité d’une part de 25 € par jour d’ITT et d’autre part de 6, 25 € par jour d’incapacité temporaire partielle. \\xa0\\nIl ressort du rapport d’expertise que Monsieur X... a subi 51 jours d’ITT et 942 jours de déficit fonctionnel temporaire partiel. \\xa0\\nLe premier juge a justement alloué à Monsieur X... une indemnité de 21, 70 € par jour d’ITT et de 5, 425 € par jour de déficit fonctionnel temporaire partiel. \\xa0\\nIl convient de confirmer le jugement déféré. \\xa0\\n\\xa0\\n2) Les souffrances endurées : \\xa0\\nLes médecins experts ont indiqué dans leur rapport que les souffrances endurées devaient être fixées à 6/ 7. \\xa0\\nIl est établi toutefois que Monsieur X... a particulièrement souffert de l’accident et de ses conséquences. Il a subi 13 interventions chirurgicales dont plusieurs greffes. \\xa0\\nEn considération de l’importance des souffrances endurées, il convient d’infirmer le jugement déféré et d’allouer à Monsieur X... la somme de 45. 000 € de ce chef. \\xa0\\n\\xa0\\n3) Le préjudice esthétique temporaire : \\xa0\\nIl ressort du rapport d’expertise que Monsieur X... a subi une altération de son apparence physique. La pose de la prothèse oculaire définitive n’est intervenue que le 19 janvier 2010 après plusieurs prothèses oculaires provisoires. \\xa0\\nEn considération de ces éléments, le préjudice esthétique temporaire sera fixé à la somme de 6. 000 €. Le jugement sera confirmé sur ce point. \\xa0\\n\\xa0\\nB-Sur les préjudices extra-patrimoniaux permanents : \\xa0\\n1) Le déficit fonctionnel permanent : \\xa0\\nIl ressort du rapport d’expertise que l’atteinte permanente à l’intégrité physique et psychique est fixée à 50 %. \\xa0\\n\\xa0\\nCompte tenu de l’âge de Monsieur X..., des séquelles conservées et du taux d’incapacité, c’est avec justesse que le premier juge lui alloué la somme de 131. 000 € de ce chef. \\xa0\\n\\xa0\\n2) Le préjudice esthétique permanent : \\xa0\\nLes experts ont évalué le degré du dommage esthétique à 4, 5/ 7. Les critiques soulevées par Monsieur X... ne sont pas de nature à remettre en cause l’évaluation des experts. \\xa0\\nIl convient de confirmer le jugement déféré en ce qu’il a alloué de ce chef à Monsieur X... une indemnité de 12. 000 €. \\xa0\\n\\xa0\\n3) Le préjudice d’agrément : \\xa0\\nIl est établi que Monsieur X... pratiquait le canoë-kayak à un haut niveau et qu’il avait remporté de nombreux titres dans cette discipline avant l’accident. Il est démontré qu’il n’a pas été capable de reprendre la compétition au haut niveau qui était le sien avant l’accident. \\xa0\\nIl convient de lui allouer la somme de 50. 000 € en réparation du préjudice d’agrément et de réformer en conséquence le jugement déféré. \\xa0\\n\\xa0\\n4) Le préjudice d’établissement : \\xa0\\nMonsieur X... soutient que l’importante dégradation physique dont il est atteint est de nature à affecter durant toute sa vie ses possibilités de rencontres et par conséquent ses possibilités d’envisager une vie familiale normale. Il sollicite une indemnité de 30. 000 € au titre du préjudice d’établissement. \\xa0\\nLe premier juge a exactement relevé que les experts n’ont pas conclu à l’existence d’un préjudice d’établissement. De plus, la perte d’espoir et de chance de normalement réaliser un projet de vie familiale en raison de la gravité du handicap n’est nullement démontrée par l’appelant. \\xa0\\nIl y a lieu de confirmer le jugement déféré en ce qu’il a débouté Monsieur X... de ce chef de demande. \\xa0\\nIII-Sur les préjudices des parents de la victime : \\xa0\\nLa Cour a précédemment confirmé le jugement déféré en ce qu’il a alloué à Monsieur et Madame Philippe X..., parents de Monsieur Michaël X..., la somme de 2. 000 € chacun au titre des frais de transport exposés. \\xa0\\nLe jugement déféré sera également confirmé en ce qu’il a alloué à Monsieur et Madame X... la somme de 10. 000 € au titre du préjudice moral du fait de l’accident de leur fils. \\xa0\\n\\xa0\\nPAR CES MOTIFS, \\xa0\\nLa Cour, après en avoir délibéré conformément à la loi, statuant par arrêt réputé contradictoire, prononcé par mise à disposition au greffe et en dernier ressort, \\xa0\\nInfirme partiellement la décision déférée mais seulement en ce qu’elle a fixé :\\xa0\\n- les frais de lunettes à 125 € et rejeté toute indemnisation des vêtements ;\\n\\xa0\\n- l’incidence professionnelle à la somme de 30. 000 € ;\\n\\xa0\\n- les souffrances endurées à la somme de 30. 000 € ;\\n\\xa0\\n- le préjudice d’agrément à la somme de 30. 000 € ; \\xa0\\nEt statuant à nouveau sur les chefs infirmés :\\xa0\\n- Fixe les frais de lunettes et de vêtements détériorés à 237 € ;\\n\\xa0\\n- Fixe l’incidence professionnelle à la somme de 50. 000 € ;\\n\\xa0\\n- Fixe les souffrances endurées à la somme de 45. 000 € ;\\n\\xa0\\n- Fixe le préjudice d’agrément à la somme de 50. 000 € ; \\xa0\\n\\xa0\\nConfirme pour le surplus le jugement du Tribunal de Grande Instance d’AUCH en date du 22 avril 2011 ; \\xa0\\nY ajoutant, \\xa0\\nAlloue à Monsieur Michaël X... une provision à hauteur de 971, 77 € à valoir sur le poste de préjudice “ dépenses de santé futures “ ; \\xa0\\nRéserve pour le surplus le poste “ dépenses de santé futures “ dans l’attente de la production de justificatifs pour la prise en charge d’une paire de lunettes tous les deux ans ; \\xa0\\nDit que les indemnités seront versées aux consorts X... en deniers ou quittances ; \\xa0\\nDéclare le présent arrêt opposable au FONDS DE GARANTIE AUTOMOBILE, à la CPAM de HAUTE-GARONNE, à la CAISSE NATIONALE DE SÉCURITÉ MILITAIRE, à la CAISSE DE SÉCURITÉ SOCIALE ETUDIANTE VITTAVI et à L’UNEO ; \\xa0\\nDit que les dépens seront supportés par le FONDS DE GARANTIE AUTOMOBILE et qu’ils seront recouvrés par la SCP PATUREAU-RIGAULT, avoués, conformément aux dispositions de l’article 699 du code de procédure civile. \\xa0\\nLe présent arrêt a été signé par Bernard BOUTIE, Président de Chambre, et par Nathalie CAILHETON, Greffier, auquel la minute de la décision a été remise par le magistrat signataire. \\xa0\\n\\xa0\\nTitrages et résumés : \\n\\xa0\\n\\xa0\\n\\xa0\\n\\xa0\\n'"
      ]
     },
     "execution_count": 2,
     "metadata": {},
     "output_type": "execute_result"
    }
   ],
   "source": [
    "train_df = pd.read_csv(\"../datas/train_data.csv\")"
   ]
  },
  {
   "cell_type": "markdown",
   "metadata": {},
   "source": [
    "# Remove rows with error ans keep only the sex column"
   ]
  },
  {
   "cell_type": "code",
   "execution_count": null,
   "metadata": {},
   "outputs": [],
   "source": [
    "train_df = train_df[train_df[\"sexe\"] != \"n.c.\"]"
   ]
  },
  {
   "cell_type": "code",
   "execution_count": 4,
   "metadata": {},
   "outputs": [],
   "source": [
    "train_df = train_df.drop([\"date_accident\", \"date_consolidation\", \"ID\", \"filename\"], axis=1)"
   ]
  },
  {
   "cell_type": "markdown",
   "metadata": {},
   "source": [
    "# Preprocessing"
   ]
  },
  {
   "cell_type": "code",
   "execution_count": null,
   "metadata": {},
   "outputs": [],
   "source": [
    "preprocess_train = Preprocessing(train_df)\n",
    "\n",
    "train_df = preprocess_train.remove_newlines()\n",
    "train_df = preprocess_train.remove_stopwords()\n"
   ]
  },
  {
   "cell_type": "code",
   "execution_count": 7,
   "metadata": {},
   "outputs": [],
   "source": [
    "train_df['text_id'] = np.arange(len(train_df))"
   ]
  },
  {
   "cell_type": "code",
   "execution_count": null,
   "metadata": {},
   "outputs": [],
   "source": [
    "df_train, df_test = train_test_split(train_df, test_size=0.2, random_state=42)\n",
    "df_train, df_test = df_train.copy(), df_test.copy()"
   ]
  },
  {
   "cell_type": "markdown",
   "metadata": {},
   "source": [
    "# Let's call our created dataset"
   ]
  },
  {
   "cell_type": "code",
   "execution_count": null,
   "metadata": {},
   "outputs": [],
   "source": [
    "model_name = \"almanach/camembert-base\"\n",
    "tokenizer = AutoTokenizer.from_pretrained(model_name)"
   ]
  },
  {
   "cell_type": "code",
   "execution_count": null,
   "metadata": {},
   "outputs": [],
   "source": [
    "args = {}\n",
    "ds = JuridiqueDataset(df_train, tokenizer, args)\n",
    "idx = random.choice(range(len(ds)))"
   ]
  },
  {
   "cell_type": "markdown",
   "metadata": {},
   "source": [
    "# Now we use our Collator and DataLoader"
   ]
  },
  {
   "cell_type": "code",
   "execution_count": null,
   "metadata": {},
   "outputs": [],
   "source": [
    "collator_function = CustomCollator(tokenizer)\n",
    "my_dataset = JuridiqueDataset(df_train, tokenizer, args)"
   ]
  },
  {
   "cell_type": "code",
   "execution_count": null,
   "metadata": {},
   "outputs": [],
   "source": [
    "data_loader = DataLoader(my_dataset, drop_last=False, num_workers=0, pin_memory=False, shuffle=False,\n",
    "                              batch_size=2, collate_fn=collator_function)"
   ]
  },
  {
   "cell_type": "code",
   "execution_count": null,
   "metadata": {},
   "outputs": [],
   "source": [
    "for batch in tqdm(data_loader):\n",
    "    break"
   ]
  },
  {
   "cell_type": "markdown",
   "metadata": {},
   "source": [
    "# Training of the model"
   ]
  },
  {
   "cell_type": "code",
   "execution_count": null,
   "metadata": {},
   "outputs": [],
   "source": [
    "def train_one_step(batch,model,criterion):\n",
    "    \"\"\"\n",
    "    Complete this function which should return the loss generate on the bacth data\n",
    "    \"\"\"\n",
    "    # convert bacth data to same device as model\n",
    "    device  = torch.device(f\"cuda:0\" if torch.cuda.is_available() else \"cpu\")\n",
    "    batch = batch_to_device(batch,device)\n",
    "    # one step forward with the bacth\n",
    "    pred = model(batch)\n",
    "\n",
    "    # compute loss\n",
    "    loss = criterion(pred.squeeze(),batch['sexe'].float().squeeze(-1))\n",
    "    return loss"
   ]
  },
  {
   "cell_type": "code",
   "execution_count": null,
   "metadata": {},
   "outputs": [],
   "source": [
    "def train_one_epoch(epoch_number,data_loader,model,criterion,optimzer,lr_scheduler):\n",
    "    losses = []\n",
    "    model.train()\n",
    "    start_time = time.time()\n",
    "    pbar = tqdm(data_loader)\n",
    "    for batch in pbar:\n",
    "        loss = train_one_step(batch,model,criterion)\n",
    "        pbar.set_postfix({\"loss\":loss.item()})\n",
    "        losses.append(loss.item())\n",
    "        loss.backward()\n",
    "        optimzer.step()\n",
    "        lr_scheduler.step()\n",
    "        optimizer.zero_grad()\n",
    "\n",
    "    lr = scheduler.get_lr()[0]\n",
    "    elapsed_time = time.time() - start_time\n",
    "    loss_ = np.mean(losses)\n",
    "    print(f\"Epoch {epoch_number + 1} :  lr={lr:.6f} t={elapsed_time:.0f}s loss : {loss_:.5f}\")\n",
    "    return model"
   ]
  },
  {
   "cell_type": "code",
   "execution_count": null,
   "metadata": {},
   "outputs": [],
   "source": [
    "def inference(valid_loader, model):\n",
    "    predictions = []\n",
    "    model.eval()\n",
    "\n",
    "    device = next(model.parameters()).device\n",
    "\n",
    "    with torch.no_grad():\n",
    "        for batch in tqdm(valid_loader):\n",
    "            batch = {k: v.to(device) if isinstance(v, torch.Tensor) else v for k, v in batch.items()}\n",
    "            pred = model(batch).sigmoid().squeeze()\n",
    "\n",
    "            if pred.dim() == 0:\n",
    "                pred = pred.unsqueeze(0)\n",
    "\n",
    "            predictions.append(pred.detach().cpu().numpy())\n",
    "\n",
    "    predictions = np.concatenate(predictions, axis=0)\n",
    "\n",
    "    df_predict = pd.DataFrame({\"sexe_pred\": predictions.tolist()})\n",
    "    return df_predict"
   ]
  },
  {
   "cell_type": "code",
   "execution_count": null,
   "metadata": {},
   "outputs": [],
   "source": [
    "def batch_to_device(batch, device):\n",
    "    \"\"\"Moves only batch tensors to the specified device.\"\"\"\n",
    "    batch_dict = {}\n",
    "    for key in batch:\n",
    "        if isinstance(batch[key], torch.Tensor):\n",
    "            batch_dict[key] = batch[key].to(device)\n",
    "        else:\n",
    "            batch_dict[key] = batch[key]\n",
    "    return batch_dict\n"
   ]
  },
  {
   "cell_type": "code",
   "execution_count": null,
   "metadata": {},
   "outputs": [],
   "source": [
    "# Define your model\n",
    "device = torch.device(f\"cuda:0\" if torch.cuda.is_available() else \"cpu\")\n",
    "net = MyBertModel(model_name=model_name,num_labels=1)\n",
    "net.to(device)\n",
    "\n",
    "# Define an optimzer\n",
    "optimizer = optim.AdamW(net.parameters(),lr = 4e-6 )\n",
    "\n",
    "# Define a scheduller for your model training\n",
    "\n",
    "BATCH_SIZE = 8\n",
    "EPOCHS = 10\n",
    "warmup_steps = 0.04 * (len(df_train)//BATCH_SIZE)\n",
    "training_steps = EPOCHS * (len(df_train)// (BATCH_SIZE))\n",
    "\n",
    "scheduler = get_cosine_schedule_with_warmup(optimizer, warmup_steps, training_steps)"
   ]
  },
  {
   "cell_type": "code",
   "execution_count": null,
   "metadata": {},
   "outputs": [],
   "source": [
    "criterion = nn.BCEWithLogitsLoss().to(device)\n",
    "for epoch_num in range(EPOCHS):\n",
    "    net = train_one_epoch(epoch_num, data_loader, net, criterion, optimizer, scheduler)"
   ]
  },
  {
   "cell_type": "code",
   "execution_count": null,
   "metadata": {},
   "outputs": [],
   "source": [
    "collator_function = CustomCollator(tokenizer)\n",
    "\n",
    "test_dataset = JuridiqueDataset(df_test, tokenizer,args)\n",
    "test_loader = DataLoader(test_dataset, drop_last=False, num_workers=0, pin_memory=False, shuffle=False,\n",
    "                              batch_size=8, collate_fn=collator_function)\n"
   ]
  },
  {
   "cell_type": "code",
   "execution_count": null,
   "metadata": {},
   "outputs": [],
   "source": [
    "pred_df = inference(test_loader, net)"
   ]
  },
  {
   "cell_type": "markdown",
   "metadata": {},
   "source": [
    "# Let's predict the sex of the victim!"
   ]
  },
  {
   "cell_type": "code",
   "execution_count": null,
   "metadata": {},
   "outputs": [],
   "source": [
    "def get_embeddings(model, df):\n",
    "    collator_function = CustomCollator(tokenizer)\n",
    "    valid_dataset = JuridiqueDataset(df, tokenizer, args)\n",
    "    valid_loader = DataLoader(valid_dataset, drop_last=False, num_workers=0, pin_memory=False, shuffle=False,\n",
    "                              batch_size=2, collate_fn=collator_function)\n",
    "    \n",
    "    embed_predictions = []\n",
    "    device = torch.device(\"cuda:0\" if torch.cuda.is_available() else \"cpu\")\n",
    "    \n",
    "    model.eval()\n",
    "    with torch.no_grad():\n",
    "        for batch in tqdm(valid_loader):\n",
    "            batch = batch_to_device(batch, device)\n",
    "            pred = model(batch)\n",
    "\n",
    "            if pred.dim() == 1:\n",
    "                pred = pred.unsqueeze(0)\n",
    "            pred = pred.detach().cpu().numpy()\n",
    "            embed_predictions.append(pred)\n",
    "    \n",
    "    embeddings = np.concatenate(embed_predictions, axis=0)\n",
    "    df_predict = pd.DataFrame(embeddings)\n",
    "    \n",
    "    return df_predict"
   ]
  },
  {
   "cell_type": "code",
   "execution_count": null,
   "metadata": {},
   "outputs": [],
   "source": [
    "device = torch.device(f\"cuda:0\" if torch.cuda.is_available() else \"cpu\")\n",
    "net = EmbeddingModel(model_name=model_name)\n",
    "net.to(device)"
   ]
  },
  {
   "cell_type": "code",
   "execution_count": null,
   "metadata": {},
   "outputs": [],
   "source": [
    "df_embed_train = get_embeddings(net,df_train)\n",
    "df_embed_test = get_embeddings(net,df_test)"
   ]
  },
  {
   "cell_type": "markdown",
   "metadata": {},
   "source": [
    "## Predictions on the test set"
   ]
  },
  {
   "cell_type": "code",
   "execution_count": null,
   "metadata": {},
   "outputs": [],
   "source": [
    "X = df_embed_train\n",
    "\n",
    "df_train[\"sexe\"] = df_train[\"sexe\"].replace({\"homme\":1,\n",
    "                      \"femme\":0})\n",
    "df_test[\"sexe\"] = df_test[\"sexe\"].replace({\"homme\":1,\n",
    "                      \"femme\":0})\n",
    "y = df_train['sexe']\n",
    "\n",
    "clf = LogisticRegression(C=1.5, random_state=1).fit(X, y)\n",
    "\n",
    "preds_test = clf.predict(df_embed_test)\n",
    "\n",
    "y_test = df_test[\"sexe\"]\n"
   ]
  },
  {
   "cell_type": "markdown",
   "metadata": {},
   "source": [
    "# Now, we compute our metrics"
   ]
  },
  {
   "cell_type": "code",
   "execution_count": 31,
   "metadata": {},
   "outputs": [
    {
     "name": "stdout",
     "output_type": "stream",
     "text": [
      "accuracy on the test set: 74.0%\n",
      "F1 on the test set: 54.0%\n"
     ]
    }
   ],
   "source": [
    "acc_test = metrics.accuracy_score(y_test, preds_test)\n",
    "f1_test = metrics.f1_score(y_test, preds_test, average='macro')\n",
    "print(f\"accuracy on the test set: {100 * round(acc_test, 2)}%\")\n",
    "print(f\"F1 on the test set: {100 * round(f1_test, 2)}%\")\n"
   ]
  },
  {
   "cell_type": "code",
   "execution_count": null,
   "metadata": {},
   "outputs": [],
   "source": []
  }
 ],
 "metadata": {
  "kernelspec": {
   "display_name": ".nlp_venv",
   "language": "python",
   "name": "python3"
  },
  "language_info": {
   "codemirror_mode": {
    "name": "ipython",
    "version": 3
   },
   "file_extension": ".py",
   "mimetype": "text/x-python",
   "name": "python",
   "nbconvert_exporter": "python",
   "pygments_lexer": "ipython3",
   "version": "3.10.0"
  }
 },
 "nbformat": 4,
 "nbformat_minor": 2
}
