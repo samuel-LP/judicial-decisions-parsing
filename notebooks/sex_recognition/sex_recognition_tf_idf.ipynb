{
  "cells": [
    {
      "cell_type": "code",
      "execution_count": 46,
      "metadata": {
        "_cell_guid": "b1076dfc-b9ad-4769-8c92-a6c4dae69d19",
        "_uuid": "8f2839f25d086af736a60e9eeb907d3b93b6e0e5",
        "execution": {
          "iopub.execute_input": "2024-03-20T15:50:53.971574Z",
          "iopub.status.busy": "2024-03-20T15:50:53.970357Z",
          "iopub.status.idle": "2024-03-20T15:51:22.748600Z",
          "shell.execute_reply": "2024-03-20T15:51:22.746792Z",
          "shell.execute_reply.started": "2024-03-20T15:50:53.971531Z"
        },
        "id": "J7ToVm-jHRl2",
        "trusted": true
      },
      "outputs": [],
      "source": [
        "import pandas as pd\n",
        "import numpy as np\n",
        "\n",
        "import nltk\n",
        "from nltk.corpus import stopwords\n",
        "\n",
        "\n",
        "from sklearn.feature_extraction.text import TfidfVectorizer\n",
        "from sklearn.linear_model import LogisticRegression\n",
        "from sklearn.metrics import f1_score, accuracy_score\n",
        "from spacy.lang.fr.stop_words import STOP_WORDS as fr_stop\n",
        "from sklearn.model_selection import train_test_split"
      ]
    },
    {
      "cell_type": "markdown",
      "metadata": {
        "id": "mcYqGX78HRl4"
      },
      "source": [
        "# Import and clean datas"
      ]
    },
    {
      "cell_type": "code",
      "execution_count": 47,
      "metadata": {
        "execution": {
          "iopub.execute_input": "2024-03-20T15:51:22.751824Z",
          "iopub.status.busy": "2024-03-20T15:51:22.751035Z",
          "iopub.status.idle": "2024-03-20T15:51:23.274316Z",
          "shell.execute_reply": "2024-03-20T15:51:23.272698Z",
          "shell.execute_reply.started": "2024-03-20T15:51:22.751787Z"
        },
        "id": "JLtxQ_IlHRl5",
        "trusted": true
      },
      "outputs": [],
      "source": [
        "train_df = pd.read_csv(\"../datas/train_data.csv\")"
      ]
    },
    {
      "cell_type": "code",
      "execution_count": 48,
      "metadata": {
        "id": "Md4nnFp3HRl6",
        "trusted": true
      },
      "outputs": [],
      "source": [
        "def remove_newlines(df):\n",
        "    df = df.replace(\"\\n\", '', regex=True)\n",
        "    return df\n",
        "train_df = remove_newlines(train_df)"
      ]
    },
    {
      "cell_type": "code",
      "execution_count": 49,
      "metadata": {
        "colab": {
          "base_uri": "https://localhost:8080/",
          "height": 206
        },
        "id": "-sgjThJTHRl6",
        "outputId": "995a2d7d-511e-424b-cee1-7a9b9bc7bfde",
        "trusted": true
      },
      "outputs": [
        {
          "data": {
            "text/html": [
              "<div>\n",
              "<style scoped>\n",
              "    .dataframe tbody tr th:only-of-type {\n",
              "        vertical-align: middle;\n",
              "    }\n",
              "\n",
              "    .dataframe tbody tr th {\n",
              "        vertical-align: top;\n",
              "    }\n",
              "\n",
              "    .dataframe thead th {\n",
              "        text-align: right;\n",
              "    }\n",
              "</style>\n",
              "<table border=\"1\" class=\"dataframe\">\n",
              "  <thead>\n",
              "    <tr style=\"text-align: right;\">\n",
              "      <th></th>\n",
              "      <th>ID</th>\n",
              "      <th>filename</th>\n",
              "      <th>texte</th>\n",
              "      <th>sexe</th>\n",
              "      <th>date_accident</th>\n",
              "      <th>date_consolidation</th>\n",
              "    </tr>\n",
              "  </thead>\n",
              "  <tbody>\n",
              "    <tr>\n",
              "      <th>0</th>\n",
              "      <td>0</td>\n",
              "      <td>Agen_100515.txt</td>\n",
              "      <td>Le : 12/11/2019  Cour d’appel d’Agen  chambre ...</td>\n",
              "      <td>homme</td>\n",
              "      <td>1991-04-09</td>\n",
              "      <td>n.c.</td>\n",
              "    </tr>\n",
              "    <tr>\n",
              "      <th>1</th>\n",
              "      <td>1</td>\n",
              "      <td>Agen_1100752.txt</td>\n",
              "      <td>Le : 12/11/2019  Cour d’appel d’Agen  chambre ...</td>\n",
              "      <td>homme</td>\n",
              "      <td>2005-06-10</td>\n",
              "      <td>2010-01-19</td>\n",
              "    </tr>\n",
              "    <tr>\n",
              "      <th>2</th>\n",
              "      <td>2</td>\n",
              "      <td>Agen_1613.txt</td>\n",
              "      <td>Le : 12/11/2019  Cour d’appel d’Agen  Audience...</td>\n",
              "      <td>femme</td>\n",
              "      <td>1997-09-26</td>\n",
              "      <td>n.c.</td>\n",
              "    </tr>\n",
              "    <tr>\n",
              "      <th>3</th>\n",
              "      <td>3</td>\n",
              "      <td>Agen_2118.txt</td>\n",
              "      <td>Le : 12/11/2019  Cour d’appel d’Agen  Audience...</td>\n",
              "      <td>femme</td>\n",
              "      <td>1982-08-07</td>\n",
              "      <td>1982-11-07</td>\n",
              "    </tr>\n",
              "    <tr>\n",
              "      <th>4</th>\n",
              "      <td>4</td>\n",
              "      <td>Agen_21229.txt</td>\n",
              "      <td>Le : 12/11/2019  Cour d’appel d’Agen  Audience...</td>\n",
              "      <td>homme</td>\n",
              "      <td>1996-11-26</td>\n",
              "      <td>n.c.</td>\n",
              "    </tr>\n",
              "  </tbody>\n",
              "</table>\n",
              "</div>"
            ],
            "text/plain": [
              "   ID          filename                                              texte  \\\n",
              "0   0   Agen_100515.txt  Le : 12/11/2019  Cour d’appel d’Agen  chambre ...   \n",
              "1   1  Agen_1100752.txt  Le : 12/11/2019  Cour d’appel d’Agen  chambre ...   \n",
              "2   2     Agen_1613.txt  Le : 12/11/2019  Cour d’appel d’Agen  Audience...   \n",
              "3   3     Agen_2118.txt  Le : 12/11/2019  Cour d’appel d’Agen  Audience...   \n",
              "4   4    Agen_21229.txt  Le : 12/11/2019  Cour d’appel d’Agen  Audience...   \n",
              "\n",
              "    sexe date_accident date_consolidation  \n",
              "0  homme    1991-04-09               n.c.  \n",
              "1  homme    2005-06-10         2010-01-19  \n",
              "2  femme    1997-09-26               n.c.  \n",
              "3  femme    1982-08-07         1982-11-07  \n",
              "4  homme    1996-11-26               n.c.  "
            ]
          },
          "execution_count": 49,
          "metadata": {},
          "output_type": "execute_result"
        }
      ],
      "source": [
        "train_df.head()"
      ]
    },
    {
      "cell_type": "markdown",
      "metadata": {
        "id": "95E66Uk_HRl6"
      },
      "source": [
        "# Only keep the sex column"
      ]
    },
    {
      "cell_type": "code",
      "execution_count": 50,
      "metadata": {
        "id": "ZwjQBkgKHRl6",
        "trusted": true
      },
      "outputs": [],
      "source": [
        "train = train_df.drop([\"date_accident\", \"date_consolidation\"], axis=1)"
      ]
    },
    {
      "cell_type": "code",
      "execution_count": 51,
      "metadata": {
        "colab": {
          "base_uri": "https://localhost:8080/"
        },
        "id": "VH0GL0xlHRl6",
        "outputId": "52acdf3a-c5f1-4cb9-b140-d69f28e4c0e8",
        "trusted": true
      },
      "outputs": [
        {
          "name": "stderr",
          "output_type": "stream",
          "text": [
            "[nltk_data] Downloading package stopwords to\n",
            "[nltk_data]     /Users/SamuelLP/nltk_data...\n",
            "[nltk_data]   Package stopwords is already up-to-date!\n"
          ]
        }
      ],
      "source": [
        "nltk.download('stopwords')\n",
        "stop_words = stopwords.words('french')\n",
        "train['texte'] = train[\"texte\"].apply(lambda x: ' '.join([word for word in x.split() if word not in (stop_words)]))"
      ]
    },
    {
      "cell_type": "code",
      "execution_count": 52,
      "metadata": {
        "id": "pmIX_gq8HRl6",
        "trusted": true
      },
      "outputs": [],
      "source": [
        "train = train.drop([\"ID\", \"filename\"], axis=1)"
      ]
    },
    {
      "cell_type": "code",
      "execution_count": 53,
      "metadata": {
        "id": "eNchdtQcHRl7",
        "trusted": true
      },
      "outputs": [],
      "source": [
        "train['text_id'] = np.arange(len(train))"
      ]
    },
    {
      "cell_type": "markdown",
      "metadata": {
        "id": "aZNlltONHRl9"
      },
      "source": [
        "# Let's predict the sex of the victim!"
      ]
    },
    {
      "cell_type": "markdown",
      "metadata": {
        "id": "VgwqR1w7HRl-"
      },
      "source": [
        "## We will use a TF-IDF"
      ]
    },
    {
      "cell_type": "code",
      "execution_count": 62,
      "metadata": {
        "colab": {
          "base_uri": "https://localhost:8080/"
        },
        "id": "pxI5j019HRl-",
        "outputId": "e53b9dc1-4aa8-44e1-c370-9ae35880a7b5",
        "trusted": true
      },
      "outputs": [
        {
          "name": "stderr",
          "output_type": "stream",
          "text": [
            "/Users/SamuelLP/Desktop/git/projet_nlp/.nlp_venv/lib/python3.10/site-packages/sklearn/feature_extraction/text.py:408: UserWarning: Your stop_words may be inconsistent with your preprocessing. Tokenizing the stop words generated tokens ['neuf', 'qu', 'quelqu'] not in stop_words.\n",
            "  warnings.warn(\n"
          ]
        }
      ],
      "source": [
        "X = train[[\"texte\", 'text_id']]\n",
        "\n",
        "vect = TfidfVectorizer(\n",
        "  max_features=5000,\n",
        "  min_df=20,\n",
        "  stop_words=list(fr_stop),\n",
        "  ngram_range=(2, 2),\n",
        "  binary=True)\n",
        "\n",
        "X = vect.fit_transform(train['texte'])\n",
        "train[\"sexe\"] = train[\"sexe\"].replace({'homme':0, \"femme\":1, \"n.c.\": -1})\n",
        "y = train['sexe']\n",
        "\n",
        "X_train, X_test, y_train, y_test = train_test_split(X, y, test_size=0.2, random_state=42)\n",
        "\n",
        "clf = LogisticRegression(random_state=42).fit(X, y)\n",
        "\n",
        "preds = clf.predict((X_test))"
      ]
    },
    {
      "cell_type": "markdown",
      "metadata": {
        "id": "KYDoSxZ7HRl-"
      },
      "source": [
        "# Now, we compute our metrics"
      ]
    },
    {
      "cell_type": "code",
      "execution_count": 63,
      "metadata": {
        "colab": {
          "base_uri": "https://localhost:8080/"
        },
        "id": "dsm_MGh6HRl-",
        "outputId": "d26d70f3-b72f-46ae-e337-52e6be90ed78"
      },
      "outputs": [
        {
          "name": "stdout",
          "output_type": "stream",
          "text": [
            "accuracy: 92.0 %\n",
            "f1: 89.0 %\n"
          ]
        }
      ],
      "source": [
        "print(\"accuracy:\", round(accuracy_score(y_test, preds), 2) * 100, \"%\")\n",
        "print(\"f1:\", round(f1_score(y_test, preds, average='macro'), 2) * 100, \"%\")"
      ]
    },
    {
      "cell_type": "code",
      "execution_count": null,
      "metadata": {},
      "outputs": [],
      "source": []
    }
  ],
  "metadata": {
    "accelerator": "GPU",
    "colab": {
      "gpuType": "T4",
      "provenance": []
    },
    "kaggle": {
      "accelerator": "none",
      "dataSources": [
        {
          "datasetId": 4541802,
          "sourceId": 7765031,
          "sourceType": "datasetVersion"
        }
      ],
      "dockerImageVersionId": 30664,
      "isGpuEnabled": false,
      "isInternetEnabled": true,
      "language": "python",
      "sourceType": "notebook"
    },
    "kernelspec": {
      "display_name": "Python 3",
      "name": "python3"
    },
    "language_info": {
      "codemirror_mode": {
        "name": "ipython",
        "version": 3
      },
      "file_extension": ".py",
      "mimetype": "text/x-python",
      "name": "python",
      "nbconvert_exporter": "python",
      "pygments_lexer": "ipython3",
      "version": "3.10.0"
    }
  },
  "nbformat": 4,
  "nbformat_minor": 0
}
