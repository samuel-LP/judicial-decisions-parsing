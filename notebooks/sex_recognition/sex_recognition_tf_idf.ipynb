{
  "cells": [
    {
      "cell_type": "code",
      "execution_count": 1,
      "metadata": {
        "_cell_guid": "b1076dfc-b9ad-4769-8c92-a6c4dae69d19",
        "_uuid": "8f2839f25d086af736a60e9eeb907d3b93b6e0e5",
        "execution": {
          "iopub.execute_input": "2024-03-20T15:50:53.971574Z",
          "iopub.status.busy": "2024-03-20T15:50:53.970357Z",
          "iopub.status.idle": "2024-03-20T15:51:22.748600Z",
          "shell.execute_reply": "2024-03-20T15:51:22.746792Z",
          "shell.execute_reply.started": "2024-03-20T15:50:53.971531Z"
        },
        "id": "J7ToVm-jHRl2",
        "trusted": true
      },
      "outputs": [],
      "source": [
        "import sys\n",
        "sys.path.append(\"C:/Users/jeann/Desktop/M2/projet_nlp/src\")\n",
        "import pandas as pd\n",
        "\n",
        "from preprocess import Preprocessing\n",
        "\n",
        "\n",
        "from sklearn.feature_extraction.text import TfidfVectorizer\n",
        "from sklearn.linear_model import LogisticRegression\n",
        "from sklearn.metrics import f1_score, accuracy_score\n",
        "from spacy.lang.fr.stop_words import STOP_WORDS as fr_stop\n",
        "from sklearn.model_selection import train_test_split"
      ]
    },
    {
      "cell_type": "markdown",
      "metadata": {
        "id": "mcYqGX78HRl4"
      },
      "source": [
        "# Import datas"
      ]
    },
    {
      "cell_type": "code",
      "execution_count": 2,
      "metadata": {
        "execution": {
          "iopub.execute_input": "2024-03-20T15:51:22.751824Z",
          "iopub.status.busy": "2024-03-20T15:51:22.751035Z",
          "iopub.status.idle": "2024-03-20T15:51:23.274316Z",
          "shell.execute_reply": "2024-03-20T15:51:23.272698Z",
          "shell.execute_reply.started": "2024-03-20T15:51:22.751787Z"
        },
        "id": "JLtxQ_IlHRl5",
        "trusted": true
      },
      "outputs": [],
      "source": [
        "train_df = pd.read_csv(\"../../datas/train_data.csv\")\n",
        "test_df = pd.read_csv(\"../../datas/test_data.csv\")"
      ]
    },
    {
      "cell_type": "code",
      "execution_count": 3,
      "metadata": {},
      "outputs": [
        {
          "data": {
            "text/html": [
              "<div>\n",
              "<style scoped>\n",
              "    .dataframe tbody tr th:only-of-type {\n",
              "        vertical-align: middle;\n",
              "    }\n",
              "\n",
              "    .dataframe tbody tr th {\n",
              "        vertical-align: top;\n",
              "    }\n",
              "\n",
              "    .dataframe thead th {\n",
              "        text-align: right;\n",
              "    }\n",
              "</style>\n",
              "<table border=\"1\" class=\"dataframe\">\n",
              "  <thead>\n",
              "    <tr style=\"text-align: right;\">\n",
              "      <th></th>\n",
              "      <th>ID</th>\n",
              "      <th>filename</th>\n",
              "      <th>texte</th>\n",
              "      <th>sexe</th>\n",
              "      <th>date_accident</th>\n",
              "      <th>date_consolidation</th>\n",
              "    </tr>\n",
              "  </thead>\n",
              "  <tbody>\n",
              "    <tr>\n",
              "      <th>0</th>\n",
              "      <td>0</td>\n",
              "      <td>Agen_100515.txt</td>\n",
              "      <td>Le : 12/11/2019\\n \\n \\nCour d’appel d’Agen \\n ...</td>\n",
              "      <td>homme</td>\n",
              "      <td>1991-04-09</td>\n",
              "      <td>n.c.</td>\n",
              "    </tr>\n",
              "    <tr>\n",
              "      <th>1</th>\n",
              "      <td>1</td>\n",
              "      <td>Agen_1100752.txt</td>\n",
              "      <td>Le : 12/11/2019\\n \\n \\nCour d’appel d’Agen \\n ...</td>\n",
              "      <td>homme</td>\n",
              "      <td>2005-06-10</td>\n",
              "      <td>2010-01-19</td>\n",
              "    </tr>\n",
              "    <tr>\n",
              "      <th>2</th>\n",
              "      <td>2</td>\n",
              "      <td>Agen_1613.txt</td>\n",
              "      <td>Le : 12/11/2019\\n \\n \\nCour d’appel d’Agen \\n ...</td>\n",
              "      <td>femme</td>\n",
              "      <td>1997-09-26</td>\n",
              "      <td>n.c.</td>\n",
              "    </tr>\n",
              "    <tr>\n",
              "      <th>3</th>\n",
              "      <td>3</td>\n",
              "      <td>Agen_2118.txt</td>\n",
              "      <td>Le : 12/11/2019\\n \\n \\nCour d’appel d’Agen \\n ...</td>\n",
              "      <td>femme</td>\n",
              "      <td>1982-08-07</td>\n",
              "      <td>1982-11-07</td>\n",
              "    </tr>\n",
              "    <tr>\n",
              "      <th>4</th>\n",
              "      <td>4</td>\n",
              "      <td>Agen_21229.txt</td>\n",
              "      <td>Le : 12/11/2019\\n \\n \\nCour d’appel d’Agen \\n ...</td>\n",
              "      <td>homme</td>\n",
              "      <td>1996-11-26</td>\n",
              "      <td>n.c.</td>\n",
              "    </tr>\n",
              "    <tr>\n",
              "      <th>...</th>\n",
              "      <td>...</td>\n",
              "      <td>...</td>\n",
              "      <td>...</td>\n",
              "      <td>...</td>\n",
              "      <td>...</td>\n",
              "      <td>...</td>\n",
              "    </tr>\n",
              "    <tr>\n",
              "      <th>765</th>\n",
              "      <td>765</td>\n",
              "      <td>Versailles_602516.txt</td>\n",
              "      <td>Le : 12/11/2019\\n \\n \\nCour d’appel de Versail...</td>\n",
              "      <td>homme</td>\n",
              "      <td>2004-03-09</td>\n",
              "      <td>n.c.</td>\n",
              "    </tr>\n",
              "    <tr>\n",
              "      <th>766</th>\n",
              "      <td>766</td>\n",
              "      <td>Versailles_605885.txt</td>\n",
              "      <td>Le : 12/11/2019\\n \\n \\nCour d’appel de Versail...</td>\n",
              "      <td>femme</td>\n",
              "      <td>1981-05-03</td>\n",
              "      <td>2003-06-25</td>\n",
              "    </tr>\n",
              "    <tr>\n",
              "      <th>767</th>\n",
              "      <td>767</td>\n",
              "      <td>Versailles_61934.txt</td>\n",
              "      <td>Le : 12/11/2019\\n \\n \\nCour d’appel de Versail...</td>\n",
              "      <td>homme</td>\n",
              "      <td>2003-10-26</td>\n",
              "      <td>2004-04-07</td>\n",
              "    </tr>\n",
              "    <tr>\n",
              "      <th>768</th>\n",
              "      <td>768</td>\n",
              "      <td>Versailles_67325.txt</td>\n",
              "      <td>Le : 12/11/2019\\n \\n \\nCour d’appel de Versail...</td>\n",
              "      <td>homme</td>\n",
              "      <td>2003-05-17</td>\n",
              "      <td>n.c.</td>\n",
              "    </tr>\n",
              "    <tr>\n",
              "      <th>769</th>\n",
              "      <td>769</td>\n",
              "      <td>Versailles_903789.txt</td>\n",
              "      <td>Le : 12/11/2019\\n \\n \\nCour d’appel de Versail...</td>\n",
              "      <td>homme</td>\n",
              "      <td>2003-03-10</td>\n",
              "      <td>2004-12-12</td>\n",
              "    </tr>\n",
              "  </tbody>\n",
              "</table>\n",
              "<p>770 rows × 6 columns</p>\n",
              "</div>"
            ],
            "text/plain": [
              "      ID               filename  \\\n",
              "0      0        Agen_100515.txt   \n",
              "1      1       Agen_1100752.txt   \n",
              "2      2          Agen_1613.txt   \n",
              "3      3          Agen_2118.txt   \n",
              "4      4         Agen_21229.txt   \n",
              "..   ...                    ...   \n",
              "765  765  Versailles_602516.txt   \n",
              "766  766  Versailles_605885.txt   \n",
              "767  767   Versailles_61934.txt   \n",
              "768  768   Versailles_67325.txt   \n",
              "769  769  Versailles_903789.txt   \n",
              "\n",
              "                                                 texte   sexe date_accident  \\\n",
              "0    Le : 12/11/2019\\n \\n \\nCour d’appel d’Agen \\n ...  homme    1991-04-09   \n",
              "1    Le : 12/11/2019\\n \\n \\nCour d’appel d’Agen \\n ...  homme    2005-06-10   \n",
              "2    Le : 12/11/2019\\n \\n \\nCour d’appel d’Agen \\n ...  femme    1997-09-26   \n",
              "3    Le : 12/11/2019\\n \\n \\nCour d’appel d’Agen \\n ...  femme    1982-08-07   \n",
              "4    Le : 12/11/2019\\n \\n \\nCour d’appel d’Agen \\n ...  homme    1996-11-26   \n",
              "..                                                 ...    ...           ...   \n",
              "765  Le : 12/11/2019\\n \\n \\nCour d’appel de Versail...  homme    2004-03-09   \n",
              "766  Le : 12/11/2019\\n \\n \\nCour d’appel de Versail...  femme    1981-05-03   \n",
              "767  Le : 12/11/2019\\n \\n \\nCour d’appel de Versail...  homme    2003-10-26   \n",
              "768  Le : 12/11/2019\\n \\n \\nCour d’appel de Versail...  homme    2003-05-17   \n",
              "769  Le : 12/11/2019\\n \\n \\nCour d’appel de Versail...  homme    2003-03-10   \n",
              "\n",
              "    date_consolidation  \n",
              "0                 n.c.  \n",
              "1           2010-01-19  \n",
              "2                 n.c.  \n",
              "3           1982-11-07  \n",
              "4                 n.c.  \n",
              "..                 ...  \n",
              "765               n.c.  \n",
              "766         2003-06-25  \n",
              "767         2004-04-07  \n",
              "768               n.c.  \n",
              "769         2004-12-12  \n",
              "\n",
              "[770 rows x 6 columns]"
            ]
          },
          "execution_count": 3,
          "metadata": {},
          "output_type": "execute_result"
        }
      ],
      "source": [
        "train_df"
      ]
    },
    {
      "cell_type": "code",
      "execution_count": 4,
      "metadata": {},
      "outputs": [
        {
          "data": {
            "text/html": [
              "<div>\n",
              "<style scoped>\n",
              "    .dataframe tbody tr th:only-of-type {\n",
              "        vertical-align: middle;\n",
              "    }\n",
              "\n",
              "    .dataframe tbody tr th {\n",
              "        vertical-align: top;\n",
              "    }\n",
              "\n",
              "    .dataframe thead th {\n",
              "        text-align: right;\n",
              "    }\n",
              "</style>\n",
              "<table border=\"1\" class=\"dataframe\">\n",
              "  <thead>\n",
              "    <tr style=\"text-align: right;\">\n",
              "      <th></th>\n",
              "      <th>ID</th>\n",
              "      <th>filename</th>\n",
              "      <th>texte</th>\n",
              "      <th>sexe</th>\n",
              "      <th>date_accident</th>\n",
              "      <th>date_consolidation</th>\n",
              "    </tr>\n",
              "  </thead>\n",
              "  <tbody>\n",
              "    <tr>\n",
              "      <th>0</th>\n",
              "      <td>770</td>\n",
              "      <td>Agen_1400036.txt</td>\n",
              "      <td>Le : 12/11/2019\\n \\n \\nCour d’appel d’Agen \\n ...</td>\n",
              "      <td>homme</td>\n",
              "      <td>1991-04-09</td>\n",
              "      <td>n.c.</td>\n",
              "    </tr>\n",
              "    <tr>\n",
              "      <th>1</th>\n",
              "      <td>771</td>\n",
              "      <td>Agen_20011399.txt</td>\n",
              "      <td>Le : 12/11/2019\\n \\n \\nCour d’appel d’Agen \\n ...</td>\n",
              "      <td>homme</td>\n",
              "      <td>2005-06-10</td>\n",
              "      <td>2010-01-19</td>\n",
              "    </tr>\n",
              "    <tr>\n",
              "      <th>2</th>\n",
              "      <td>772</td>\n",
              "      <td>Agen_21013.txt</td>\n",
              "      <td>Le : 12/11/2019\\n \\n \\nCour d’appel d’Agen \\n ...</td>\n",
              "      <td>femme</td>\n",
              "      <td>1997-09-26</td>\n",
              "      <td>n.c.</td>\n",
              "    </tr>\n",
              "    <tr>\n",
              "      <th>3</th>\n",
              "      <td>773</td>\n",
              "      <td>Agen_31076.txt</td>\n",
              "      <td>Le : 12/11/2019\\n \\n \\nCour d’appel d’Agen \\n ...</td>\n",
              "      <td>femme</td>\n",
              "      <td>1982-08-07</td>\n",
              "      <td>1982-11-07</td>\n",
              "    </tr>\n",
              "    <tr>\n",
              "      <th>4</th>\n",
              "      <td>774</td>\n",
              "      <td>Agen_3436.txt</td>\n",
              "      <td>Le : 12/11/2019\\n \\n \\nCour d’appel d’Agen \\n ...</td>\n",
              "      <td>homme</td>\n",
              "      <td>1996-11-26</td>\n",
              "      <td>n.c.</td>\n",
              "    </tr>\n",
              "    <tr>\n",
              "      <th>...</th>\n",
              "      <td>...</td>\n",
              "      <td>...</td>\n",
              "      <td>...</td>\n",
              "      <td>...</td>\n",
              "      <td>...</td>\n",
              "      <td>...</td>\n",
              "    </tr>\n",
              "    <tr>\n",
              "      <th>252</th>\n",
              "      <td>1022</td>\n",
              "      <td>Versailles_1102996.txt</td>\n",
              "      <td>Le : 11/11/2019\\n \\n \\nCour d’appel de Versail...</td>\n",
              "      <td>femme</td>\n",
              "      <td>2007-06-16</td>\n",
              "      <td>2009-06-16</td>\n",
              "    </tr>\n",
              "    <tr>\n",
              "      <th>253</th>\n",
              "      <td>1023</td>\n",
              "      <td>Versailles_1404397.txt</td>\n",
              "      <td>Le : 12/11/2019\\n \\n \\nCour d’appel de Versail...</td>\n",
              "      <td>femme</td>\n",
              "      <td>2000-09-12</td>\n",
              "      <td>n.c.</td>\n",
              "    </tr>\n",
              "    <tr>\n",
              "      <th>254</th>\n",
              "      <td>1024</td>\n",
              "      <td>Versailles_1508232.txt</td>\n",
              "      <td>Le : 12/11/2019\\n \\n \\nCour d’appel de Versail...</td>\n",
              "      <td>homme</td>\n",
              "      <td>2007-10-13</td>\n",
              "      <td>n.c.</td>\n",
              "    </tr>\n",
              "    <tr>\n",
              "      <th>255</th>\n",
              "      <td>1025</td>\n",
              "      <td>Versailles_45687.txt</td>\n",
              "      <td>Le : 12/11/2019\\n \\n \\nCour d’appel de Versail...</td>\n",
              "      <td>homme</td>\n",
              "      <td>2007-07-19</td>\n",
              "      <td>n.c.</td>\n",
              "    </tr>\n",
              "    <tr>\n",
              "      <th>256</th>\n",
              "      <td>1026</td>\n",
              "      <td>Versailles_64952.txt</td>\n",
              "      <td>Le : 11/11/2019\\n \\n \\nCour d’appel de Versail...</td>\n",
              "      <td>femme</td>\n",
              "      <td>2005-05-23</td>\n",
              "      <td>n.c.</td>\n",
              "    </tr>\n",
              "  </tbody>\n",
              "</table>\n",
              "<p>257 rows × 6 columns</p>\n",
              "</div>"
            ],
            "text/plain": [
              "       ID                filename  \\\n",
              "0     770        Agen_1400036.txt   \n",
              "1     771       Agen_20011399.txt   \n",
              "2     772          Agen_21013.txt   \n",
              "3     773          Agen_31076.txt   \n",
              "4     774           Agen_3436.txt   \n",
              "..    ...                     ...   \n",
              "252  1022  Versailles_1102996.txt   \n",
              "253  1023  Versailles_1404397.txt   \n",
              "254  1024  Versailles_1508232.txt   \n",
              "255  1025    Versailles_45687.txt   \n",
              "256  1026    Versailles_64952.txt   \n",
              "\n",
              "                                                 texte   sexe date_accident  \\\n",
              "0    Le : 12/11/2019\\n \\n \\nCour d’appel d’Agen \\n ...  homme    1991-04-09   \n",
              "1    Le : 12/11/2019\\n \\n \\nCour d’appel d’Agen \\n ...  homme    2005-06-10   \n",
              "2    Le : 12/11/2019\\n \\n \\nCour d’appel d’Agen \\n ...  femme    1997-09-26   \n",
              "3    Le : 12/11/2019\\n \\n \\nCour d’appel d’Agen \\n ...  femme    1982-08-07   \n",
              "4    Le : 12/11/2019\\n \\n \\nCour d’appel d’Agen \\n ...  homme    1996-11-26   \n",
              "..                                                 ...    ...           ...   \n",
              "252  Le : 11/11/2019\\n \\n \\nCour d’appel de Versail...  femme    2007-06-16   \n",
              "253  Le : 12/11/2019\\n \\n \\nCour d’appel de Versail...  femme    2000-09-12   \n",
              "254  Le : 12/11/2019\\n \\n \\nCour d’appel de Versail...  homme    2007-10-13   \n",
              "255  Le : 12/11/2019\\n \\n \\nCour d’appel de Versail...  homme    2007-07-19   \n",
              "256  Le : 11/11/2019\\n \\n \\nCour d’appel de Versail...  femme    2005-05-23   \n",
              "\n",
              "    date_consolidation  \n",
              "0                 n.c.  \n",
              "1           2010-01-19  \n",
              "2                 n.c.  \n",
              "3           1982-11-07  \n",
              "4                 n.c.  \n",
              "..                 ...  \n",
              "252         2009-06-16  \n",
              "253               n.c.  \n",
              "254               n.c.  \n",
              "255               n.c.  \n",
              "256               n.c.  \n",
              "\n",
              "[257 rows x 6 columns]"
            ]
          },
          "execution_count": 4,
          "metadata": {},
          "output_type": "execute_result"
        }
      ],
      "source": [
        "test_df"
      ]
    },
    {
      "cell_type": "markdown",
      "metadata": {
        "id": "95E66Uk_HRl6"
      },
      "source": [
        "# Only keep the sex column"
      ]
    },
    {
      "cell_type": "code",
      "execution_count": 5,
      "metadata": {
        "id": "ZwjQBkgKHRl6",
        "trusted": true
      },
      "outputs": [],
      "source": [
        "train = train_df.drop([\"date_accident\", \"date_consolidation\", \"ID\", \"filename\"], axis=1)\n",
        "test = test_df.drop([\"date_accident\", \"date_consolidation\", \"ID\", \"filename\"], axis=1)\n",
        "\n",
        "train = train[train[\"sexe\"] != \"n.c.\"]\n"
      ]
    },
    {
      "cell_type": "markdown",
      "metadata": {},
      "source": [
        "# Clean datas"
      ]
    },
    {
      "cell_type": "code",
      "execution_count": 6,
      "metadata": {
        "colab": {
          "base_uri": "https://localhost:8080/"
        },
        "id": "VH0GL0xlHRl6",
        "outputId": "52acdf3a-c5f1-4cb9-b140-d69f28e4c0e8",
        "trusted": true
      },
      "outputs": [
        {
          "data": {
            "text/html": [
              "<div>\n",
              "<style scoped>\n",
              "    .dataframe tbody tr th:only-of-type {\n",
              "        vertical-align: middle;\n",
              "    }\n",
              "\n",
              "    .dataframe tbody tr th {\n",
              "        vertical-align: top;\n",
              "    }\n",
              "\n",
              "    .dataframe thead th {\n",
              "        text-align: right;\n",
              "    }\n",
              "</style>\n",
              "<table border=\"1\" class=\"dataframe\">\n",
              "  <thead>\n",
              "    <tr style=\"text-align: right;\">\n",
              "      <th></th>\n",
              "      <th>texte</th>\n",
              "      <th>sexe</th>\n",
              "    </tr>\n",
              "  </thead>\n",
              "  <tbody>\n",
              "    <tr>\n",
              "      <th>0</th>\n",
              "      <td>Le : 12/11/2019 Cour d’appel d’Agen chambre so...</td>\n",
              "      <td>homme</td>\n",
              "    </tr>\n",
              "    <tr>\n",
              "      <th>1</th>\n",
              "      <td>Le : 12/11/2019 Cour d’appel d’Agen chambre ci...</td>\n",
              "      <td>homme</td>\n",
              "    </tr>\n",
              "    <tr>\n",
              "      <th>2</th>\n",
              "      <td>Le : 12/11/2019 Cour d’appel d’Agen Audience p...</td>\n",
              "      <td>femme</td>\n",
              "    </tr>\n",
              "    <tr>\n",
              "      <th>3</th>\n",
              "      <td>Le : 12/11/2019 Cour d’appel d’Agen Audience p...</td>\n",
              "      <td>femme</td>\n",
              "    </tr>\n",
              "    <tr>\n",
              "      <th>4</th>\n",
              "      <td>Le : 12/11/2019 Cour d’appel d’Agen Audience p...</td>\n",
              "      <td>homme</td>\n",
              "    </tr>\n",
              "  </tbody>\n",
              "</table>\n",
              "</div>"
            ],
            "text/plain": [
              "                                               texte   sexe\n",
              "0  Le : 12/11/2019 Cour d’appel d’Agen chambre so...  homme\n",
              "1  Le : 12/11/2019 Cour d’appel d’Agen chambre ci...  homme\n",
              "2  Le : 12/11/2019 Cour d’appel d’Agen Audience p...  femme\n",
              "3  Le : 12/11/2019 Cour d’appel d’Agen Audience p...  femme\n",
              "4  Le : 12/11/2019 Cour d’appel d’Agen Audience p...  homme"
            ]
          },
          "execution_count": 6,
          "metadata": {},
          "output_type": "execute_result"
        }
      ],
      "source": [
        "preprocess_train = Preprocessing(train)\n",
        "\n",
        "train = preprocess_train.remove_newlines()\n",
        "train = preprocess_train.remove_stopwords()\n",
        "\n",
        "train.head()\n"
      ]
    },
    {
      "cell_type": "code",
      "execution_count": 7,
      "metadata": {},
      "outputs": [
        {
          "data": {
            "text/html": [
              "<div>\n",
              "<style scoped>\n",
              "    .dataframe tbody tr th:only-of-type {\n",
              "        vertical-align: middle;\n",
              "    }\n",
              "\n",
              "    .dataframe tbody tr th {\n",
              "        vertical-align: top;\n",
              "    }\n",
              "\n",
              "    .dataframe thead th {\n",
              "        text-align: right;\n",
              "    }\n",
              "</style>\n",
              "<table border=\"1\" class=\"dataframe\">\n",
              "  <thead>\n",
              "    <tr style=\"text-align: right;\">\n",
              "      <th></th>\n",
              "      <th>texte</th>\n",
              "      <th>sexe</th>\n",
              "    </tr>\n",
              "  </thead>\n",
              "  <tbody>\n",
              "    <tr>\n",
              "      <th>0</th>\n",
              "      <td>Le : 12/11/2019 Cour d’appel d’Agen chambre so...</td>\n",
              "      <td>homme</td>\n",
              "    </tr>\n",
              "    <tr>\n",
              "      <th>1</th>\n",
              "      <td>Le : 12/11/2019 Cour d’appel d’Agen chambre so...</td>\n",
              "      <td>homme</td>\n",
              "    </tr>\n",
              "    <tr>\n",
              "      <th>2</th>\n",
              "      <td>Le : 12/11/2019 Cour d’appel d’Agen Audience p...</td>\n",
              "      <td>femme</td>\n",
              "    </tr>\n",
              "    <tr>\n",
              "      <th>3</th>\n",
              "      <td>Le : 12/11/2019 Cour d’appel d’Agen Audience p...</td>\n",
              "      <td>femme</td>\n",
              "    </tr>\n",
              "    <tr>\n",
              "      <th>4</th>\n",
              "      <td>Le : 12/11/2019 Cour d’appel d’Agen Audience p...</td>\n",
              "      <td>homme</td>\n",
              "    </tr>\n",
              "  </tbody>\n",
              "</table>\n",
              "</div>"
            ],
            "text/plain": [
              "                                               texte   sexe\n",
              "0  Le : 12/11/2019 Cour d’appel d’Agen chambre so...  homme\n",
              "1  Le : 12/11/2019 Cour d’appel d’Agen chambre so...  homme\n",
              "2  Le : 12/11/2019 Cour d’appel d’Agen Audience p...  femme\n",
              "3  Le : 12/11/2019 Cour d’appel d’Agen Audience p...  femme\n",
              "4  Le : 12/11/2019 Cour d’appel d’Agen Audience p...  homme"
            ]
          },
          "execution_count": 7,
          "metadata": {},
          "output_type": "execute_result"
        }
      ],
      "source": [
        "preprocess_test = Preprocessing(test)\n",
        "\n",
        "test = preprocess_test.remove_newlines()\n",
        "test = preprocess_test.remove_stopwords()\n",
        "\n",
        "\n",
        "test.head()"
      ]
    },
    {
      "cell_type": "code",
      "execution_count": 8,
      "metadata": {},
      "outputs": [
        {
          "data": {
            "text/plain": [
              "sexe\n",
              "homme    184\n",
              "femme     73\n",
              "Name: count, dtype: int64"
            ]
          },
          "execution_count": 8,
          "metadata": {},
          "output_type": "execute_result"
        }
      ],
      "source": [
        "test[\"sexe\"].value_counts()"
      ]
    },
    {
      "cell_type": "markdown",
      "metadata": {
        "id": "aZNlltONHRl9"
      },
      "source": [
        "# Let's predict the sex of the victim!"
      ]
    },
    {
      "cell_type": "markdown",
      "metadata": {
        "id": "VgwqR1w7HRl-"
      },
      "source": [
        "## We will use a TF-IDF"
      ]
    },
    {
      "cell_type": "code",
      "execution_count": 46,
      "metadata": {
        "colab": {
          "base_uri": "https://localhost:8080/"
        },
        "id": "pxI5j019HRl-",
        "outputId": "e53b9dc1-4aa8-44e1-c370-9ae35880a7b5",
        "trusted": true
      },
      "outputs": [
        {
          "name": "stderr",
          "output_type": "stream",
          "text": [
            "c:\\Users\\jeann\\Desktop\\M2\\projet_nlp\\.venv_nlp\\Lib\\site-packages\\sklearn\\feature_extraction\\text.py:408: UserWarning: Your stop_words may be inconsistent with your preprocessing. Tokenizing the stop words generated tokens ['neuf', 'qu', 'quelqu'] not in stop_words.\n",
            "  warnings.warn(\n"
          ]
        }
      ],
      "source": [
        "vect = TfidfVectorizer(\n",
        "  max_features=5000,\n",
        "  min_df=200,\n",
        "  stop_words=list(fr_stop),\n",
        "  ngram_range=(3, 3),\n",
        "  binary=True)\n",
        "\n",
        "X_train = vect.fit_transform(train['texte'])\n",
        "X_test = vect.transform(test['texte'])\n",
        "\n",
        "train[\"sexe\"] = train[\"sexe\"].replace({'homme': 0,\n",
        "                                       \"femme\": 1})\n",
        "\n",
        "test[\"sexe\"] = test[\"sexe\"].replace({'homme': 0,\n",
        "                                       \"femme\": 1})\n",
        "y_train = train['sexe']\n",
        "y_test = test['sexe']\n",
        "\n",
        "# X_train, X_test, y_train, y_test = train_test_split(X, y, test_size=0.2, random_state=42)\n",
        "\n",
        "clf = LogisticRegression(C=1.2, random_state=1).fit(X_train, y_train)\n",
        "\n",
        "preds = clf.predict((X_test))"
      ]
    },
    {
      "cell_type": "code",
      "execution_count": 50,
      "metadata": {},
      "outputs": [],
      "source": [
        "y_train_pred=clf.predict(X_train)"
      ]
    },
    {
      "cell_type": "code",
      "execution_count": 51,
      "metadata": {},
      "outputs": [
        {
          "data": {
            "text/plain": [
              "0.73"
            ]
          },
          "execution_count": 51,
          "metadata": {},
          "output_type": "execute_result"
        }
      ],
      "source": [
        "round(accuracy_score(y_train, y_train_pred), 2)"
      ]
    },
    {
      "cell_type": "code",
      "execution_count": 47,
      "metadata": {},
      "outputs": [
        {
          "data": {
            "text/plain": [
              "(765, 73)"
            ]
          },
          "execution_count": 47,
          "metadata": {},
          "output_type": "execute_result"
        }
      ],
      "source": [
        "X_train.shape"
      ]
    },
    {
      "cell_type": "code",
      "execution_count": 48,
      "metadata": {},
      "outputs": [
        {
          "data": {
            "text/plain": [
              "(257, 73)"
            ]
          },
          "execution_count": 48,
          "metadata": {},
          "output_type": "execute_result"
        }
      ],
      "source": [
        "X_test.shape"
      ]
    },
    {
      "cell_type": "code",
      "execution_count": 39,
      "metadata": {},
      "outputs": [],
      "source": [
        "# import optuna\n",
        "# from sklearn.model_selection import train_test_split\n",
        "# from sklearn.linear_model import LogisticRegression\n",
        "# from sklearn.metrics import accuracy_score\n",
        "\n",
        "# # Définition de la fonction objectif pour Optuna\n",
        "# def objective(trial):\n",
        "#     # Paramètres à optimiser\n",
        "#     penalty = trial.suggest_categorical('penalty', ['l1', 'l2'])\n",
        "#     C = trial.suggest_loguniform('C', 0.01, 10.0)\n",
        "#     class_weight = trial.suggest_categorical('class_weight', [None, 'balanced'])\n",
        "#     solver = trial.suggest_categorical('solver', ['liblinear', 'saga'])\n",
        "#     max_iter = trial.suggest_int('max_iter', 100, 1000)\n",
        "\n",
        "#     # Création du modèle de régression logistique avec les hyperparamètres suggérés par Optuna\n",
        "#     model = LogisticRegression(penalty=penalty, C=C, class_weight=class_weight, solver=solver, max_iter=max_iter)\n",
        "\n",
        "#     # Séparation des données en ensembles d'entraînement et de test\n",
        "\n",
        "#     # Entraînement du modèle\n",
        "#     model.fit(X_train, y_train)\n",
        "\n",
        "#     # Prédiction sur l'ensemble de test\n",
        "#     y_pred = model.predict(X_test)\n",
        "\n",
        "#     # Calcul de l'accuracy\n",
        "#     accuracy = accuracy_score(y_test, y_pred)\n",
        "\n",
        "#     return accuracy"
      ]
    },
    {
      "cell_type": "code",
      "execution_count": 40,
      "metadata": {},
      "outputs": [],
      "source": [
        "# # Optimisation des hyperparamètres avec Optuna\n",
        "# study = optuna.create_study(direction='maximize')\n",
        "# study.optimize(objective, n_trials=1000)\n",
        "\n",
        "# # Affichage des meilleurs hyperparamètres et de la valeur de l'objectif\n",
        "# print('Best trial:')\n",
        "# best_trial = study.best_trial\n",
        "# print('  Value: {:.3f}'.format(best_trial.value))\n",
        "# print('  Params: ')\n",
        "# for key, value in best_trial.params.items():\n",
        "#     print('    {}: {}'.format(key, value))"
      ]
    },
    {
      "cell_type": "markdown",
      "metadata": {
        "id": "KYDoSxZ7HRl-"
      },
      "source": [
        "# Now, we compute our metrics"
      ]
    },
    {
      "cell_type": "code",
      "execution_count": 49,
      "metadata": {
        "colab": {
          "base_uri": "https://localhost:8080/"
        },
        "id": "dsm_MGh6HRl-",
        "outputId": "d26d70f3-b72f-46ae-e337-52e6be90ed78"
      },
      "outputs": [
        {
          "name": "stdout",
          "output_type": "stream",
          "text": [
            "accuracy: 72.0 %\n",
            "f1: 42.0 %\n"
          ]
        }
      ],
      "source": [
        "print(\"accuracy:\", round(accuracy_score(y_test, preds), 2) * 100, \"%\")\n",
        "print(\"f1:\", round(f1_score(y_test, preds, average='macro'), 2) * 100, \"%\")"
      ]
    },
    {
      "cell_type": "code",
      "execution_count": null,
      "metadata": {},
      "outputs": [],
      "source": []
    }
  ],
  "metadata": {
    "accelerator": "GPU",
    "colab": {
      "gpuType": "T4",
      "provenance": []
    },
    "kaggle": {
      "accelerator": "none",
      "dataSources": [
        {
          "datasetId": 4541802,
          "sourceId": 7765031,
          "sourceType": "datasetVersion"
        }
      ],
      "dockerImageVersionId": 30664,
      "isGpuEnabled": false,
      "isInternetEnabled": true,
      "language": "python",
      "sourceType": "notebook"
    },
    "kernelspec": {
      "display_name": "Python 3",
      "name": "python3"
    },
    "language_info": {
      "codemirror_mode": {
        "name": "ipython",
        "version": 3
      },
      "file_extension": ".py",
      "mimetype": "text/x-python",
      "name": "python",
      "nbconvert_exporter": "python",
      "pygments_lexer": "ipython3",
      "version": "3.11.7"
    }
  },
  "nbformat": 4,
  "nbformat_minor": 0
}
