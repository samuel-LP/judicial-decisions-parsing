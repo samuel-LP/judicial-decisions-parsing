{
 "cells": [
  {
   "cell_type": "code",
   "execution_count": 3,
   "metadata": {},
   "outputs": [],
   "source": [
    "import sys\n",
    "\n",
    "sys.path.append(\"../src\")\n",
    "\n",
    "import pandas as pd\n",
    "import getpass\n",
    "import os\n",
    "\n",
    "from rag_preprocess import Preprocessing\n",
    "from date_normalization import DateNormalization\n",
    "from retrieval import RetrievalAugmentedGenerator\n",
    "from metrics import Metrics"
   ]
  },
  {
   "cell_type": "markdown",
   "metadata": {},
   "source": [
    "# Import and preprocess our datas"
   ]
  },
  {
   "cell_type": "code",
   "execution_count": 2,
   "metadata": {},
   "outputs": [
    {
     "data": {
      "text/html": [
       "<div>\n",
       "<style scoped>\n",
       "    .dataframe tbody tr th:only-of-type {\n",
       "        vertical-align: middle;\n",
       "    }\n",
       "\n",
       "    .dataframe tbody tr th {\n",
       "        vertical-align: top;\n",
       "    }\n",
       "\n",
       "    .dataframe thead th {\n",
       "        text-align: right;\n",
       "    }\n",
       "</style>\n",
       "<table border=\"1\" class=\"dataframe\">\n",
       "  <thead>\n",
       "    <tr style=\"text-align: right;\">\n",
       "      <th></th>\n",
       "      <th>filename</th>\n",
       "      <th>texte</th>\n",
       "      <th>date_accident</th>\n",
       "      <th>date_consolidation</th>\n",
       "    </tr>\n",
       "  </thead>\n",
       "  <tbody>\n",
       "    <tr>\n",
       "      <th>0</th>\n",
       "      <td>Agen_100515.txt</td>\n",
       "      <td>Le 12 11 2019 Cour appel Agen chambre sociale ...</td>\n",
       "      <td>1991-04-09</td>\n",
       "      <td>n.c.</td>\n",
       "    </tr>\n",
       "    <tr>\n",
       "      <th>1</th>\n",
       "      <td>Agen_1100752.txt</td>\n",
       "      <td>Le 12 11 2019 Cour appel Agen chambre civile A...</td>\n",
       "      <td>2005-06-10</td>\n",
       "      <td>2010-01-19</td>\n",
       "    </tr>\n",
       "    <tr>\n",
       "      <th>2</th>\n",
       "      <td>Agen_1613.txt</td>\n",
       "      <td>Le 12 11 2019 Cour appel Agen Audience publiqu...</td>\n",
       "      <td>1997-09-26</td>\n",
       "      <td>n.c.</td>\n",
       "    </tr>\n",
       "    <tr>\n",
       "      <th>3</th>\n",
       "      <td>Agen_2118.txt</td>\n",
       "      <td>Le 12 11 2019 Cour appel Agen Audience publiqu...</td>\n",
       "      <td>1982-08-07</td>\n",
       "      <td>1982-11-07</td>\n",
       "    </tr>\n",
       "    <tr>\n",
       "      <th>4</th>\n",
       "      <td>Agen_21229.txt</td>\n",
       "      <td>Le 12 11 2019 Cour appel Agen Audience publiqu...</td>\n",
       "      <td>1996-11-26</td>\n",
       "      <td>n.c.</td>\n",
       "    </tr>\n",
       "  </tbody>\n",
       "</table>\n",
       "</div>"
      ],
      "text/plain": [
       "           filename                                              texte  \\\n",
       "0   Agen_100515.txt  Le 12 11 2019 Cour appel Agen chambre sociale ...   \n",
       "1  Agen_1100752.txt  Le 12 11 2019 Cour appel Agen chambre civile A...   \n",
       "2     Agen_1613.txt  Le 12 11 2019 Cour appel Agen Audience publiqu...   \n",
       "3     Agen_2118.txt  Le 12 11 2019 Cour appel Agen Audience publiqu...   \n",
       "4    Agen_21229.txt  Le 12 11 2019 Cour appel Agen Audience publiqu...   \n",
       "\n",
       "  date_accident date_consolidation  \n",
       "0    1991-04-09               n.c.  \n",
       "1    2005-06-10         2010-01-19  \n",
       "2    1997-09-26               n.c.  \n",
       "3    1982-08-07         1982-11-07  \n",
       "4    1996-11-26               n.c.  "
      ]
     },
     "execution_count": 2,
     "metadata": {},
     "output_type": "execute_result"
    }
   ],
   "source": [
    "ner_df = pd.read_csv(\"../ner_dfs/passages_dates.csv\")\n",
    "preprocess = Preprocessing(ner_df)\n",
    "ner_df = preprocess.remove_stopwords()\n",
    "ner_df.head()"
   ]
  },
  {
   "cell_type": "markdown",
   "metadata": {},
   "source": [
    "# Insert your OpenAI API key here"
   ]
  },
  {
   "cell_type": "code",
   "execution_count": 3,
   "metadata": {},
   "outputs": [],
   "source": [
    "os.environ[\"OPENAI_API_KEY\"] = getpass.getpass(\"Enter your OpenAI key:\")"
   ]
  },
  {
   "cell_type": "markdown",
   "metadata": {},
   "source": [
    "# Choose your OpenAI and Embedding models"
   ]
  },
  {
   "cell_type": "code",
   "execution_count": 6,
   "metadata": {},
   "outputs": [],
   "source": [
    "OPENAI_MODEL = \"gpt-3.5-turbo\"\n",
    "EMBEDDING_MODEL_NAME = \"xlm-r-distilroberta-base-paraphrase-v1\""
   ]
  },
  {
   "cell_type": "markdown",
   "metadata": {},
   "source": [
    "# We ask our RAG to predict the date of accident"
   ]
  },
  {
   "cell_type": "code",
   "execution_count": null,
   "metadata": {},
   "outputs": [],
   "source": [
    "query = \"what is the date of accident?\"\n",
    "my_RAG = RetrievalAugmentedGenerator(ner_df, query, OPENAI_MODEL, EMBEDDING_MODEL_NAME)\n",
    "\n",
    "res_date_accident = my_RAG.retriver()"
   ]
  },
  {
   "cell_type": "markdown",
   "metadata": {},
   "source": [
    "# Same for the date of consolidation"
   ]
  },
  {
   "cell_type": "code",
   "execution_count": 10,
   "metadata": {},
   "outputs": [
    {
     "name": "stderr",
     "output_type": "stream",
     "text": [
      "100%|██████████| 10/10 [00:19<00:00,  1.91s/it]\n"
     ]
    }
   ],
   "source": [
    "query = \"what is the date of consolidation?\"\n",
    "my_RAG = RetrievalAugmentedGenerator(ner_df, query, OPENAI_MODEL, EMBEDDING_MODEL_NAME)\n",
    "\n",
    "res_date_consolidation = my_RAG.retriver()"
   ]
  },
  {
   "cell_type": "markdown",
   "metadata": {},
   "source": [
    "# We add our results in the dataframe"
   ]
  },
  {
   "cell_type": "code",
   "execution_count": null,
   "metadata": {},
   "outputs": [],
   "source": [
    "ner_df[\"date_accident_pred\"] = res_date_accident\n",
    "ner_df[\"date_consolidation_pred\"] = res_date_consolidation"
   ]
  },
  {
   "cell_type": "markdown",
   "metadata": {},
   "source": [
    "# We clean the results to have the same format as the true labels"
   ]
  },
  {
   "cell_type": "code",
   "execution_count": null,
   "metadata": {},
   "outputs": [],
   "source": [
    "ner_df['date_accident_pred'] = ner_df['date_accident_pred'].apply(lambda x: DateNormalization(x).extract_and_reformat_date())\n",
    "ner_df['date_consolidation_pred'] = ner_df['date_consolidation_pred'].apply(lambda x: DateNormalization(x).extract_and_reformat_date())"
   ]
  },
  {
   "cell_type": "markdown",
   "metadata": {},
   "source": [
    "# Now, we compute our metrics"
   ]
  },
  {
   "cell_type": "code",
   "execution_count": 4,
   "metadata": {},
   "outputs": [],
   "source": [
    "for_accident = Metrics(ner_df, 'date_accident', 'date_accident_pred')\n",
    "for_consolidation = Metrics(ner_df, 'date_consolidation', 'date_consolidation_pred')"
   ]
  },
  {
   "cell_type": "code",
   "execution_count": 5,
   "metadata": {},
   "outputs": [
    {
     "name": "stdout",
     "output_type": "stream",
     "text": [
      "Accuracy accident: 52.0%\n",
      "Accuracy consolidation: 42.0%\n"
     ]
    }
   ],
   "source": [
    "accuracy_accident = for_accident.accuracy()\n",
    "accuracy_consolidation = for_consolidation.accuracy()\n",
    "\n",
    "print(f\"Accuracy accident: {round(accuracy_accident, 2)*100}%\")\n",
    "print(f\"Accuracy consolidation: {round(accuracy_consolidation, 2)*100}%\")"
   ]
  },
  {
   "cell_type": "code",
   "execution_count": 6,
   "metadata": {},
   "outputs": [
    {
     "name": "stdout",
     "output_type": "stream",
     "text": [
      "f1 accident: 68.0%\n",
      "f1 consolidation: 59.0%\n"
     ]
    }
   ],
   "source": [
    "f1_accident = for_accident.f1()\n",
    "f1_consolidation = for_consolidation.f1()\n",
    "\n",
    "print(f\"f1 accident: {round(f1_accident, 2)*100}%\")\n",
    "print(f\"f1 consolidation: {round(f1_consolidation, 2)*100}%\")"
   ]
  },
  {
   "cell_type": "code",
   "execution_count": null,
   "metadata": {},
   "outputs": [],
   "source": []
  }
 ],
 "metadata": {
  "kernelspec": {
   "display_name": ".nlp_venv",
   "language": "python",
   "name": "python3"
  },
  "language_info": {
   "codemirror_mode": {
    "name": "ipython",
    "version": 3
   },
   "file_extension": ".py",
   "mimetype": "text/x-python",
   "name": "python",
   "nbconvert_exporter": "python",
   "pygments_lexer": "ipython3",
   "version": "3.10.0"
  }
 },
 "nbformat": 4,
 "nbformat_minor": 2
}
