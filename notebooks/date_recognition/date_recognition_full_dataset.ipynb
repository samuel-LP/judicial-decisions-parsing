{
 "cells": [
  {
   "cell_type": "code",
   "execution_count": 2,
   "metadata": {},
   "outputs": [],
   "source": [
    "import sys\n",
    "\n",
    "sys.path.append(\"../src\")\n",
    "\n",
    "import pandas as pd\n",
    "import getpass\n",
    "import os\n",
    "\n",
    "from preprocess import Preprocessing\n",
    "from date_normalization import DateNormalization\n",
    "from retrieval import RetrievalAugmentedGenerator\n",
    "from metrics import Metrics"
   ]
  },
  {
   "cell_type": "markdown",
   "metadata": {},
   "source": [
    "# Import and preprocess our datas"
   ]
  },
  {
   "cell_type": "code",
   "execution_count": 2,
   "metadata": {},
   "outputs": [
    {
     "data": {
      "text/html": [
       "<div>\n",
       "<style scoped>\n",
       "    .dataframe tbody tr th:only-of-type {\n",
       "        vertical-align: middle;\n",
       "    }\n",
       "\n",
       "    .dataframe tbody tr th {\n",
       "        vertical-align: top;\n",
       "    }\n",
       "\n",
       "    .dataframe thead th {\n",
       "        text-align: right;\n",
       "    }\n",
       "</style>\n",
       "<table border=\"1\" class=\"dataframe\">\n",
       "  <thead>\n",
       "    <tr style=\"text-align: right;\">\n",
       "      <th></th>\n",
       "      <th>ID</th>\n",
       "      <th>filename</th>\n",
       "      <th>texte</th>\n",
       "      <th>sexe</th>\n",
       "      <th>date_accident</th>\n",
       "      <th>date_consolidation</th>\n",
       "    </tr>\n",
       "  </thead>\n",
       "  <tbody>\n",
       "    <tr>\n",
       "      <th>0</th>\n",
       "      <td>0</td>\n",
       "      <td>Agen_100515.txt</td>\n",
       "      <td>Le : 12/11/2019 Cour d’appel d’Agen chambre so...</td>\n",
       "      <td>homme</td>\n",
       "      <td>1991-04-09</td>\n",
       "      <td>n.c.</td>\n",
       "    </tr>\n",
       "    <tr>\n",
       "      <th>1</th>\n",
       "      <td>1</td>\n",
       "      <td>Agen_1100752.txt</td>\n",
       "      <td>Le : 12/11/2019 Cour d’appel d’Agen chambre ci...</td>\n",
       "      <td>homme</td>\n",
       "      <td>2005-06-10</td>\n",
       "      <td>2010-01-19</td>\n",
       "    </tr>\n",
       "    <tr>\n",
       "      <th>2</th>\n",
       "      <td>2</td>\n",
       "      <td>Agen_1613.txt</td>\n",
       "      <td>Le : 12/11/2019 Cour d’appel d’Agen Audience p...</td>\n",
       "      <td>femme</td>\n",
       "      <td>1997-09-26</td>\n",
       "      <td>n.c.</td>\n",
       "    </tr>\n",
       "    <tr>\n",
       "      <th>3</th>\n",
       "      <td>3</td>\n",
       "      <td>Agen_2118.txt</td>\n",
       "      <td>Le : 12/11/2019 Cour d’appel d’Agen Audience p...</td>\n",
       "      <td>femme</td>\n",
       "      <td>1982-08-07</td>\n",
       "      <td>1982-11-07</td>\n",
       "    </tr>\n",
       "    <tr>\n",
       "      <th>4</th>\n",
       "      <td>4</td>\n",
       "      <td>Agen_21229.txt</td>\n",
       "      <td>Le : 12/11/2019 Cour d’appel d’Agen Audience p...</td>\n",
       "      <td>homme</td>\n",
       "      <td>1996-11-26</td>\n",
       "      <td>n.c.</td>\n",
       "    </tr>\n",
       "  </tbody>\n",
       "</table>\n",
       "</div>"
      ],
      "text/plain": [
       "   ID          filename                                              texte  \\\n",
       "0   0   Agen_100515.txt  Le : 12/11/2019 Cour d’appel d’Agen chambre so...   \n",
       "1   1  Agen_1100752.txt  Le : 12/11/2019 Cour d’appel d’Agen chambre ci...   \n",
       "2   2     Agen_1613.txt  Le : 12/11/2019 Cour d’appel d’Agen Audience p...   \n",
       "3   3     Agen_2118.txt  Le : 12/11/2019 Cour d’appel d’Agen Audience p...   \n",
       "4   4    Agen_21229.txt  Le : 12/11/2019 Cour d’appel d’Agen Audience p...   \n",
       "\n",
       "    sexe date_accident date_consolidation  \n",
       "0  homme    1991-04-09               n.c.  \n",
       "1  homme    2005-06-10         2010-01-19  \n",
       "2  femme    1997-09-26               n.c.  \n",
       "3  femme    1982-08-07         1982-11-07  \n",
       "4  homme    1996-11-26               n.c.  "
      ]
     },
     "execution_count": 2,
     "metadata": {},
     "output_type": "execute_result"
    }
   ],
   "source": [
    "full_df = pd.read_csv(\"../datas/train_data.csv\")\n",
    "preprocess = Preprocessing(full_df)\n",
    "full_df = preprocess.remove_stopwords()\n",
    "full_df.head()"
   ]
  },
  {
   "cell_type": "markdown",
   "metadata": {},
   "source": [
    "# Insert your OpenAI API key here"
   ]
  },
  {
   "cell_type": "code",
   "execution_count": 3,
   "metadata": {},
   "outputs": [],
   "source": [
    "os.environ[\"OPENAI_API_KEY\"] = getpass.getpass(\"Enter your OpenAI key:\")"
   ]
  },
  {
   "cell_type": "markdown",
   "metadata": {},
   "source": [
    "# Choose your OpenAI and Embedding models"
   ]
  },
  {
   "cell_type": "code",
   "execution_count": 4,
   "metadata": {},
   "outputs": [],
   "source": [
    "OPENAI_MODEL = \"gpt-3.5-turbo\"\n",
    "EMBEDDING_MODEL_NAME = \"dangvantuan/sentence-camembert-large\""
   ]
  },
  {
   "cell_type": "markdown",
   "metadata": {},
   "source": [
    "# We ask our RAG to predict the date of accident"
   ]
  },
  {
   "cell_type": "code",
   "execution_count": 9,
   "metadata": {},
   "outputs": [
    {
     "name": "stderr",
     "output_type": "stream",
     "text": [
      "100%|██████████| 10/10 [00:26<00:00,  2.62s/it]\n"
     ]
    }
   ],
   "source": [
    "query = \"what is the date of accident?\"\n",
    "my_RAG = RetrievalAugmentedGenerator(full_df, query, OPENAI_MODEL, EMBEDDING_MODEL_NAME)\n",
    "\n",
    "res_date_accident = my_RAG.retriver()\n"
   ]
  },
  {
   "cell_type": "markdown",
   "metadata": {},
   "source": [
    "# Same for the date of consolidation"
   ]
  },
  {
   "cell_type": "code",
   "execution_count": 10,
   "metadata": {},
   "outputs": [
    {
     "name": "stderr",
     "output_type": "stream",
     "text": [
      "100%|██████████| 10/10 [00:19<00:00,  1.91s/it]\n"
     ]
    }
   ],
   "source": [
    "query = \"what is the date of consolidation?\"\n",
    "my_RAG = RetrievalAugmentedGenerator(full_df, query, OPENAI_MODEL, EMBEDDING_MODEL_NAME)\n",
    "\n",
    "res_date_consolidation = my_RAG.retriver()"
   ]
  },
  {
   "cell_type": "markdown",
   "metadata": {},
   "source": [
    "# We add our results in the dataframe"
   ]
  },
  {
   "cell_type": "code",
   "execution_count": null,
   "metadata": {},
   "outputs": [],
   "source": [
    "full_df[\"date_accident_pred\"] = res_date_accident\n",
    "full_df[\"date_consolidation_pred\"] = res_date_consolidation"
   ]
  },
  {
   "cell_type": "markdown",
   "metadata": {},
   "source": [
    "# We clean the results to have the same format as the true labels"
   ]
  },
  {
   "cell_type": "code",
   "execution_count": null,
   "metadata": {},
   "outputs": [],
   "source": [
    "full_df['date_accident_pred'] = full_df['date_accident_pred'].apply(lambda x: DateNormalization(x).extract_and_reformat_date())\n",
    "full_df['date_consolidation_pred'] = full_df['date_consolidation_pred'].apply(lambda x: DateNormalization(x).extract_and_reformat_date())"
   ]
  },
  {
   "cell_type": "markdown",
   "metadata": {},
   "source": [
    "# Now, we compute our metrics"
   ]
  },
  {
   "cell_type": "code",
   "execution_count": 8,
   "metadata": {},
   "outputs": [],
   "source": [
    "for_accident = Metrics(full_df, 'date_accident', 'date_accident_pred')\n",
    "for_consolidation = Metrics(full_df, 'date_consolidation', 'date_consolidation_pred')"
   ]
  },
  {
   "cell_type": "code",
   "execution_count": 14,
   "metadata": {},
   "outputs": [
    {
     "name": "stdout",
     "output_type": "stream",
     "text": [
      "Accuracy accident: 71.0%\n",
      "Accuracy consolidation: 55.00000000000001%\n"
     ]
    }
   ],
   "source": [
    "accuracy_accident = for_accident.accuracy()\n",
    "accuracy_consolidation = for_consolidation.accuracy()\n",
    "\n",
    "print(f\"Accuracy accident: {round(accuracy_accident, 2)*100}%\")\n",
    "print(f\"Accuracy consolidation: {round(accuracy_consolidation, 2)*100}%\")"
   ]
  },
  {
   "cell_type": "code",
   "execution_count": 15,
   "metadata": {},
   "outputs": [
    {
     "name": "stdout",
     "output_type": "stream",
     "text": [
      "f1 accident: 83.0%\n",
      "f1 consolidation: 71.0%\n"
     ]
    }
   ],
   "source": [
    "f1_accident = for_accident.f1()\n",
    "f1_consolidation = for_consolidation.f1()\n",
    "\n",
    "print(f\"f1 accident: {round(f1_accident, 2)*100}%\")\n",
    "print(f\"f1 consolidation: {round(f1_consolidation, 2)*100}%\")"
   ]
  }
 ],
 "metadata": {
  "kernelspec": {
   "display_name": ".nlp_venv",
   "language": "python",
   "name": "python3"
  },
  "language_info": {
   "codemirror_mode": {
    "name": "ipython",
    "version": 3
   },
   "file_extension": ".py",
   "mimetype": "text/x-python",
   "name": "python",
   "nbconvert_exporter": "python",
   "pygments_lexer": "ipython3",
   "version": "3.10.0"
  }
 },
 "nbformat": 4,
 "nbformat_minor": 2
}
