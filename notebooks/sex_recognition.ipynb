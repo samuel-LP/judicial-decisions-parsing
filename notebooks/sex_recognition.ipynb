{
  "cells": [
    {
      "cell_type": "code",
      "execution_count": 46,
      "metadata": {
        "_cell_guid": "b1076dfc-b9ad-4769-8c92-a6c4dae69d19",
        "_uuid": "8f2839f25d086af736a60e9eeb907d3b93b6e0e5",
        "execution": {
          "iopub.execute_input": "2024-03-20T15:50:53.971574Z",
          "iopub.status.busy": "2024-03-20T15:50:53.970357Z",
          "iopub.status.idle": "2024-03-20T15:51:22.748600Z",
          "shell.execute_reply": "2024-03-20T15:51:22.746792Z",
          "shell.execute_reply.started": "2024-03-20T15:50:53.971531Z"
        },
        "id": "J7ToVm-jHRl2",
        "trusted": true
      },
      "outputs": [],
      "source": [
        "import pandas as pd\n",
        "import numpy as np\n",
        "import torch\n",
        "from torch.utils.data import DataLoader\n",
        "from transformers import AutoTokenizer\n",
        "import torch.nn as nn\n",
        "from transformers import AutoConfig, AutoModel\n",
        "import torch.utils.checkpoint\n",
        "import torch.optim as optim\n",
        "\n",
        "\n",
        "import nltk\n",
        "from nltk.corpus import stopwords\n",
        "from torch.utils.data import Dataset\n",
        "from transformers import AutoTokenizer\n",
        "\n",
        "from sklearn.feature_extraction.text import TfidfVectorizer\n",
        "from sklearn.linear_model import LogisticRegression\n",
        "from sklearn.metrics import f1_score, accuracy_score\n",
        "from sklearn import metrics\n",
        "from spacy.lang.fr.stop_words import STOP_WORDS as fr_stop\n",
        "from sklearn.model_selection import train_test_split\n",
        "\n",
        "from tqdm import tqdm"
      ]
    },
    {
      "cell_type": "markdown",
      "metadata": {
        "id": "mcYqGX78HRl4"
      },
      "source": [
        "# Import and clean datas"
      ]
    },
    {
      "cell_type": "code",
      "execution_count": 47,
      "metadata": {
        "execution": {
          "iopub.execute_input": "2024-03-20T15:51:22.751824Z",
          "iopub.status.busy": "2024-03-20T15:51:22.751035Z",
          "iopub.status.idle": "2024-03-20T15:51:23.274316Z",
          "shell.execute_reply": "2024-03-20T15:51:23.272698Z",
          "shell.execute_reply.started": "2024-03-20T15:51:22.751787Z"
        },
        "id": "JLtxQ_IlHRl5",
        "trusted": true
      },
      "outputs": [],
      "source": [
        "train_df = pd.read_csv(\"/content/train_data.csv\")"
      ]
    },
    {
      "cell_type": "code",
      "execution_count": 48,
      "metadata": {
        "id": "Md4nnFp3HRl6",
        "trusted": true
      },
      "outputs": [],
      "source": [
        "def remove_newlines(df):\n",
        "    df = df.replace(\"\\n\", '', regex=True)\n",
        "    return df\n",
        "train_df = remove_newlines(train_df)"
      ]
    },
    {
      "cell_type": "code",
      "execution_count": 49,
      "metadata": {
        "colab": {
          "base_uri": "https://localhost:8080/",
          "height": 206
        },
        "id": "-sgjThJTHRl6",
        "outputId": "995a2d7d-511e-424b-cee1-7a9b9bc7bfde",
        "trusted": true
      },
      "outputs": [
        {
          "data": {
            "application/vnd.google.colaboratory.intrinsic+json": {
              "summary": "{\n  \"name\": \"train_df\",\n  \"rows\": 770,\n  \"fields\": [\n    {\n      \"column\": \"ID\",\n      \"properties\": {\n        \"dtype\": \"number\",\n        \"std\": 222,\n        \"min\": 0,\n        \"max\": 769,\n        \"num_unique_values\": 770,\n        \"samples\": [\n          670,\n          753,\n          727\n        ],\n        \"semantic_type\": \"\",\n        \"description\": \"\"\n      }\n    },\n    {\n      \"column\": \"filename\",\n      \"properties\": {\n        \"dtype\": \"string\",\n        \"num_unique_values\": 770,\n        \"samples\": [\n          \"Paris_1209396.txt\",\n          \"Toulouse_504930.txt\",\n          \"Rennes_604048.txt\"\n        ],\n        \"semantic_type\": \"\",\n        \"description\": \"\"\n      }\n    },\n    {\n      \"column\": \"texte\",\n      \"properties\": {\n        \"dtype\": \"string\",\n        \"num_unique_values\": 770,\n        \"samples\": [\n          \"Le : 12/11/2019\\u00a0\\u00a0Cour d\\u2019appel de Paris \\u00a0p\\u00f4le 6- chambre 12 \\u00a0Audience publique du 4 f\\u00e9vrier 2016 \\u00a0N\\u00b0 de RG: 12/09396 \\u00a0\\u00a0Confirme la d\\u00e9cision d\\u00e9f\\u00e9r\\u00e9e dans toutes ses dispositions, \\u00e0 l\\u2019\\u00e9gard de toutes les parties au recours \\u00a0\\u00a0\\u00a0REPUBLIQUE FRANCAISE\\u00a0AU NOM DU PEUPLE FRANCAIS\\u00a0R\\u00c9PUBLIQUE FRAN\\u00c7AISE \\u00a0AU NOM DU PEUPLE FRAN\\u00c7AIS \\u00a0\\u00a0\\u00a0COUR D\\u2019APPEL DE PARIS \\u00a0P\\u00f4le 6- Chambre 12 \\u00a0\\u00a0ARR\\u00caT DU 04 F\\u00e9vrier 2016 \\u00a0\\u00a0(no, pages) \\u00a0\\u00a0Num\\u00e9ro d\\u2019inscription au r\\u00e9pertoire g\\u00e9n\\u00e9ral : S 12/ 09396 \\u00a0\\u00a0D\\u00e9cision d\\u00e9f\\u00e9r\\u00e9e \\u00e0 la Cour : jugement rendu le 28 Ao\\u00fbt 2012 par le tribunal des affaires de s\\u00e9curit\\u00e9 sociale de AUXERRE-RG no 11/ 00251 \\u00a0\\u00a0APPELANTE \\u00a0Madame Julia X... divorc\\u00e9e Y... \\u00a0... \\u00a075018 PARIS \\u00a0repr\\u00e9sent\\u00e9e par Me Bernard REVEST, avocat au barreau d\\u2019AUXERRE substitu\\u00e9 par Me Karen DEVIN, avocat au barreau D\\u2019AUXERRE \\u00a0\\u00a0\\u00a0INTIMES \\u00a0Monsieur Guy Z... \\u00a0... \\u00a075018 PARIS \\u00a0comparant en personne, assist\\u00e9 de Me Jonathan CADOT, avocat au barreau de PARIS, toque : R222 \\u00a0\\u00a0CPAM 89- YONNE \\u00a01-3 rue du Moulin \\u00a089024 AUXERRE CEDEX \\u00a0repr\\u00e9sent\\u00e9 par Me Amy TABOURE, avocat au barreau de VAL-DE-MARNE, toque : 409 \\u00a0\\u00a0\\u00a0\\u00a0Monsieur le Ministre charg\\u00e9 de la s\\u00e9curit\\u00e9 sociale \\u00a014, avenue Duquesne \\u00a075350 PARIS CEDEX 07 \\u00a0avis\\u00e9-non comparant \\u00a0\\u00a0COMPOSITION DE LA COUR : \\u00a0\\u00a0L\\u2019affaire a \\u00e9t\\u00e9 d\\u00e9battue le 05 Novembre 2015, en audience publique, devant la Cour compos\\u00e9e de : \\u00a0Mme Bernadette VAN RUYMBEKE, Pr\\u00e9sidente de chambre \\u00a0Madame Marie-Ange SENTUCQ, Conseill\\u00e8re \\u00a0Mme Marie-Odile FABRE DEVILLERS, Conseill\\u00e8re \\u00a0qui en ont d\\u00e9lib\\u00e9r\\u00e9 \\u00a0\\u00a0\\u00a0Greffier : Madame C\\u00e9line BRUN, lors des d\\u00e9bats \\u00a0\\u00a0ARR\\u00caT :\\u00a0- contradictoire\\u00a0-prononc\\u00e9 par mise \\u00e0 disposition de l\\u2019arr\\u00eat au greffe de la Cour, les parties en ayant \\u00e9t\\u00e9 pr\\u00e9alablement avis\\u00e9es dans les conditions pr\\u00e9vues au deuxi\\u00e8me alin\\u00e9a de l\\u2019article 450 du Code de Proc\\u00e9dure Civile.\\u00a0- sign\\u00e9 par Madame Bernadette VAN RUYMBEKE, Pr\\u00e9sident et par Madame C\\u00e9line BRUN, Greffier, \\u00e0 laquelle la minute de la d\\u00e9cision a \\u00e9t\\u00e9 remise par le magistrat signataire. \\u00a0\\u00a0FAITS, PROC\\u00c9DURE ET PR\\u00c9TENTIONS DES PARTIES \\u00a0\\u00a0Monsieur Thierry Y... a \\u00e9t\\u00e9 embauch\\u00e9 par Monsieur Guy Z... en tant qu\\u2019artiste lapidaire \\u00e0 compter du 1er octobre 1986. \\u00a0\\u00a0Le 11 d\\u00e9cembre 2007, Monsieur Thierry Y... a \\u00e9tabli une d\\u00e9claration de maladie professionnelle, suite au diagnostic d\\u2019une silicose aigue ou chronique d\\u00e9cel\\u00e9e le 24 juillet pr\\u00e9c\\u00e9dent (correspondant au tableau no25). \\u00a0\\u00a0Le 10 mars 2008, le caract\\u00e8re professionnel de la maladie a \\u00e9t\\u00e9 reconnu et un taux d\\u2019incapacit\\u00e9 permanente de 60 % a \\u00e9t\\u00e9 fix\\u00e9. \\u00a0\\u00a0Le 24 mars 2010, Monsieur Thierry Y... a \\u00e9t\\u00e9 licenci\\u00e9 pour inaptitude. \\u00a0\\u00a0Le 26 ao\\u00fbt 2011, Monsieur Thierry Y... a saisi le tribunal des affaires de la s\\u00e9curit\\u00e9 sociale de l\\u2019Yonne d\\u2019une action en vue de faire reconna\\u00eetre la faute inexcusable de Monsieur Guy Z... dans la survenance de sa maladie professionnelle. \\u00a0\\u00a0Par un jugement du 28 ao\\u00fbt 2012 le tribunal des affaires de la s\\u00e9curit\\u00e9 sociale de l\\u2019Yonne a :\\u00a0- D\\u00e9clar\\u00e9 recevable l\\u2019action de Monsieur Thierry Y... en reconnaissance de la faute inexcusable de Monsieur Guy Z... ;\\u00a0- D\\u00e9bout\\u00e9 Monsieur Thierry Y... de sa demande de reconnaissance de la faute inexcusable de Monsieur Guy Z... ;\\u00a0- Ordonn\\u00e9 la disjonction de l\\u2019instance en ce qui concerne la demande en inopposabilit\\u00e9 de la d\\u00e9cision de reconnaissance de la maladie professionnelle de Monsieur Thierry Y... en date du 10 mars 2008 et dit que cette demande sera inscrite au r\\u00f4le des affaires sous un nouveau num\\u00e9ro ;\\u00a0- D\\u00e9bout\\u00e9 Monsieur Thierry Y... de sa demande au titre des frais au titre des frais irr\\u00e9p\\u00e9tibles ;\\u00a0- Dit n\\u2019y avoir lieu \\u00e0 ex\\u00e9cution provisoire. \\u00a0\\u00a0Monsieur Thierry Y... est d\\u00e9c\\u00e9d\\u00e9 le 25 juillet 2012. \\u00a0\\u00a0Madame Julia X..., divorc\\u00e9e Y..., es qualit\\u00e9 d\\u2019administratrice l\\u00e9gale des biens de Romain Y..., fils de Thierry Y..., fait plaider par son conseil des conclusions demandant \\u00e0 la Cour de confirmer le jugement d\\u00e9f\\u00e9r\\u00e9 en ce qu\\u2019il a d\\u00e9clar\\u00e9 recevable l\\u2019action de Monsieur Thierry Y... en reconnaissance de la faute inexcusable, de l\\u2019infirmer en revanche pour le surplus, juger que la maladie professionnelle dont \\u00e9tait atteint Monsieur Thierry Y... et son d\\u00e9c\\u00e8s qui en a r\\u00e9sult\\u00e9 sont dus \\u00e0 une faute inexcusable de Monsieur Guy Z... et :\\u00a0- Au principal, \\u00e0 voir ordonner une expertise sur pi\\u00e8ces aux fins d\\u2019\\u00e9valuer les pr\\u00e9judices m\\u00e9dico l\\u00e9gaux subis par Monsieur Thierry Y... dans le cadre de la mission Dinthilac ; donner acte \\u00e0 Madame Julia X... de ce qu\\u2019elle proc\\u00e8dera \\u00e0 la consignation d\\u2019usage \\u00e0 valoir sur les frais et honoraires de l\\u2019expert ; r\\u00e9server les droits de Monsieur Romain Y... de solliciter une indemnisation au titre des pr\\u00e9judices patrimoniaux et extrapatrimoniaux de son p\\u00e8re, Monsieur Thierry Y... ;\\u00a0- A titre infiniment subsidiaire, condamner Monsieur Guy Z... \\u00e0 verser \\u00e0 Madame Julia X..., es qualit\\u00e9 d\\u2019administratrice l\\u00e9gale des biens de son fils mineur Romain Y..., les sommes de 30 000 euros au titre des souffrances physiques endur\\u00e9es par Thierry Y..., 50 000 euros au titre de son pr\\u00e9judice d\\u2019agr\\u00e9ment ainsi que de son pr\\u00e9judice sexuel, 55 140 euros au titre de son d\\u00e9ficit fonctionnel temporaire total ;\\u00a0- En tout \\u00e9tat de cause, ordonner la majoration r\\u00e9troactive de la rente d\\u2019invalidit\\u00e9, condamner Monsieur Guy Z... \\u00e0 verser une somme de 30 000 euros en r\\u00e9paration du pr\\u00e9judice moral de Monsieur Thierry Y..., d\\u00e9bouter Monsieur Guy Z... de l\\u2019int\\u00e9gralit\\u00e9 de ses demandes, fins, moyens et conclusions, dire et juger l\\u2019arr\\u00eat \\u00e0 intervenir opposable \\u00e0 la CPAM de l\\u2019Yonne, laquelle sera tenue d\\u2019avancer les sommes allou\\u00e9es avant de se retourner contre l\\u2019employeur ; condamner Monsieur Guy Z... \\u00e0 verser la somme de 2 000 euros au titre de l\\u2019article 700 et aux entiers d\\u00e9pens. \\u00a0\\u00a0Au soutien de son appel, Madame Julia X... fait valoir que la faute inexcusable ne peut qu\\u2019\\u00eatre retenue \\u00e0 l\\u2019encontre de Monsieur Guy Z... lequel avait conscience du danger auquel il exposait son salari\\u00e9 \\u00e0 la silice sans avoir pris de mesures suffisantes de nature \\u00e0 pr\\u00e9server Monsieur Y... de ce danger. \\u00a0\\u00a0Monsieur Guy Z... fait plaider par son conseil des conclusions demandant \\u00e0 la cour de confirmer le jugement en ce qu\\u2019il a consid\\u00e9r\\u00e9 que la faute inexcusable n\\u2019\\u00e9tait pas constitu\\u00e9e ; \\u00a0Il retire \\u00e0 l\\u2019audience sa demande au titre de la prescription de l\\u2019action de Monsieur Thierry Y... et demande : \\u00a0Au principal, dire et juger que la faute inexcusable n\\u2019est pas constitu\\u00e9e, qu\\u2019en cons\\u00e9quence Monsieur Thierry Y... est mal fond\\u00e9 en son action et devra \\u00eatre d\\u00e9bout\\u00e9 de l\\u2019ensemble de ses demandes \\u00a0Subsidiairement, limiter le champ de l\\u2019expertise. \\u00a0A titre infiniment subsidiaire, limiter le quantum des dommages et int\\u00e9r\\u00eats sollicit\\u00e9s. \\u00a0\\u00a0Monsieur Guy Z... fait valoir que Monsieur Thierry Y... ne rapporte pas la preuve de ce que l\\u2019employeur avait ou aurait d\\u00fb avoir conscience du danger, ajoutant qu\\u2019il a toujours pris soin des conditions de travail de son salari\\u00e9 et que les mesures n\\u00e9cessaires avaient \\u00e9t\\u00e9 prises afin d\\u2019\\u00e9viter tout risque. \\u00a0\\u00a0Pour plus ample expos\\u00e9 de la proc\\u00e9dure et des pr\\u00e9tentions des parties, la Cour se r\\u00e9f\\u00e8re \\u00e0 leurs conclusions vis\\u00e9es par le greffier, reprises et compl\\u00e9t\\u00e9es \\u00e0 l\\u2019audience. \\u00a0\\u00a0\\u00a0SUR QUOI LA COUR : \\u00a0\\u00a0I \\u00bf sur la recevabilit\\u00e9 de l\\u2019action : \\u00a0\\u00a0Monsieur Guy Z... fait valoir oralement qu\\u2019il retire sa demande au titre de la prescription ; \\u00a0\\u00a0II \\u00bf sur la faute inexcusable \\u00a0\\u00a0Consid\\u00e9rant les dispositions de l\\u2019article L 452-1 du code de la s\\u00e9curit\\u00e9 sociale dont il r\\u00e9sulte qu\\u2019en mati\\u00e8re d\\u2019accident du travail ou de maladie professionnelle, l\\u2019employeur est tenu d\\u2019une obligation de s\\u00e9curit\\u00e9 de r\\u00e9sultat et que le manquement \\u00e0 cette obligation a le caract\\u00e8re d\\u2019une faute inexcusable lorsque l\\u2019employeur avait ou aurait d\\u00fb avoir connaissance du danger auquel \\u00e9tait expos\\u00e9 le salari\\u00e9 et qu\\u2019il n\\u2019a pas pris les mesures n\\u00e9cessaires pour l\\u2019en pr\\u00e9server ; \\u00a0\\u00a0Consid\\u00e9rant que Madame Julia X... divorc\\u00e9e Y..., fait valoir que les dangers de l\\u2019inhalation de la poussi\\u00e8re de silice \\u00e9taient connus depuis 1934, qu\\u2019un d\\u00e9cret paru en 1950 puis remplac\\u00e9 par un d\\u00e9cret paru en 1997, avait pour objet de prot\\u00e9ger les travailleurs expos\\u00e9s \\u00e0 l\\u2019inhalation de silice sur leur lieu de travail ; qu\\u2019\\u00e0 partir de 2001, Monsieur Guy Z... avait fait l\\u2019acquisition de masques de protection ainsi que d\\u2019autres mat\\u00e9riels destin\\u00e9s \\u00e0 lutter contre la poussi\\u00e8re ; enfin que sa renomm\\u00e9e et sa connaissance du m\\u00e9tier incluant la taille de pierre ne lui permettaient pas d\\u2019ignorer les dangers auxquels il exposait Monsieur Thierry Y... ; \\u00a0\\u00a0Consid\\u00e9rant que Monsieur Guy Z... r\\u00e9plique principalement que travaillant dans les m\\u00eames conditions que son salari\\u00e9, il ne pouvait avoir conscience du danger ; que les textes r\\u00e9glementant les conditions de travail des salari\\u00e9s au contact de la poussi\\u00e8re de silice ne s\\u2019appliquaient qu\\u2019aux activit\\u00e9s industrielles, ce qui n\\u2019\\u00e9tait pas le cas de son atelier ; \\u00a0\\u00a0Mais consid\\u00e9rant que la conscience du danger impos\\u00e9e par l\\u2019article L 452-1 du code de la s\\u00e9curit\\u00e9 sociale doit s\\u2019appr\\u00e9cier in abstracto ; que cette exigence ne vise pas une connaissance effective de la situation cr\\u00e9\\u00e9e, mais la conscience que l\\u2019employeur devait ou aurait normalement d\\u00fb avoir de ce danger en raison de son exp\\u00e9rience et de ses connaissances techniques ; \\u00a0\\u00a0Consid\\u00e9rant qu\\u2019en l\\u2019esp\\u00e8ce, la taille et le fa\\u00e7onnage de pierres provoquant des poussi\\u00e8res de silice faisait partie du m\\u00e9tier exerc\\u00e9 par Monsieur Guy Z... et son salari\\u00e9 ; que le lien entre la maladie de Monsieur Thierry Y... et ses conditions de travail a d\\u2019ailleurs \\u00e9t\\u00e9 reconnu et n\\u2019est pas contest\\u00e9 ; \\u00a0\\u00a0Que la pratique de son m\\u00e9tier depuis les ann\\u00e9es 70 et la notori\\u00e9t\\u00e9 de Monsieur Guy Z..., orf\\u00e8vre sculpteur renomm\\u00e9, \\u00e9tablissent que ce dernier avait une parfaite connaissance des enjeux et conditions de travail qui \\u00e9taient les siennes ainsi que celles de Monsieur Thierry Y... ; \\u00a0\\u00a0Consid\\u00e9rant par ailleurs que le d\\u00e9cret no97-331 du 10 avril 1997 \\u00ab relatif \\u00e0 la protection de certains travailleurs expos\\u00e9s \\u00e0 l\\u2019inhalation de poussi\\u00e8res de silice sur leurs lieux de travail \\u00bb, modifiant un d\\u00e9cret paru en 1950, s\\u2019appliquait aux \\u00e9tablissements vis\\u00e9s par l\\u2019ancien article L. 231-1 du code du travail, dont les \\u00e9tablissements industriels mais \\u00e9galement tout \\u00e9tablissement commercial ; \\u00a0\\u00a0Que la conscience du danger d\\u00e9pend aussi des circonstances de l\\u2019exposition personnelle du salari\\u00e9 ; qu\\u2019il r\\u00e9sulte des pi\\u00e8ces vers\\u00e9es aux d\\u00e9bats que Monsieur Thierry Y... travaillait huit heures par jour dans un atelier de taille r\\u00e9duite et relativement confin\\u00e9 ; qu\\u2019il n\\u2019est pas contest\\u00e9 que la taille de pierre d\\u00e9gageait une importante quantit\\u00e9 de poussi\\u00e8re ; \\u00a0\\u00a0Qu\\u2019au regard de ces \\u00e9l\\u00e9ments, Monsieur Guy Z... avait n\\u00e9cessairement conscience du danger auquel il exposait Monsieur Thierry Y... ; \\u00a0\\u00a0Et consid\\u00e9rant que lorsque l\\u2019employeur a ou aurait d\\u00fb avoir conscience du danger auquel il expose son salari\\u00e9, il lui appartient de prendre les mesures n\\u00e9cessaires de protection contre ce risque ; qu\\u2019il incombe au salari\\u00e9 de rapporter la preuve que l\\u2019employeur n\\u2019a pas pris les mesures n\\u00e9cessaires pour le pr\\u00e9server du danger auquel il \\u00e9tait expos\\u00e9 ; \\u00a0\\u00a0Consid\\u00e9rant que Madame Julia X... fait valoir que Monsieur Thierry Y... travaillait dans un environnement poussi\\u00e9reux sans que Monsieur Guy Z... lui ait fourni de protection avant 2001, que le mat\\u00e9riel achet\\u00e9 \\u00e9tait destin\\u00e9 au second atelier de son l\\u2019employeur, que Monsieur Guy Z... n\\u2019avait fourni de protection \\u00e0 son salari\\u00e9 qu\\u2019\\u00e0 compter des premiers sympt\\u00f4mes de la maladie et n\\u2019avait pas organis\\u00e9 en faveur de ce dernier de visites m\\u00e9dicales ; \\u00a0\\u00a0Mais consid\\u00e9rant qu\\u2019il est \\u00e9tabli que si Monsieur Z... \\u00e9quipait son second atelier de mat\\u00e9riel de protection, il en faisait de m\\u00eame pour la rue Lepic, si\\u00e8ge du lieu de travail de monsieur Y... et ce, depuis son installation ; \\u00a0\\u00a0Que les diverses attestations vers\\u00e9es indiquaient que si la taille des pierres d\\u00e9gageait de la poussi\\u00e8re, l\\u2019employeur avait mis \\u00e0 dispositions du salari\\u00e9 des meures individuelles et collectives de protection et ce depuis 1993 comme le d\\u00e9montrent les factures d\\u2019achats et les documents produits : ventilateur, pare visage, masque de protection toxique, soufflettes, masques anti poussi\\u00e8res r\\u00e9guli\\u00e8rement renouvel\\u00e9s, aspirateur avec filtre de poussi\\u00e8res fines ; qu\\u2019\\u00e0 cet \\u00e9gard le fournisseur de l\\u2019atelier attestait que monsieur Z..., son client depuis 25 ans, s\\u2019approvisionnait r\\u00e8guli\\u00e8rement en mat\\u00e9riel de protection ; \\u00a0\\u00a0Consid\\u00e9rant au regard de l\\u2019ensemble de ces \\u00e9l\\u00e9ments, que Madame Julia X... ne rapporte pas la preuve de ce que Monsieur Guy Z... n\\u2019aurait pas fourni les \\u00e9l\\u00e9ments de protection n\\u00e9cessaires et suffisantes \\u00e0 Monsieur Thierry Y... et ne prouve pas davantage que ce mat\\u00e9riel n\\u2019\\u00e9tait pas en \\u00e9tat de fonctionnement ; \\u00a0\\u00a0Consid\\u00e9rant enfin, que Madame Julia X... rappelle qu\\u2019il ne suffit pas pour l\\u2019employeur de fournir \\u00e0 ses salari\\u00e9s des dispositifs de protection mais qu\\u2019il lui incombe \\u00e9galement de s\\u2019assurer que ces derniers les utilisent effectivement ; \\u00a0\\u00a0Mais consid\\u00e9rant que monsieur Guy Z... partageait des conditions de travail communes avec Monsieur Thierry Y... et qu\\u2019il a mis en \\u00bf uvre les moyens pour assurer des conditions de travail protectrice de la sant\\u00e9 de chacun ; qu\\u2019il n\\u2019est pas contest\\u00e9 que la nature de leurs relations \\u00e9tait amicale et de confiance ; que si des t\\u00e9moins affirmaient que monsieur Thierry Y..., portait souvent \\u201c le masque sur sa poitrine \\u201c pour \\u201c fumer sans retenue \\u00e0 toute heure du jour durant son travail \\u201c, il ne saurait \\u00eatre reproch\\u00e9 \\u00e0 monsieur Z... de ne pas s\\u2019\\u00eatre assur\\u00e9, lors de ces d\\u00e9placements et alors que monsieur Y... travaillait seul, que celui ci utilise effectivement le mat\\u00e9riel mis \\u00e0 sa disposition pour sa protection ; \\u00a0\\u00a0Consid\\u00e9rant en cons\\u00e9quence que de tous ces \\u00e9l\\u00e9ments, il ressort que Madame Julia X... ne rapporte pas la preuve que Monsieur Guy Z... n\\u2019aurait pas tout mis en \\u00bf uvre toute les mesures n\\u00e9cessaires pour pr\\u00e9server assurer la s\\u00e9curit\\u00e9 de son salari\\u00e9 du danger auxquels celui ci \\u00e9tait expos\\u00e9 ; \\u00a0\\u00a0Que le jugement, pris pour de justes motifs adopt\\u00e9s, doit \\u00eatre confirm\\u00e9 \\u00a0\\u00a0\\u00a0PAR CES MOTIFS : \\u00a0\\u00a0LA COUR, \\u00a0\\u00a0D\\u00e9clare Madame X..., veuve Y..., recevable en son appel, es qualit\\u00e9 d\\u2019administratrice des biens de son fils mineur Monsieur Romain Y... ; \\u00a0\\u00a0Confirme le jugement entrepris en toutes ses dispositions \\u00a0\\u00a0Deboute Mme Y... de toutes ses demandes, \\u00a0\\u00a0La dispense du paiement du droit d\\u2019appel. \\u00a0\\u00a0\\u00a0\\u00a0LE GREFFIER LE PR\\u00c9SIDENT\\u00a0\\u00a0\\u00a0\\u00a0\\u00a0\\u00a0Titrages et r\\u00e9sum\\u00e9s : \\u00a0\\u00a0\\u00a0\\u00a0\",\n          \"Le : 11/11/2019\\u00a0\\u00a0Cour d\\u2019appel de Toulouse \\u00a0ct0042 \\u00a0Audience publique du 17 juillet 2008 \\u00a0N\\u00b0 de RG: 05/04930 \\u00a0\\u00a0\\u00a0\\u00a0REPUBLIQUE FRANCAISE\\u00a0AU NOM DU PEUPLE FRANCAIS\\u00a017/07/2008\\u00a0\\u00a0ARR\\u00caT No\\u00a0\\u00a0NoRG: 05/04930\\u00a0CD/CC\\u00a0\\u00a0D\\u00e9cision d\\u00e9f\\u00e9r\\u00e9e du 03 Juillet 2003 - Cour d\\u2019Appel de PAU - 03/2629\\u00a0TGI TARBES\\u00a0CA PAU\\u00a0\\u00a0\\u00a0\\u00a0\\u00a0\\u00a0\\u00a0\\u00a0\\u00a0MAAF ASSURANCES\\u00a0repr\\u00e9sent\\u00e9e par la SCP DESSART-SOREL-DESSART\\u00a0Maurice X... \\u00a0repr\\u00e9sent\\u00e9 par la SCP DESSART-SOREL-DESSART\\u00a0\\u00a0\\u00a0C/\\u00a0\\u00a0Jean-Claude Y... \\u00a0repr\\u00e9sent\\u00e9 par la SCP RIVES-PODESTA\\u00a0CPAM DES HAUTES PYRENEES\\u00a0sans avou\\u00e9 constitu\\u00e9\\u00a0\\u00a0\\u00a0\\u00a0\\u00a0\\u00a0\\u00a0\\u00a0\\u00a0\\u00a0\\u00a0\\u00a0\\u00a0\\u00a0\\u00a0\\u00a0\\u00a0\\u00a0\\u00a0\\u00a0\\u00a0\\u00a0\\u00a0\\u00a0\\u00a0\\u00a0\\u00a0\\u00a0\\u00a0\\u00a0\\u00a0r\\u00e9formation\\u00a0\\u00a0\\u00a0\\u00a0Grosse d\\u00e9livr\\u00e9e\\u00a0\\u00a0le\\u00a0\\u00a0\\u00e0 REPUBLIQUE FRANCAISE\\u00a0AU NOM DU PEUPLE FRANCAIS\\u00a0***\\u00a0COUR D\\u2019APPEL DE TOULOUSE\\u00a03\\u00e8me Chambre Section 1\\u00a0***\\u00a0ARR\\u00caT DU DIX SEPT JUILLET DEUX MILLE HUIT\\u00a0***\\u00a0\\u00a0DEMANDEURS SUR RENVOI DE CASSATION\\u00a0\\u00a0MAAF ASSURANCES\\u00a0CHABAN DE CHAURAY\\u00a079036 NIORT CEDEX 9\\u00a0repr\\u00e9sent\\u00e9e par la SCP DESSART-SOREL-DESSART, avou\\u00e9s \\u00e0 la Cour\\u00a0assist\\u00e9e de la SCP CHARRIER- DE LAFORCADE, avocats au barreau de TOULOUSE\\u00a0\\u00a0Monsieur Maurice X... \\u00a064490 ESCOT\\u00a0repr\\u00e9sent\\u00e9 par la SCP DESSART-SOREL-DESSART, avou\\u00e9s \\u00e0 la Cour\\u00a0assist\\u00e9 de la SCP CHARRIER- DE LAFORCADE, avocats au barreau de TOULOUSE\\u00a0\\u00a0DEFENDEURS SUR RENVOI DE CASSATION\\u00a0\\u00a0Monsieur Jean-Claude Y... \\u00a0... \\u00a065390 AURENSAN\\u00a0repr\\u00e9sent\\u00e9 par la SCP RIVES-PODESTA, avou\\u00e9s \\u00e0 la Cour\\u00a0assist\\u00e9 de Me TRUSSES Z..., avocat au barreau de TARBES\\u00a0\\u00a0CAISSE PRIMAIRE D\\u2019ASSURANCE MALADIE DES HAUTES PYRENEES\\u00a0assign\\u00e9e \\u00e0 personne habilit\\u00e9e, a \\u00e9crit\\u00a08 place du Bois\\u00a065021 TARBES CEDEX\\u00a0sans avou\\u00e9 constitu\\u00e9\\u00a0\\u00a0COMPOSITION DE LA COUR\\u00a0\\u00a0Apr\\u00e8s audition du rapport, l\\u2019affaire a \\u00e9t\\u00e9 d\\u00e9battue le 25 mars 2008 en audience publique devant la cour compos\\u00e9e de :\\u00a0\\u00a0C. DREUILHE, pr\\u00e9sident\\u00a0M.O. POQUE, conseiller\\u00a0A. FAVREAU, vice pr\\u00e9sident plac\\u00e9\\u00a0qui en ont d\\u00e9lib\\u00e9r\\u00e9\\u00a0\\u00a0Greffier, lors des d\\u00e9bats : C. COQUEBLIN\\u00a0\\u00a0ARRET : \\u00a0\\u00a0- r\\u00e9put\\u00e9 contradictoire\\u00a0- prononc\\u00e9 publiquement par mise \\u00e0 disposition au greffe apr\\u00e8s avis aux parties\\u00a0- sign\\u00e9 par C. DREUILHE, pr\\u00e9sident, et par C. COQUEBLIN, greffier de chambre\\u00a0\\u00a0\\u00a0\\u00a0\\u00a0\\u00a0\\u00a0\\u00a0\\u00a0FAITS ET PROCEDURE\\u00a0\\u00a0Le 16 mars 1989, le v\\u00e9hicule conduit par M. X..., assur\\u00e9 aupr\\u00e8s la MAAF, est entr\\u00e9 en collision avec celui conduit par M. Y.... \\u00a0\\u00a0M. Y... a \\u00e9t\\u00e9 bless\\u00e9 au cours de cet accident. \\u00a0\\u00a0Selon ordonnance de r\\u00e9f\\u00e9r\\u00e9 en date du 27 avril 1993, une mesure d\\u2019expertise m\\u00e9dicale a \\u00e9t\\u00e9 ordonn\\u00e9e et confi\\u00e9e au docteur A....\\u00a0\\u00a0L\\u2019expert a d\\u00e9pos\\u00e9 son rapport le 17 Novembre 1993.\\u00a0\\u00a0Ses conclusions sont les suivantes : \\u00a0\\u201ddate d e l\\u2019accident : accident de travail (trajet) du 16 mars 1989 \\u00a0* ITT personnelle du 16 mars 1989 au 23 juillet 1989 inclus (4 mois et 7 jours), puis du 13 ao\\u00fbt 1990 au 31 juillet 1991inclus (11 mois \\u00bd) \\u00a0* ITT professionnelle \\u00e0 partir du 1er ao\\u00fbt 1991 (l\\u2019ITT professionnelle post\\u00e9rieure n\\u2019est pas imputable aux faits ; celle-ci est \\u00e0 mettre en terme de prise en charge de l\\u2019assurance maladie \\u00a0* consolidation 1er mai 1992 \\u00a0* IPP 15 % (groupe 3 pour troubles moyens), sauf intervention chirurgicale future envisag\\u00e9e par la victime dans le cadre d\\u2019une am\\u00e9lioration clinique pr\\u00e9visible sans complications\\u00a0* souffrances endur\\u00e9es de l\\u2019ordre de 3,5 / 7 \\u00a0* pr\\u00e9judice esth\\u00e9tique n\\u00e9ant \\u00a0* pr\\u00e9judice professionnel : mise en invalidit\\u00e9 2\\u00e8me cat\\u00e9gorie \\u00e0 pr\\u00e9voir, en cours\\u201d. \\u00a0\\u00a0Avant l\\u2019accident, M. Y... exer\\u00e7ait \\u00e0 mi-temps la profession d\\u2019agent enqu\\u00eateur pour le compte de la Caisse r\\u00e9gionale d\\u2019assurance maladie et d\\u2019exploitant agricole.\\u00a0\\u00a0Les d\\u00e9cisions intervenues \\u00a0\\u00a0Par jugement du 4 septembre 1996, le tribunal de grande instance de Tarbes a constat\\u00e9 la responsabilit\\u00e9 de M. X... dans la r\\u00e9alisation du dommage et \\u00e9valu\\u00e9 le pr\\u00e9judice personnel de M. Y... \\u00e0 la somme de 6.860,20 \\u20ac. Il a sursis \\u00e0 statuer sur les pr\\u00e9judices soumis \\u00e0 recours dans l\\u2019attente de la production de la cr\\u00e9ance d\\u00e9finitive de la Caisse primaire d\\u2019assurance maladie des Hautes Pyr\\u00e9n\\u00e9es. \\u00a0\\u00a0Par jugement du 21 juillet 1999, le tribunal de grande instance de TARBES a constat\\u00e9 que la cr\\u00e9ance s\\u2019\\u00e9levait \\u00e0 la somme de 27.690,49 \\u20ac, et avant dire droit sur la r\\u00e9paration du pr\\u00e9judice \\u00e0 l\\u2019int\\u00e9grit\\u00e9 physique soumis \\u00e0 recours a ordonn\\u00e9 une expertise confi\\u00e9e \\u00e0 M. B... aux fins d\\u2019apporter toutes pr\\u00e9cisions concernant l\\u2019exploitation agricole de M. Y... et de fixer le pr\\u00e9judice annuel r\\u00e9sultant pour lui de l\\u2019impossibilit\\u00e9 d\\u2019exploiter sa propri\\u00e9t\\u00e9 depuis l\\u2019accident. \\u00a0\\u00a0L\\u2019expert a d\\u00e9pos\\u00e9 son rapport le 24 janvier 2000.\\u00a0\\u00a0\\u00a0\\u00a0\\u00a0\\u00a0\\u00a0Par jugement du 7 mars 2001, le tribunal de grande instance de TARBES a fix\\u00e9 le pr\\u00e9judice objectif souffert par M. Y... \\u00e0 la somme de 110.266, 52 \\u20ac et a condamn\\u00e9 solidairement M. X... et la MAAF au paiement de cette somme, outre 457, 34 \\u20ac au titre de l\\u2019article 700 du code de proc\\u00e9dure civile.\\u00a0\\u00a0M. X... et la MAAF ont interjet\\u00e9 appel de cette d\\u00e9cision. \\u00a0\\u00a0Par arr\\u00eat du 13 janvier 2005, la Cour de cassation a cass\\u00e9 l\\u2019arr\\u00eat de la cour d\\u2019appel de PAU le 3 juillet 2003 et les a renvoy\\u00e9s devant la cour d\\u2019appel de TOULOUSE .\\u00a0\\u00a0La Cour de cassation a relev\\u00e9 \\u00a0- qu\\u2019en se bornant \\u00e0 \\u00e9noncer que le d\\u00e9compte de la Caisse primaire d\\u2019assurance maladie des Hautes Pyr\\u00e9n\\u00e9es permet de relever que M. Y... a b\\u00e9n\\u00e9fici\\u00e9 d\\u2019indemnit\\u00e9s journali\\u00e8res \\u00e0 hauteur de 21.365, 27 \\u20ac et de frais m\\u00e9dicaux \\u00e0 hauteur de 3.733, 43 \\u20ac \\u00a0- qu\\u2019en statuant ainsi par des motifs dont il ne r\\u00e9sulte pas que la perte de salaire \\u00e9prouv\\u00e9e par M. Y... a \\u00e9t\\u00e9 int\\u00e9gralement r\\u00e9par\\u00e9e \\u00a0la cour d\\u2019appel n\\u2019a pas donn\\u00e9 de base l\\u00e9gale \\u00e0 sa d\\u00e9cision. \\u00a0\\u00a0La cour d\\u2019appel de TOULOUSE est donc saisie de l\\u2019appel du jugement rendu par le tribunal de grande instance deTARBES le 21 juillet 1999.\\u00a0\\u00a0PRETENTIONS DES PARTIES\\u00a0\\u00a0Par conclusions r\\u00e9capitulatives et responsives d\\u00e9pos\\u00e9es le 15 novembre 2007, M. X... et son assureur la MAAF sollicitent le r\\u00e9formation de la d\\u00e9cision.\\u00a0\\u00a0Ils demandent \\u00e0 la cour de liquider le pr\\u00e9judice subi par M. Y... comme suit : \\u00a0\\u00a0pr\\u00e9judices patrimoniaux\\u00a0\\u00a0pr\\u00e9judices patrimoniaux temporaires \\u00a0\\u00a0- d\\u00e9penses de sant\\u00e9 actuelles ....................................................3.733,43 \\u20ac \\u00a0d\\u00e9duction de la cr\\u00e9ance de la Caisse primaire ................... - 3.733,43 \\u20ac \\u00a0- perte de gains actuels correspondant \\u00e0 l\\u2019activit\\u00e9 salari\\u00e9e...... 17.396,40 \\u20ac \\u00a0d\\u00e9duction de la cr\\u00e9ance de la Caisse primaire ................... - 21.365,27 \\u20ac \\u00a0- 2.591,63 \\u20ac \\u00a0- pertes de gains actuels correspondant \\u00e0 l\\u2019activit\\u00e9 d\\u2019exploitant agricole \\u00a0pr\\u00e9judice agricole ..................................................................... 7.565,74 \\u20ac \\u00a0pr\\u00e9judice viticole ......................................................................... 304,90 \\u20ac \\u00a0\\u00a0pr\\u00e9judice patrimoniaux permanents : n\\u00e9ant \\u00a0\\u00a0\\u00a0\\u00a0\\u00a0\\u00a0\\u00a0\\u00a0\\u00a0pr\\u00e9judices extra-patrimoniaux \\u00a0\\u00a0pr\\u00e9judices extra patrimoniaux temporaires : n\\u00e9ant\\u00a0\\u00a0pr\\u00e9judices extra patrimoniaux permanents\\u00a0\\u00a0d\\u00e9ficit fonctionnel permanent 15 %...................................... 18.525,00 \\u20ac \\u00a0\\u00a0Ils demandent en cons\\u00e9quence de dire qu\\u2019il revient \\u00e0 M. Y... la somme de 26.395,64 \\u20ac au titre de son entier pr\\u00e9judice et de d\\u00e9bouter M. Y... du surplus de ses demandes. \\u00a0\\u00a0Par conclusions rectificatives et r\\u00e9capitulatives d\\u00e9pos\\u00e9es le 21 septembre 2007, M. Y... demande \\u00e0 la cour :\\u00a0- de fixer son indemnisation, au regard de la loi du 21 d\\u00e9cembre 2006, de la fa\\u00e7on suivante :\\u00a0\\u00a0pr\\u00e9judices patrimoniaux temporaires \\u00a0indemnit\\u00e9s journali\\u00e8res ................................................. 21.365,25 \\u20ac \\u00a0frais m\\u00e9dicaux ..................................................................3.733,43 \\u20ac \\u00a0rente AT ............................................................................2.250,52 \\u20ac \\u00a0pr\\u00e9judice agricole jusqu\\u2019en 1992 .................................. 19.670,95 \\u20ac\\u00a0\\u00a0pr\\u00e9judices patrimoniaux permanents\\u00a0perte de salaire jusqu\\u2019\\u00e0 la retraite ................................174.625,04 \\u20ac \\u00a0pr\\u00e9judice agricole ...........................................................41.996,66 \\u20ac\\u00a0\\u00a0pr\\u00e9judice extra patrimoniaux permanents\\u00a0d\\u00e9ficit fonctionnel permanent \\u00a015% x 2.286,74 \\u20ac le point ..............................................34.301,10 \\u20ac \\u00a0\\u00a0- de dire que ces sommes porteront int\\u00e9r\\u00eats du jour de la consolidation et de la mise en invalidit\\u00e9 \\u00a0- de constater la cr\\u00e9ance de la Caisse primaire d\\u2019assurance maladie\\u00a0- de lui allouer 3.000 \\u20ac sur le fondement de l\\u2019article 700 du code de proc\\u00e9dure civile. \\u00a0\\u00a0Pour le d\\u00e9tail des pr\\u00e9tentions et moyens des parties, il est express\\u00e9ment fait r\\u00e9f\\u00e9rence aux conclusions susvis\\u00e9e conform\\u00e9ment \\u00e0 l\\u2019article 455 du code de proc\\u00e9dure civile.\\u00a0\\u00a0MOTIFS DE LA DECISION.\\u00a0\\u00a0Les premiers juges ont allou\\u00e9 \\u00e0 M. Y... au titre de\\u00a0l\\u2019ITT ............................................................................... 76.575,31 \\u20ac \\u00a0l\\u2019IPP de 15 % .................................................................2.2867,35 \\u20ac \\u00a0pr\\u00e9judice agricole ...........................................................10.823,90 \\u20ac \\u00a0\\u00a0Pr\\u00e9judices patrimoniaux temporaires\\u00a0\\u00a0C\\u2019est \\u00e0 tort que le tribunal a retenu l\\u2019existence d\\u2019un pr\\u00e9judice professionnel donnant lieu \\u00e0 une indemnisation jusqu\\u2019en octobre 2000.\\u00a0\\u00a0\\u00a0\\u00a0\\u00a0En effet, l\\u2019expert a d\\u00e9montr\\u00e9 que l\\u2019ITT professionnelle \\u00e0 partir du 1er ao\\u00fbt 1991 \\u00e9tait en relation avec l\\u2019\\u00e9tat anxio-d\\u00e9pressif de M. Y... non imputable \\u00e0 l\\u2019accident du 16 mars 1989 et doit donc \\u00eatre pris en charge par l\\u2019assurance maladie. \\u00a0\\u00a0Perte de gains professionnels actuels\\u00a0\\u00a0L\\u2019indemnisation de M. Y... doit donc \\u00eatre fix\\u00e9e comme suit au vu du d\\u00e9compte de la Caisse primaire d\\u2019assurance maladie :\\u00a0\\u00a0ITT du 16.3.1989 au 23.7.1989 4 mois............................ 4.602,40 \\u20ac \\u00a0ITT dU 13.8.1990 au 31.7.1991 11mois et 28 jours............ 12.794 \\u20ac soit ..................................................17.396,40 \\u20ac \\u00a0\\u00a0Si M. Y... a per\\u00e7u de la Caisse primaire d\\u2019assurance maladie des prestations en esp\\u00e8ces jusqu\\u2019au 1er novembre 1991 pour un montant de 21.365,27 \\u20ac, seule la somme de 17.396,40 \\u20ac correspond \\u00e0 l\\u2019exacte indemnisation des p\\u00e9riodes d\\u2019ITT en relation avec l\\u2019accident. \\u00a0\\u00a0L\\u2019indemnisation fix\\u00e9e par le tribunal \\u00e0 la somme de 76.575,21 \\u20ac est donc erron\\u00e9e.\\u00a0\\u00a0La mise en invalidit\\u00e9 n\\u2019\\u00e9tant pas en relation avec l\\u2019accident , le tribunal ne peut condamner M. X... et son assureur \\u00e0 en supporter le cons\\u00e9quences. \\u00a0\\u00a0Il ne revient donc aucune indemnit\\u00e9 \\u00e0 M. Y... apr\\u00e8s Imputation de la cr\\u00e9ance de la Caisse primaire d\\u2019assurance maladie.\\u00a0\\u00a0Pertes de gains actuels correspondant \\u00e0 l\\u2018activit\\u00e9 d\\u2019exploitant agricole\\u00a0\\u00a0Le pr\\u00e9judice professionnel \\u00e9prouv\\u00e9 par M. Y... correspond \\u00e0 l\\u2019impossibilit\\u00e9 de pratiquer son activit\\u00e9 \\u00e0 temps partiel d\\u2019exploitant agricole.\\u00a0\\u00a0L\\u2019expert foncier a envisag\\u00e9 trois hypoth\\u00e8ses quant \\u00e0 la dur\\u00e9e du pr\\u00e9judice subi correspondant au manque \\u00e0 gagner pour l\\u2019exploitant. \\u00a0\\u00a0Le tribunal a retenu la deuxi\\u00e8me hypoth\\u00e8se au vu de la consolidation intervenue le 1er mai 1992, mais son indemnisation ne peut correspondre qu\\u2019\\u00e0 la p\\u00e9riode d\\u2019ITT imputable \\u00e0 l\\u2019accident.\\u00a0\\u00a0La cour, en reprenant les calculs de l\\u2019expert, \\u00e9value la perte des revenus agricoles comme suit :\\u00a0\\u00a01989............................................................ 2.305,64 \\u20ac \\u00a01990................................................................. 2.688 \\u20ac \\u00a01991 ........................................................... 2.572,11 \\u20ac \\u00a0soit au total..................................................... 7.565,74 \\u20ac\\u00a0auquel il convient d\\u2019ajouter la somme de 304,90 \\u20ac correspondant au pr\\u00e9judice viticole retenu par l\\u2019expert, soit \\u00a07.565,74 \\u20ac + 305,90 \\u20ac.......................................soit 7.870,64 \\u20ac\\u00a0\\u00a0\\u00a0\\u00a0\\u00a0Les pr\\u00e9judices patrimoniaux permanents\\u00a0\\u00a0Il n\\u2019existe pas de pr\\u00e9judice patrimonial permanent en relation avec l\\u2019accident du 16 mars 1989.\\u00a0\\u00a0En effet, l\\u2019expert indique dans son rapport, dans le chapitre r\\u00e9serv\\u00e9 aux s\\u00e9quelles imputables \\u00e0 l\\u2019accident, un syndrome douloureux avec sciatique gauche. \\u00a0\\u00a0Il s\\u2019agit l\\u00e0 de la seule manifestation fonctionnelle directement imputable \\u00e0 l\\u2019accident. \\u00a0\\u00a0Les \\u00e9l\\u00e9ments psycho-pathologiques en cours d\\u2019\\u00e9volution sont imputables aux \\u00e9v\\u00e9nements ext\\u00e9rieurs an fait direct, \\u00e9tant rappel\\u00e9 que l\\u2019expert, pour r\\u00e9pondre \\u00e0 sa mission, a pris l\\u2019avis d\\u2019un sapiteur neuro- psychiatre, le docteur C..., qui a caract\\u00e9ris\\u00e9 et fait la liste des faits \\u00e0 l\\u2019origine de l\\u2019\\u00e9tat anxio-d\\u00e9pressif pr\\u00e9sent\\u00e9 par M. Y... et \\u00e9trangers \\u00e0 l\\u2019accident du 16 mars 1989.\\u00a0\\u00a0Les pr\\u00e9judices extra-patrimoniaux\\u00a0\\u00a0L\\u2019expert a \\u00e9valu\\u00e9 l\\u2019IPP \\u00e0 15 %, r\\u00e9servant la possibilit\\u00e9 d\\u2019une am\\u00e9lioration suite d\\u2019une intervention chirurgicale. \\u00a0\\u00a0Au vu de l\\u2019\\u00e2ge de la victime au moment de faits, 48 ans, de sa durable activit\\u00e9 d\\u2019exploitant agricole et d\\u2019enqu\\u00eateur \\u00e0 la MSA, l\\u2019indemnisation de M. Y... est fix\\u00e9e \\u00e0 2.000 \\u20ac x 15 ans, soit 30.000 \\u20ac.\\u00a0\\u00a0L\\u2019\\u00e9quit\\u00e9 commande l\\u2019application des dispositions de l\\u2019article 700 du code de proc\\u00e9dure civile \\u00e0 M. Y... contraint de se d\\u00e9fendre devant la cour. \\u00a0\\u00a0Les d\\u00e9pens suivent le sort du principal. \\u00a0\\u00a0PAR CES MOTIFS\\u00a0\\u00a0La cour \\u00a0\\u00a0Rejetant toutes autres demandes,\\u00a0\\u00a0R\\u00e9forme le jugement du 7 mars 2001 ;\\u00a0\\u00a0Liquide le pr\\u00e9judice subi par M. Y... comme suit :\\u00a0\\u00a0pr\\u00e9judices patrimoniaux temporaires\\u00a0\\u00a0d\\u00e9penses de sant\\u00e9 actuelles.................................................. 3.733,43 \\u20ac \\u00a0d\\u00e9duction de la cr\\u00e9ance de la Caisse primaire .......................- 3.733,43 \\u20ac \\u00a0solde : 0\\u00a0perte de gains actuels correspondant \\u00e0 l\\u2019activit\\u00e9 salari\\u00e9e.... 17.396,40 \\u20ac \\u00a0d\\u00e9duction de la cr\\u00e9ance de la Caisse (ITT et rente AT...........21.365,27 \\u20ac \\u00a0solde : 0\\u00a0\\u00a0\\u00a0\\u00a0\\u00a0perte de gains actuels correspondant \\u00e0 l\\u2019activit\\u00e9\\u00a0d\\u2019exploitant agricole ..................................................................7.870, 64 \\u20ac \\u00a0\\u00a0pr\\u00e9judices extra-patrimoniaux permanents\\u00a0\\u00a0d\\u00e9ficit fonctionnel permanent ...............................................30.000 \\u20ac\\u00a0\\u00a0En cons\\u00e9quence, \\u00a0\\u00a0Condamne M. X... in solidum avec la MAAF \\u00e0 payer \\u00e0 M. Y... en deniers ou quittances la somme de 37.870,64 \\u20ac qui portera int\\u00e9r\\u00eats \\u00e0 compter du jugement appel\\u00e9 ;\\u00a0\\u00a0D\\u00e9clare le pr\\u00e9sent arr\\u00eat opposable \\u00e0 la Caisse primaire d\\u2019assurance maladie des Hautes Pyr\\u00e9n\\u00e9es ;\\u00a0\\u00a0Condamne M. X... in solidum avec la MAAF \\u00e0 payer \\u00e0 M. Y... la somme de 3.000 \\u20ac en application de l\\u2019article 700 du code de proc\\u00e9dure civile;\\u00a0\\u00a0Les condamne sous la m\\u00eame solidarit\\u00e9 aux entiers d\\u00e9pens, avec distraction au profit de la SCP RIVES PODESTA, avou\\u00e9, aux formes pr\\u00e9vues par l\\u2019article 699 du code de proc\\u00e9dure civile.\\u00a0\\u00a0LE GREFFIER LE PRESIDENT\\u00a0\\u00a0D\\u00e9cision attaqu\\u00e9e : Cour d\\u2019appel de Pau , du 3 juillet 2003\\u00a0\\u00a0\\u00a0\\u00a0\",\n          \"Le : 12/11/2019\\u00a0\\u00a0Cour d\\u2019appel de Rennes \\u00a0ct0032 \\u00a0Audience publique du 12 septembre 2007 \\u00a0N\\u00b0 de RG: 06/04048 \\u00a0\\u00a0\\u00a0\\u00a0REPUBLIQUE FRANCAISE\\u00a0AU NOM DU PEUPLE FRANCAIS\\u00a0\\u00a0\\u00a0\\u00a0\\u00a0\\u00a0Septi\\u00e8me Chambre \\u00a0\\u00a0\\u00a0ARR\\u00caT No \\u00a0\\u00a0R.G : 06 / 04048 \\u00a0\\u00a0\\u00a0\\u00a0\\u00a0\\u00a0\\u00a0Mme Marie X... \\u00a0\\u00a0C / \\u00a0\\u00a0M.A.E \\u00a0MONSIEUR L AGENT JUDICIAIRE DU TRESOR PUBLIC \\u00a0\\u00a0\\u00a0\\u00a0\\u00a0\\u00a0\\u00a0\\u00a0infirmation et ADD \\u00a0Expertise \\u00a0\\u00a0\\u00a0\\u00a0\\u00a0\\u00a0\\u00a0\\u00a0Copie ex\\u00e9cutoire d\\u00e9livr\\u00e9e \\u00a0le : \\u00a0\\u00a0\\u00e0 : \\u00a0\\u00a0\\u00a0R\\u00c9PUBLIQUE FRAN\\u00c7AISE \\u00a0AU NOM DU PEUPLE FRAN\\u00c7AIS \\u00a0\\u00a0COUR D\\u2019APPEL DE RENNES \\u00a0ARR\\u00caT DU 12 SEPTEMBRE 2007 \\u00a0\\u00a0\\u00a0COMPOSITION DE LA COUR LORS DU D\\u00c9LIB\\u00c9R\\u00c9 : \\u00a0\\u00a0Madame Marie-Gabrielle LAURENT, Pr\\u00e9sident, \\u00a0Monsieur Patrick GARREC, Conseiller, \\u00a0Madame Agn\\u00e8s LAFAY, Conseiller, \\u00a0\\u00a0GREFFIER : \\u00a0\\u00a0Catherine VILLENEUVE, lors des d\\u00e9bats et lors du prononc\\u00e9 \\u00a0\\u00a0D\\u00c9BATS : \\u00a0\\u00a0A l\\u2019audience publique du 31 Mai 2007 \\u00a0devant Monsieur Patrick GARREC, magistrat rapporteur, tenant seul l\\u2019audience, sans opposition des repr\\u00e9sentants des parties, et qui a rendu compte au d\\u00e9lib\\u00e9r\\u00e9 coll\\u00e9gial \\u00a0\\u00a0ARR\\u00caT : \\u00a0\\u00a0Contradictoire, prononc\\u00e9 par Monsieur Patrick GARREC, Conseiller, \\u00e0 l\\u2019audience publique du 12 Septembre 2007, date indiqu\\u00e9e \\u00e0 l\\u2019issue des d\\u00e9bats. \\u00a0\\u00a0**** \\u00a0\\u00a0\\u00a0APPELANTE : \\u00a0\\u00a0Madame Marie X... \\u00a0... \\u00a044240 LA CHAPELLE SUR ERDRE \\u00a0\\u00a0repr\\u00e9sent\\u00e9e par la SCP BAZILLE J.J. & GENICON S., avou\\u00e9s \\u00a0assist\\u00e9e de Me Jean-Michel POLLONO, avocat \\u00a0\\u00a0\\u00a0INTIM\\u00c9ES : \\u00a0\\u00a0M.A.E \\u00a062 rue Louis Bouilhet \\u00a076044 ROUEN CEDEX \\u00a0\\u00a0repr\\u00e9sent\\u00e9e par la SCP GAUVAIN & DEMIDOFF, avou\\u00e9s \\u00a0assist\\u00e9e de la SELARL LARZUL BUFFET & ASSOCIES, avocats \\u00a0\\u00a0\\u00a0MONSIEUR L AGENT JUDICIAIRE DU TRESOR PUBLIC \\u00a06 rue Louise Weiss \\u00a0Bat condorcet \\u00a075703 PARIS CEDEX 13 \\u00a0\\u00a0repr\\u00e9sent\\u00e9e par la SCP JACQUELINE BREBION ET JEAN-DAVID CHAUDET, avou\\u00e9s \\u00a0\\u00a0\\u00a0*************** \\u00a0I-CADRE DU LITIGE : \\u00a0\\u00a0A-OBJET : \\u00a0\\u00a0Action directe en indemnisation des pr\\u00e9judices \\u00a0patrimoniaux et extrapatrimoniaux d\\u00e9coulant d\\u2019un accident survenu le 16 mai 2003 lors d\\u2019une sortie scolaire conduisant un groupe d\\u2019une cinquantaine d\\u2019enfants \\u00e2g\\u00e9s d\\u2019environ 6 ans au CHATEAU DE NOIR BREUIL, domaine au sein duquel l\\u2019Association APALOS (Association de Plein Air de Loisirs et d\\u2019Initiation aux SPORTS A.P.A.L.O.S) assur\\u00e9e de la Soci\\u00e9t\\u00e9 MUTUELLE ASSURANCE DE L\\u2019EDUCATION (MAE) organise diverses activit\\u00e9s de plein air, engag\\u00e9e par Madame Marie X..., ma\\u00eetre des \\u00e9coles accompagnant le groupe, contre la soci\\u00e9t\\u00e9 MAE, au principal sur le fondement des articles 1147 et subsidiairement 1382 du code civil en ce que se trouve mise en cause la responsabilit\\u00e9 de l\\u2019Association APALOS, et sur le fondement de l\\u2019article L 124. 3 du Code des Assurances en ce qui a trait \\u00e0 la mise en cause directe de l\\u2019assureur. \\u00a0\\u00a0Le litige tient dans le fait que la poursuivante a \\u00e9t\\u00e9 victime d\\u2019une luxation talo-crurale gauche, d\\u2019une fracture luxation du col du talus gauche compliqu\\u00e9e d\\u2019algodystrophie \\u00e0 la suite d\\u2019un choc survenu au moment o\\u00f9 elle allait descendre, avec treize enfants et deux adultes, d\\u2019un char \\u00e0 bancs que tirait un cheval de trait d\\u00e9nomm\\u00e9 KENZO, lequel, pour une raison ind\\u00e9termin\\u00e9e, s\\u2019est emball\\u00e9 alors m\\u00eame que son cocher, Monsieur Eric B..., moniteur dipl\\u00f4m\\u00e9 B.A.P.A., descendu le premier, le tenait par le licol et les r\\u00eanes, qu\\u2019il a rompues, emportant le char et ses passagers, allong\\u00e9s au sol, sur un court trajet au cours duquel il a heurt\\u00e9 le pilier d\\u2019une grange, ce qui a permis \\u00e0 l\\u2019animal de se d\\u00e9gager de ses liens, les brancards du char se brisant sous le choc, tandis que, secou\\u00e9e, Madame Marie X... s\\u2019occasionnait la l\\u00e9sion dommageable. \\u00a0\\u00a0Dans ce contexte de fait, Madame Marie X... oppose \\u00e0 la Soci\\u00e9t\\u00e9 MAE que son assur\\u00e9e \\u00e9tait contractuellement tenue d\\u2019une obligation de s\\u00e9curit\\u00e9 de r\\u00e9sultat en application des articles 1146 et 1147 du code civil s\\u2019agissant d\\u2019une prestation de services et, plus pr\\u00e9cis\\u00e9ment, d\\u2019un contrat de transport. \\u00a0\\u00a0La Soci\\u00e9t\\u00e9 MAE, qui objecte que la responsabilit\\u00e9 de son assur\\u00e9e repose sur un contrat et que la poursuivante ne peut pr\\u00e9tendre cumuler ce fondement de l\\u2019action et le b\\u00e9n\\u00e9fice des dispositions de l\\u2019article 1382 du code civil, d\\u00e9nie la pertinence de la qualification du contrat dont se pr\\u00e9vaut Madame Marie X... et, dans le cadre d\\u2019une obligation qui, \\u00e0 ses yeux, reste \\u201c de moyens \\u201c ainsi que l\\u2019\\u00e9tablissent diverses r\\u00e9f\\u00e9rences de jurisprudence, s\\u2019attache \\u00e0 d\\u00e9montrer que Monsieur Eric B..., moniteur dipl\\u00f4m\\u00e9, n\\u2019a commis aucune faute, a agi dans les r\\u00e8gles de l\\u2019art face \\u00e0 un animal ordinairement calme qui s\\u2019est emball\\u00e9 sans motif pr\\u00e9cis pour se calmer aussit\\u00f4t et se mettre \\u00e0 disposition de Monsieur B... d\\u00e8s qu\\u2019il a \\u00e9t\\u00e9 lib\\u00e9r\\u00e9 du fardeau.\\u00a0\\u00a0B) DECISION DISCUTEE : \\u00a0\\u00a0Jugement du tribunal de grande instance de SAINT NAZAIRE en date du 22 mai 2006 qui a :\\u00a0\\u00a0-rejet\\u00e9 l\\u2019exception de nullit\\u00e9 de l\\u2019assignation,\\u00a0\\u00a0-rejet\\u00e9 la fin de non recevoir et d\\u00e9clar\\u00e9 l\\u2019action directe recevable,\\u00a0\\u00a0-d\\u00e9bout\\u00e9 Madame Marie X... de l\\u2019ensemble de ses demandes,\\u00a0\\u00a0-d\\u00e9bout\\u00e9 la soci\\u00e9t\\u00e9 MAE de sa demande fond\\u00e9e sur l\\u2019article 700 du code de proc\\u00e9dure civile.\\u00a0\\u00a0C) MOYENS ET PRETENTIONS DES PARTIES : \\u00a0\\u00a0Madame Marie X... a relev\\u00e9 appel du jugement par d\\u00e9claration enregistr\\u00e9e au Greffe de la Cour le 14 juin 2006. \\u00a0\\u00a0Elle a signifi\\u00e9, et d\\u00e9pos\\u00e9 au Greffe de la Cour le 8 ao\\u00fbt 2006, ses ultimes conclusions d\\u2019appelante accompagn\\u00e9es, le 4 septembre 2006, d\\u2019un bordereau de pi\\u00e8ces communiqu\\u00e9es \\u00e9tayant son recours et \\u00e9voquant 13 documents vers\\u00e9s aux d\\u00e9bats. \\u00a0\\u00a0La soci\\u00e9t\\u00e9 MAE a signifi\\u00e9, et d\\u00e9pos\\u00e9 au Greffe de la Cour le 5 janvier 2007, ses ultimes conclusions en r\\u00e9plique accompagn\\u00e9es d\\u2019un bordereau de pi\\u00e8ces communiqu\\u00e9es visant 25 documents.\\u00a0\\u00a0L\\u2019AGENT JUDICIAIRE DU TRESOR a signifi\\u00e9, et d\\u00e9pos\\u00e9 au Greffe de la Cour le 28 ao\\u00fbt 2006, ses ultimes conclusions en tant qu\\u2019organisme social \\u00e9voquant un \\u00e9tat de d\\u00e9bours actuellement provisoire. \\u00a0\\u00a0II-MOTIFS DE LA DECISION : \\u00a0\\u00a0Il ressort \\u00e0 l\\u2019\\u00e9vidence des pi\\u00e8ces communiqu\\u00e9es que la responsabilit\\u00e9 de l\\u2019Association APALOS ne peut \\u00eatre engag\\u00e9e que sur le plan contractuel d\\u00e8s lors que la poursuivante et les enfants qu\\u2019elle encadrait n\\u2019ont eu acc\\u00e8s au char \\u00e0 bancs qu\\u2019avec son agr\\u00e9ment et, vraisemblablement, quoique la soci\\u00e9t\\u00e9 MAE et l\\u2019appelante n\\u2019aient pas eu le r\\u00e9flexe de l\\u2019\\u00e9voquer, moyennant une contre partie mon\\u00e9taire ; \\u00a0\\u00a0C\\u2019est donc en vain que sont mises dans le d\\u00e9bat les dispositions de l\\u2019article 1382 du code civil, f\\u00fbt-ce sur le mode subsidiaire ; \\u00a0\\u00a0Quant \\u00e0 la responsabilit\\u00e9 de l\\u2019Association APALOS elle ne peut \\u00eatre appr\\u00e9ci\\u00e9e, alors m\\u00eame que son objet social est de d\\u00e9velopper la pratique du sport (Association....... d\\u2019initiation aux sports) qu\\u2019en dehors de toute r\\u00e9f\\u00e9rence \\u00e0 cette activit\\u00e9 et aux risques qu\\u2019elle rec\\u00e8le ; \\u00a0En effet, treize enfants et leurs accompagnateurs, soit trois adultes, ne pratiquent pas un sport en montant dans un char \\u00e0 bancs : ils s\\u2019adonnent \\u00e0 une activit\\u00e9 de d\\u00e9couverte de l\\u2019environnement, de d\\u00e9tente, de loisirs, autre objet social que poursuit l\\u2019Association APALOS, (Association de Plein Air et de Loisirs) ; \\u00a0\\u00a0\\u00a0C\\u2019est \\u00e0 tort, et donc vainement, qu\\u2019au b\\u00e9n\\u00e9fice de l\\u2019objet social \\u00e9tendu que poursuit son assur\\u00e9e, la soci\\u00e9t\\u00e9 MAE soutient que sa responsabilit\\u00e9 devrait \\u00eatre envisag\\u00e9e dans le cas d\\u2019esp\\u00e8ce sous l\\u2019angle de l\\u2019obligation de moyens. ; \\u00a0\\u00a0Il est constant en effet que l\\u2019accident s\\u2019est produit au terme d\\u2019une promenade en v\\u00e9hicule hippomobile et que, \\u00e0 cet \\u00e9gard, le cas d\\u2019esp\\u00e8ce rejoint tout \\u00e0 fait le cas qui a permis de fixer les fronti\\u00e8res du droit du sport : par arr\\u00eat du 25 avril 1967, la Premi\\u00e8re Chambre Civile de la Cour de Cassation a, en effet, admis, en substance, que \\u201c les juges du fond d\\u00e9cident \\u00e0 bon droit qu\\u2019est li\\u00e9 \\u00e0 son client par un contrat de transport entra\\u00eenant une obligation de s\\u00e9curit\\u00e9 celui qui, par profession, et moyennant r\\u00e9mun\\u00e9ration, conduit \\u00e0 dos d\\u2019\\u00e2ne des touristes en excursion \\u201c ; \\u00a0(Cassation 1\\u00e8re Chambre BC I no148 P. 107) \\u00a0\\u00a0A fortiori doit on admettre que, agissant en l\\u2019esp\\u00e8ce comme un cocher de fiacre, Monsieur Eric B... a fait parcourir aux treize enfants et aux trois adultes les accompagnant, sous sa seule ma\\u00eetrise de la mont\\u00e9e dans le char \\u00e0 bancs jusqu\\u2019\\u00e0 la descente du dernier des passagers, un circuit sinon touristique, au moins de d\\u00e9couverte et de d\\u00e9tente caract\\u00e9ris\\u00e9 par un \\u00e9l\\u00e9ment essentiel : leur transport comme simples passagers sans droit \\u00e0 l\\u2019initiative, en particulier dans la conduite du cheval KENZO ; \\u00a0\\u00a0Dans un tel cas, selon ce que la doctrine la plus unanime consid\\u00e8re, avec l\\u2019illustration qu\\u2019en donne l\\u2019arr\\u00eat du 25 avril 1967 pr\\u00e9cit\\u00e9, l\\u2019entreprise qui vend la prestation de transport est, quelque soit l\\u2019objectif, utilitaire ou non, du d\\u00e9placement, tenue d\\u2019une obligation de s\\u00e9curit\\u00e9 de r\\u00e9sultat (cf JCP RESPONSABILITE CIVILE ART 1382 \\u00e0 1386 Fax 450. 4 \\u00a7 33, Fax 450. 2 \\u00a7 120 \\u00e0 122, et par extension \\u00a7 70) ; \\u00a0\\u00a0Dans ce contexte, il devient indiff\\u00e9rent d\\u2019analyser le comportement de Monsieur Eric B... et le droit \\u00e0 indemnisation de Madame Marie X... ne peut qu\\u2019\\u00eatre consacr\\u00e9 sur le simple constat de la chute intervenue au cours du transport, et, plus pr\\u00e9cis\\u00e9ment, \\u00e0 l\\u2019instant o\\u00f9 la descente des passagers du char \\u00e0 bancs allait intervenir ; \\u00a0\\u00a0Le jugement est donc infirm\\u00e9 et il est fait droit \\u00e0 la demande de l\\u2019appelante dans les limites ci-apr\\u00e8s fix\\u00e9es ; \\u00a0\\u00a0La demande d\\u2019expertise est, \\u00e0 l\\u2019\\u00e9vidence, fond\\u00e9e puisque, en l\\u2019\\u00e9tat, malgr\\u00e9 l\\u2019anciennet\\u00e9 de l\\u2019accident, ne figure au dossier qu\\u2019un rapport d\\u2019expertise ancien, (22 juin 2004) non contributif d\\u00e8s lors qu\\u2019il \\u00e9voque la non consolidation des l\\u00e9sions ; \\u00a0\\u00a0Sur le constat des premi\\u00e8res conclusions du Docteur C... qui ne cote ni les dommages personnels (souffrances, pr\\u00e9judice esth\\u00e9tique et d\\u2019agr\\u00e9ment......) ni le taux d\\u2019incapacit\\u00e9 d\\u00e9finitif s\\u2019il en demeure, la demande de provision peut \\u00eatre admise dans la limite de \\u00a012 000 euros ; \\u00a0\\u00a0La r\\u00e9sistance de l\\u2019intim\\u00e9e est d\\u2019autant moins abusive que le Premier Juge l\\u2019a estim\\u00e9e pertinente en son objection principale et, de fait, on ne trouve pas dans le dossier de l\\u2019appelante la trace d\\u2019une argumentation fond\\u00e9e en premi\\u00e8re instance sur la notion de \\u201c contrat de transport \\u201c et soumise \\u00e0 une discussion contradictoire : Madame Marie X... est donc d\\u00e9bout\\u00e9e de sa demande en paiement de la somme de 5 000 euros \\u00e0 titre de dommages-int\\u00e9r\\u00eats accessoires, l\\u2019absence de d\\u00e9veloppement d\\u2019une argumentation pr\\u00e9cise et d\\u00e9terminante expliquant la position de l\\u2019int\\u00e9ress\\u00e9e autant que son souci d\\u2019\\u00e9chapper \\u00e0 un engagement financier ; \\u00a0\\u00a0En revanche, il serait in\\u00e9quitable que Madame Marie X... conserve \\u00e0 sa charge les frais irr\\u00e9p\\u00e9tibles issus de la proc\\u00e9dure et une indemnit\\u00e9 de 3 000 euros lui est donc allou\\u00e9e en application de l\\u2019article 700 du code de proc\\u00e9dure civile ; \\u00a0\\u00a0Perdant sur le recours adverse, la soci\\u00e9t\\u00e9 MAE ne peut qu\\u2019\\u00eatre d\\u00e9bout\\u00e9e de sa propre demande fond\\u00e9e sur l\\u2019article 700 du code de proc\\u00e9dure civile ; \\u00a0\\u00a0III-DECISION :\\u00a0\\u00a0-Infirme le jugement d\\u00e9f\\u00e9r\\u00e9,\\u00a0\\u00a0-Statuant de nouveau,\\u00a0\\u00a0-Dit et juge que l\\u2019Association APALOS a engag\\u00e9 sa responsabilit\\u00e9 \\u00e0 l\\u2019\\u00e9gard de Madame Marie X... dans le cadre d\\u2019un contrat de transport impliquant une obligation de s\\u00e9curit\\u00e9 de r\\u00e9sultat ;\\u00a0\\u00a0-La d\\u00e9clare en cons\\u00e9quence, sur le fondement de l\\u2019article 1147 du code civil, responsable du dommage patrimonial et extra-patrimonial support\\u00e9 par Madame Marie X... du fait de l\\u2019accident survenu le 16 mai 2003 au cours du transport organis\\u00e9 au profit de 51 enfants de l\\u2019\\u00e9cole maternelle de Beausoleil \\u00e0 LA CHAPELLE SUR ERDRE ;\\u00a0\\u00a0\\u00a0-Avant dire droit sur le liquidation des diff\\u00e9rents \\u00e9l\\u00e9ments du dommage patrimonial et extra patrimonial de Madame Marie X..., commet en qualit\\u00e9 d\\u2019expert : \\u00a0\\u00a0le Docteur Jean Achille D... \\u00a0... \\u00a044200 NANTES \\u00a0\\u00a0T\\u00e9l\\u00e9phone : ... \\u00a0\\u00a0\\u00e0 son d\\u00e9faut : \\u00a0\\u00a0le Docteur Claude E... \\u00a0CHU service des Urgences \\u00a0HOTEL-DIEU NANTES 44093 \\u00a0\\u00a0T\\u00e9l\\u00e9phone : 02-40-08-38-55 \\u00a0\\u00a0avec mission de : \\u00a0\\u00a01o) Convoquer Madame Marie X..., victime d\\u2019un accident le 16 mai 2003, dans le respect des textes en vigueur ; \\u00a0\\u00a02o) Se faire communiquer par la victime, son repr\\u00e9sentant l\\u00e9gal ou tout tiers d\\u00e9tenteur tous documents m\\u00e9dicaux relatifs \\u00e0 l\\u2019accident, en particulier le certificat m\\u00e9dical initial ; \\u00a0\\u00a03o) Fournir le maximum de renseignements sur l\\u2019identit\\u00e9 de la victime, ses conditions d\\u2019activit\\u00e9s professionnelles, son niveau scolaire s\\u2019il s\\u2019agit d\\u2019un enfant ou d\\u2019un \\u00e9tudiant, son statut exact et / ou sa formation s\\u2019il s\\u2019agit d\\u2019un demandeur d\\u2019emploi ; \\u00a0\\u00a04o) A partir des d\\u00e9clarations de la victime imputables au fait dommageable et des documents m\\u00e9dicaux fournis, d\\u00e9crire en d\\u00e9tail les l\\u00e9sions initiales, les modalit\\u00e9s du traitement, en pr\\u00e9cisant autant que possible les dur\\u00e9es exactes d\\u2019hospitalisation et, pour chaque p\\u00e9riode d\\u2019hospitalisation, la nature et le nom de l\\u2019\\u00e9tablissement, le ou les services concern\\u00e9s et la nature des soins ; \\u00a0\\u00a0\\u00a05o) Indiquer la nature de tous les soins et traitements prescrits imputables \\u00e0 l\\u2019accident et, si possible, la date de la fin de ceux-ci ; \\u00a0\\u00a06o) D\\u00e9crire, en cas de difficult\\u00e9s particuli\\u00e8res \\u00e9prouv\\u00e9es par la victime, les conditions de reprise de l\\u2019autonomie et, lorsque la n\\u00e9cessit\\u00e9 d\\u2019une aide temporaire est all\\u00e9gu\\u00e9e, la consigner et \\u00e9mettre un avis motiv\\u00e9 sur sa n\\u00e9cessit\\u00e9 et son imputabilit\\u00e9 ; \\u00a0\\u00a07o) Recueillir les dol\\u00e9ances de la victime en l\\u2019interrogeant sur les conditions d\\u2019apparition, l\\u2019importance des douleurs et de la g\\u00eane fonctionnelle et leurs cons\\u00e9quences ; \\u00a0\\u00a08o) D\\u00e9crire tout \\u00e9ventuel \\u00e9tat ant\\u00e9rieur susceptible d\\u2019avoir une incidence sur les l\\u00e9sions ou leurs s\\u00e9quelles. Dans cette hypoth\\u00e8se : \\u00a0\\u00a0Au cas o\\u00f9 il aurait entra\\u00een\\u00e9 un d\\u00e9ficit fonctionnel ant\\u00e9rieur, fixer la part imputable \\u00e0 l\\u2019\\u00e9tat ant\\u00e9rieur et la part imputable au fait dommageable ; \\u00a0\\u00a0Au cas o\\u00f9 il n\\u2019y aurait pas de d\\u00e9ficit fonctionnel ant\\u00e9rieur, dire si le traumatisme a \\u00e9t\\u00e9 la cause d\\u00e9clenchante du d\\u00e9ficit fonctionnel actuel ou si celui-ci se serait de toute fa\\u00e7on manifest\\u00e9 spontan\\u00e9ment dans l\\u2019avenir ; \\u00a0\\u00a09o) Proc\\u00e9der dans le respect du contradictoire \\u00e0 un examen clinique d\\u00e9taill\\u00e9 en fonction des l\\u00e9sions initiales et des dol\\u00e9ances exprim\\u00e9es par la victime ; \\u00a0\\u00a010o) Analyser dans une discussion pr\\u00e9cise et synth\\u00e9tique, le lien de causalit\\u00e9 existant entre l\\u2019accident, les l\\u00e9sions initiales et les s\\u00e9quelles invoqu\\u00e9es en se pronon\\u00e7ant sur :\\u00a0\\u00a0-la r\\u00e9alit\\u00e9 des l\\u00e9sions initiales,\\u00a0-la r\\u00e9alit\\u00e9 de l\\u2019\\u00e9tat s\\u00e9quellaire,\\u00a0-l\\u2019imputabilit\\u00e9 directe et certaine des s\\u00e9quelles aux l\\u00e9sions initiales \\u00a0et en pr\\u00e9cisant l\\u2019incidence \\u00e9ventuelle d\\u2019un \\u00e9tat ant\\u00e9rieur. \\u00a0\\u00a011o) D\\u00e9terminer la dur\\u00e9e du d\\u00e9ficit fonctionnel temporaire, p\\u00e9riode pendant laquelle, pour des raisons m\\u00e9dicales en relation certaine, directe et exclusive avec l\\u2019accident, la victime a d\\u00fb interrompre totalement ses activit\\u00e9s professionnelles ou ses activit\\u00e9s habituelles ; \\u00a0\\u00a0Si l\\u2019incapacit\\u00e9 fonctionnelle n\\u2019a \\u00e9t\\u00e9 que partielle, en pr\\u00e9ciser le taux ; \\u00a0\\u00a0Pr\\u00e9ciser la dur\\u00e9e des arr\\u00eats de travail au regard des organismes sociaux, au vu des justificatifs produits ; si cette dur\\u00e9e est sup\\u00e9rieure \\u00e0 l\\u2019incapacit\\u00e9 temporaire retenue, dire si ces arr\\u00eats sont li\\u00e9s au fait dommageable ; \\u00a0\\u00a012o) Fixer la date de consolidation, moment o\\u00f9 les l\\u00e9sions se fixent et prennent un caract\\u00e8re permanent tel qu\\u2019un traitement n\\u2019est plus n\\u00e9cessaire si ce n\\u2019est pour \\u00e9viter une aggravation ; \\u00a0\\u00a013o) Chiffrer, par r\\u00e9f\\u00e9rence au \\u201c Bar\\u00e8me indicatif des d\\u00e9ficits fonctionnels s\\u00e9quellaires en droit commun \\u201c le taux \\u00e9ventuel du d\\u00e9ficit fonctionnel permanent (incapacit\\u00e9 permanente) imputable \\u00e0 l\\u2019accident, r\\u00e9sultant de l\\u2019atteinte permanente d\\u2019une ou plusieurs fonctions persistant au moment de la consolidation, le taux de d\\u00e9ficit fonctionnel devant prendre en compte non seulement les atteintes aux fonctions physiologiques de la victime mais aussi les douleurs physiques et morales permanentes qu\\u2019elle ressent, la perte de qualit\\u00e9 de vie et les troubles dans les conditions d\\u2019existence qu\\u2019elle rencontre au quotidien apr\\u00e8s consolidation ; dans l\\u2019hypoth\\u00e8se d\\u2019un \\u00e9tat ant\\u00e9rieur, pr\\u00e9ciser en quoi l\\u2019accident a eu une incidence sur celui-ci et d\\u00e9crire les cons\\u00e9quences de cette situation ; \\u00a0\\u00a014o) Lorsque la victime all\\u00e8gue une r\\u00e9percussion dans l\\u2019exercice de ses activit\\u00e9s professionnelles, recueillir les dol\\u00e9ances, les analyser, les confronter avec les s\\u00e9quelles retenues, en pr\\u00e9cisant les gestes professionnels rendus plus difficiles ou impossibles ; dire si un changement de poste ou d\\u2019emploi appara\\u00eet li\\u00e9 aux s\\u00e9quelles ; \\u00a0\\u00a015o) D\\u00e9crire les souffrances physiques ou morales endur\\u00e9es pendant la maladie traumatique (avant consolidation) du fait des blessures subies. Les \\u00e9valuer selon l\\u2019\\u00e9chelle habituelle de sept degr\\u00e9s ; \\u00a0\\u00a0\\u00a0\\u00a0\\u00a0\\u00a0\\u00a016o) Donner un avis sur l\\u2019existence, la nature et l\\u2019importance du pr\\u00e9judice esth\\u00e9tique en pr\\u00e9cisant s\\u2019il est temporaire (avant consolidation) ou d\\u00e9finitif.L\\u2019\\u00e9valuer selon l\\u2019\\u00e9chelle habituelle de sept degr\\u00e9s ; \\u00a0\\u00a017o) Lorsque la victime all\\u00e8gue l\\u2019impossibilit\\u00e9 de se livrer \\u00e0 des activit\\u00e9s sp\\u00e9cifiques de sport et de loisir, donner un avis m\\u00e9dical sur cette impossibilit\\u00e9 et son caract\\u00e8re d\\u00e9finitif ; \\u00a0\\u00a018o) Dire s\\u2019il existe un pr\\u00e9judice sexuel ; le d\\u00e9crire en pr\\u00e9cisant s\\u2019il recouvre l\\u2019un ou plusieurs des trois aspects pouvant \\u00eatre alt\\u00e9r\\u00e9s s\\u00e9par\\u00e9ment ou cumulativement, partiellement ou totalement : la libido, l\\u2019acte sexuel proprement dit (impuissance ou frigidit\\u00e9) et la fertilit\\u00e9 ; \\u00a0\\u00a019o) Indiquer, le cas \\u00e9ch\\u00e9ant :\\u00a0\\u00a0-si l\\u2019assistance d\\u2019une tierce personne constante ou occasionnelle est, ou a \\u00e9t\\u00e9, n\\u00e9cessaire, en d\\u00e9crivant avec pr\\u00e9cision les besoins (niveau de comp\\u00e9tence technique, dur\\u00e9e d\\u2019intervention quotidienne) ;\\u00a0-si des appareillages, des fournitures compl\\u00e9mentaires et si des soins post\\u00e9rieurs \\u00e0 la consolidation sont \\u00e0 pr\\u00e9voir ; \\u00a0\\u00a020o) R\\u00e9pondre aux dires des parties annonc\\u00e9s, et exprim\\u00e9s par elles dans le mois de la derni\\u00e8re r\\u00e9union d\\u2019expertise organis\\u00e9e ;\\u00a0\\u00a0-Dit que l\\u2019expertise sera effectu\\u00e9e aux frais avanc\\u00e9s de Madame Marie X... qui devra, dans le mois du prononc\\u00e9 du pr\\u00e9sent arr\\u00eat, consigner au Greffe de la Cour la somme de 400 euros \\u00e0 valoir sur la r\\u00e9mun\\u00e9ration de l\\u2019expert ;\\u00a0\\u00a0-Dit qu\\u2019\\u00e0 d\\u00e9faut par Madame Marie X... d\\u2019avoir consign\\u00e9 cette somme dans ce d\\u00e9lai, il sera fait application de l\\u2019article 271 du code de proc\\u00e9dure civile ;\\u00a0\\u00a0\\u00a0\\u00a0\\u00a0\\u00a0-Dit que l\\u2019expert devra commencer ses travaux d\\u00e8s r\\u00e9ception de l\\u2019avis du versement de la consignation \\u00e9manant du Greffe et devra d\\u00e9poser son rapport pour la date du 31 d\\u00e9cembre 2007 au plus tard ;\\u00a0\\u00a0-D\\u00e9signe Monsieur GARREC, conseiller, membre de la formation de jugement, pour contr\\u00f4ler les op\\u00e9rations d\\u2019expertise ;\\u00a0\\u00a0-Condamne la soci\\u00e9t\\u00e9 MAE \\u00e0 indemniser Madame Marie X... de l\\u2019int\\u00e9gralit\\u00e9 du dommage survenu en sa qualit\\u00e9 d\\u2019assureur de l\\u2019Association APALOS et la condamne d\\u00e8s \\u00e0 pr\\u00e9sent \\u00e0 lui payer une provision de 12 000 euros \\u00e0 valoir sur l\\u2019indemnisation de son dommage extra-patrimonial et la somme de 3 000 euros par application de l\\u2019article 700 du code de proc\\u00e9dure civile ;\\u00a0\\u00a0-D\\u00e9boute Madame Marie X... de sa demande accessoire de dommages-int\\u00e9r\\u00eats fond\\u00e9e sur le caract\\u00e8re abusif de la r\\u00e9sistance de la soci\\u00e9t\\u00e9 MAE ;\\u00a0\\u00a0-D\\u00e9boute la soci\\u00e9t\\u00e9 MAE de sa demande fond\\u00e9e sur l\\u2019article 700 du code de proc\\u00e9dure civile ;\\u00a0\\u00a0-La condamne aux d\\u00e9pens de premi\\u00e8re instance et aux d\\u00e9pens d\\u2019appel expos\\u00e9s \\u00e0 ce jour, r\\u00e9serve les d\\u00e9pens \\u00e0 venir ;\\u00a0\\u00a0-Dit qu\\u2019ils seront recouvr\\u00e9s par la SCP J.J. BAZILLE-P-GENICON-S GENICON conform\\u00e9ment aux dispositions de l\\u2019article 699 du code de proc\\u00e9dure civile. \\u00a0\\u00a0LE GREFFIER, LE PRESIDENT,\\u00a0\\u00a0\\u00a0D\\u00e9cision attaqu\\u00e9e : Tribunal de grande instance de Saint-Nazaire , du 22 mai 2006\\u00a0\\u00a0\\u00a0\\u00a0\"\n        ],\n        \"semantic_type\": \"\",\n        \"description\": \"\"\n      }\n    },\n    {\n      \"column\": \"sexe\",\n      \"properties\": {\n        \"dtype\": \"category\",\n        \"num_unique_values\": 3,\n        \"samples\": [\n          \"homme\",\n          \"femme\",\n          \"n.c.\"\n        ],\n        \"semantic_type\": \"\",\n        \"description\": \"\"\n      }\n    },\n    {\n      \"column\": \"date_accident\",\n      \"properties\": {\n        \"dtype\": \"string\",\n        \"num_unique_values\": 697,\n        \"samples\": [\n          \"2006-09-21\",\n          \"1980-05-04\",\n          \"1986-08-15\"\n        ],\n        \"semantic_type\": \"\",\n        \"description\": \"\"\n      }\n    },\n    {\n      \"column\": \"date_consolidation\",\n      \"properties\": {\n        \"dtype\": \"string\",\n        \"num_unique_values\": 413,\n        \"samples\": [\n          \"2002-12-04\",\n          \"1999-04-09\",\n          \"2001-10-30\"\n        ],\n        \"semantic_type\": \"\",\n        \"description\": \"\"\n      }\n    }\n  ]\n}",
              "type": "dataframe",
              "variable_name": "train_df"
            },
            "text/html": [
              "\n",
              "  <div id=\"df-f614f74d-19b9-44b9-b43b-04f7aa81b606\" class=\"colab-df-container\">\n",
              "    <div>\n",
              "<style scoped>\n",
              "    .dataframe tbody tr th:only-of-type {\n",
              "        vertical-align: middle;\n",
              "    }\n",
              "\n",
              "    .dataframe tbody tr th {\n",
              "        vertical-align: top;\n",
              "    }\n",
              "\n",
              "    .dataframe thead th {\n",
              "        text-align: right;\n",
              "    }\n",
              "</style>\n",
              "<table border=\"1\" class=\"dataframe\">\n",
              "  <thead>\n",
              "    <tr style=\"text-align: right;\">\n",
              "      <th></th>\n",
              "      <th>ID</th>\n",
              "      <th>filename</th>\n",
              "      <th>texte</th>\n",
              "      <th>sexe</th>\n",
              "      <th>date_accident</th>\n",
              "      <th>date_consolidation</th>\n",
              "    </tr>\n",
              "  </thead>\n",
              "  <tbody>\n",
              "    <tr>\n",
              "      <th>0</th>\n",
              "      <td>0</td>\n",
              "      <td>Agen_100515.txt</td>\n",
              "      <td>Le : 12/11/2019  Cour d’appel d’Agen  chambre ...</td>\n",
              "      <td>homme</td>\n",
              "      <td>1991-04-09</td>\n",
              "      <td>n.c.</td>\n",
              "    </tr>\n",
              "    <tr>\n",
              "      <th>1</th>\n",
              "      <td>1</td>\n",
              "      <td>Agen_1100752.txt</td>\n",
              "      <td>Le : 12/11/2019  Cour d’appel d’Agen  chambre ...</td>\n",
              "      <td>homme</td>\n",
              "      <td>2005-06-10</td>\n",
              "      <td>2010-01-19</td>\n",
              "    </tr>\n",
              "    <tr>\n",
              "      <th>2</th>\n",
              "      <td>2</td>\n",
              "      <td>Agen_1613.txt</td>\n",
              "      <td>Le : 12/11/2019  Cour d’appel d’Agen  Audience...</td>\n",
              "      <td>femme</td>\n",
              "      <td>1997-09-26</td>\n",
              "      <td>n.c.</td>\n",
              "    </tr>\n",
              "    <tr>\n",
              "      <th>3</th>\n",
              "      <td>3</td>\n",
              "      <td>Agen_2118.txt</td>\n",
              "      <td>Le : 12/11/2019  Cour d’appel d’Agen  Audience...</td>\n",
              "      <td>femme</td>\n",
              "      <td>1982-08-07</td>\n",
              "      <td>1982-11-07</td>\n",
              "    </tr>\n",
              "    <tr>\n",
              "      <th>4</th>\n",
              "      <td>4</td>\n",
              "      <td>Agen_21229.txt</td>\n",
              "      <td>Le : 12/11/2019  Cour d’appel d’Agen  Audience...</td>\n",
              "      <td>homme</td>\n",
              "      <td>1996-11-26</td>\n",
              "      <td>n.c.</td>\n",
              "    </tr>\n",
              "  </tbody>\n",
              "</table>\n",
              "</div>\n",
              "    <div class=\"colab-df-buttons\">\n",
              "\n",
              "  <div class=\"colab-df-container\">\n",
              "    <button class=\"colab-df-convert\" onclick=\"convertToInteractive('df-f614f74d-19b9-44b9-b43b-04f7aa81b606')\"\n",
              "            title=\"Convert this dataframe to an interactive table.\"\n",
              "            style=\"display:none;\">\n",
              "\n",
              "  <svg xmlns=\"http://www.w3.org/2000/svg\" height=\"24px\" viewBox=\"0 -960 960 960\">\n",
              "    <path d=\"M120-120v-720h720v720H120Zm60-500h600v-160H180v160Zm220 220h160v-160H400v160Zm0 220h160v-160H400v160ZM180-400h160v-160H180v160Zm440 0h160v-160H620v160ZM180-180h160v-160H180v160Zm440 0h160v-160H620v160Z\"/>\n",
              "  </svg>\n",
              "    </button>\n",
              "\n",
              "  <style>\n",
              "    .colab-df-container {\n",
              "      display:flex;\n",
              "      gap: 12px;\n",
              "    }\n",
              "\n",
              "    .colab-df-convert {\n",
              "      background-color: #E8F0FE;\n",
              "      border: none;\n",
              "      border-radius: 50%;\n",
              "      cursor: pointer;\n",
              "      display: none;\n",
              "      fill: #1967D2;\n",
              "      height: 32px;\n",
              "      padding: 0 0 0 0;\n",
              "      width: 32px;\n",
              "    }\n",
              "\n",
              "    .colab-df-convert:hover {\n",
              "      background-color: #E2EBFA;\n",
              "      box-shadow: 0px 1px 2px rgba(60, 64, 67, 0.3), 0px 1px 3px 1px rgba(60, 64, 67, 0.15);\n",
              "      fill: #174EA6;\n",
              "    }\n",
              "\n",
              "    .colab-df-buttons div {\n",
              "      margin-bottom: 4px;\n",
              "    }\n",
              "\n",
              "    [theme=dark] .colab-df-convert {\n",
              "      background-color: #3B4455;\n",
              "      fill: #D2E3FC;\n",
              "    }\n",
              "\n",
              "    [theme=dark] .colab-df-convert:hover {\n",
              "      background-color: #434B5C;\n",
              "      box-shadow: 0px 1px 3px 1px rgba(0, 0, 0, 0.15);\n",
              "      filter: drop-shadow(0px 1px 2px rgba(0, 0, 0, 0.3));\n",
              "      fill: #FFFFFF;\n",
              "    }\n",
              "  </style>\n",
              "\n",
              "    <script>\n",
              "      const buttonEl =\n",
              "        document.querySelector('#df-f614f74d-19b9-44b9-b43b-04f7aa81b606 button.colab-df-convert');\n",
              "      buttonEl.style.display =\n",
              "        google.colab.kernel.accessAllowed ? 'block' : 'none';\n",
              "\n",
              "      async function convertToInteractive(key) {\n",
              "        const element = document.querySelector('#df-f614f74d-19b9-44b9-b43b-04f7aa81b606');\n",
              "        const dataTable =\n",
              "          await google.colab.kernel.invokeFunction('convertToInteractive',\n",
              "                                                    [key], {});\n",
              "        if (!dataTable) return;\n",
              "\n",
              "        const docLinkHtml = 'Like what you see? Visit the ' +\n",
              "          '<a target=\"_blank\" href=https://colab.research.google.com/notebooks/data_table.ipynb>data table notebook</a>'\n",
              "          + ' to learn more about interactive tables.';\n",
              "        element.innerHTML = '';\n",
              "        dataTable['output_type'] = 'display_data';\n",
              "        await google.colab.output.renderOutput(dataTable, element);\n",
              "        const docLink = document.createElement('div');\n",
              "        docLink.innerHTML = docLinkHtml;\n",
              "        element.appendChild(docLink);\n",
              "      }\n",
              "    </script>\n",
              "  </div>\n",
              "\n",
              "\n",
              "<div id=\"df-12c601c9-b734-4152-bd38-5d28f3e2b696\">\n",
              "  <button class=\"colab-df-quickchart\" onclick=\"quickchart('df-12c601c9-b734-4152-bd38-5d28f3e2b696')\"\n",
              "            title=\"Suggest charts\"\n",
              "            style=\"display:none;\">\n",
              "\n",
              "<svg xmlns=\"http://www.w3.org/2000/svg\" height=\"24px\"viewBox=\"0 0 24 24\"\n",
              "     width=\"24px\">\n",
              "    <g>\n",
              "        <path d=\"M19 3H5c-1.1 0-2 .9-2 2v14c0 1.1.9 2 2 2h14c1.1 0 2-.9 2-2V5c0-1.1-.9-2-2-2zM9 17H7v-7h2v7zm4 0h-2V7h2v10zm4 0h-2v-4h2v4z\"/>\n",
              "    </g>\n",
              "</svg>\n",
              "  </button>\n",
              "\n",
              "<style>\n",
              "  .colab-df-quickchart {\n",
              "      --bg-color: #E8F0FE;\n",
              "      --fill-color: #1967D2;\n",
              "      --hover-bg-color: #E2EBFA;\n",
              "      --hover-fill-color: #174EA6;\n",
              "      --disabled-fill-color: #AAA;\n",
              "      --disabled-bg-color: #DDD;\n",
              "  }\n",
              "\n",
              "  [theme=dark] .colab-df-quickchart {\n",
              "      --bg-color: #3B4455;\n",
              "      --fill-color: #D2E3FC;\n",
              "      --hover-bg-color: #434B5C;\n",
              "      --hover-fill-color: #FFFFFF;\n",
              "      --disabled-bg-color: #3B4455;\n",
              "      --disabled-fill-color: #666;\n",
              "  }\n",
              "\n",
              "  .colab-df-quickchart {\n",
              "    background-color: var(--bg-color);\n",
              "    border: none;\n",
              "    border-radius: 50%;\n",
              "    cursor: pointer;\n",
              "    display: none;\n",
              "    fill: var(--fill-color);\n",
              "    height: 32px;\n",
              "    padding: 0;\n",
              "    width: 32px;\n",
              "  }\n",
              "\n",
              "  .colab-df-quickchart:hover {\n",
              "    background-color: var(--hover-bg-color);\n",
              "    box-shadow: 0 1px 2px rgba(60, 64, 67, 0.3), 0 1px 3px 1px rgba(60, 64, 67, 0.15);\n",
              "    fill: var(--button-hover-fill-color);\n",
              "  }\n",
              "\n",
              "  .colab-df-quickchart-complete:disabled,\n",
              "  .colab-df-quickchart-complete:disabled:hover {\n",
              "    background-color: var(--disabled-bg-color);\n",
              "    fill: var(--disabled-fill-color);\n",
              "    box-shadow: none;\n",
              "  }\n",
              "\n",
              "  .colab-df-spinner {\n",
              "    border: 2px solid var(--fill-color);\n",
              "    border-color: transparent;\n",
              "    border-bottom-color: var(--fill-color);\n",
              "    animation:\n",
              "      spin 1s steps(1) infinite;\n",
              "  }\n",
              "\n",
              "  @keyframes spin {\n",
              "    0% {\n",
              "      border-color: transparent;\n",
              "      border-bottom-color: var(--fill-color);\n",
              "      border-left-color: var(--fill-color);\n",
              "    }\n",
              "    20% {\n",
              "      border-color: transparent;\n",
              "      border-left-color: var(--fill-color);\n",
              "      border-top-color: var(--fill-color);\n",
              "    }\n",
              "    30% {\n",
              "      border-color: transparent;\n",
              "      border-left-color: var(--fill-color);\n",
              "      border-top-color: var(--fill-color);\n",
              "      border-right-color: var(--fill-color);\n",
              "    }\n",
              "    40% {\n",
              "      border-color: transparent;\n",
              "      border-right-color: var(--fill-color);\n",
              "      border-top-color: var(--fill-color);\n",
              "    }\n",
              "    60% {\n",
              "      border-color: transparent;\n",
              "      border-right-color: var(--fill-color);\n",
              "    }\n",
              "    80% {\n",
              "      border-color: transparent;\n",
              "      border-right-color: var(--fill-color);\n",
              "      border-bottom-color: var(--fill-color);\n",
              "    }\n",
              "    90% {\n",
              "      border-color: transparent;\n",
              "      border-bottom-color: var(--fill-color);\n",
              "    }\n",
              "  }\n",
              "</style>\n",
              "\n",
              "  <script>\n",
              "    async function quickchart(key) {\n",
              "      const quickchartButtonEl =\n",
              "        document.querySelector('#' + key + ' button');\n",
              "      quickchartButtonEl.disabled = true;  // To prevent multiple clicks.\n",
              "      quickchartButtonEl.classList.add('colab-df-spinner');\n",
              "      try {\n",
              "        const charts = await google.colab.kernel.invokeFunction(\n",
              "            'suggestCharts', [key], {});\n",
              "      } catch (error) {\n",
              "        console.error('Error during call to suggestCharts:', error);\n",
              "      }\n",
              "      quickchartButtonEl.classList.remove('colab-df-spinner');\n",
              "      quickchartButtonEl.classList.add('colab-df-quickchart-complete');\n",
              "    }\n",
              "    (() => {\n",
              "      let quickchartButtonEl =\n",
              "        document.querySelector('#df-12c601c9-b734-4152-bd38-5d28f3e2b696 button');\n",
              "      quickchartButtonEl.style.display =\n",
              "        google.colab.kernel.accessAllowed ? 'block' : 'none';\n",
              "    })();\n",
              "  </script>\n",
              "</div>\n",
              "    </div>\n",
              "  </div>\n"
            ],
            "text/plain": [
              "   ID          filename                                              texte  \\\n",
              "0   0   Agen_100515.txt  Le : 12/11/2019  Cour d’appel d’Agen  chambre ...   \n",
              "1   1  Agen_1100752.txt  Le : 12/11/2019  Cour d’appel d’Agen  chambre ...   \n",
              "2   2     Agen_1613.txt  Le : 12/11/2019  Cour d’appel d’Agen  Audience...   \n",
              "3   3     Agen_2118.txt  Le : 12/11/2019  Cour d’appel d’Agen  Audience...   \n",
              "4   4    Agen_21229.txt  Le : 12/11/2019  Cour d’appel d’Agen  Audience...   \n",
              "\n",
              "    sexe date_accident date_consolidation  \n",
              "0  homme    1991-04-09               n.c.  \n",
              "1  homme    2005-06-10         2010-01-19  \n",
              "2  femme    1997-09-26               n.c.  \n",
              "3  femme    1982-08-07         1982-11-07  \n",
              "4  homme    1996-11-26               n.c.  "
            ]
          },
          "execution_count": 49,
          "metadata": {},
          "output_type": "execute_result"
        }
      ],
      "source": [
        "train_df.head()"
      ]
    },
    {
      "cell_type": "markdown",
      "metadata": {
        "id": "95E66Uk_HRl6"
      },
      "source": [
        "# Only keep the sex column"
      ]
    },
    {
      "cell_type": "code",
      "execution_count": 50,
      "metadata": {
        "id": "ZwjQBkgKHRl6",
        "trusted": true
      },
      "outputs": [],
      "source": [
        "train = train_df.drop([\"date_accident\", \"date_consolidation\"], axis=1)"
      ]
    },
    {
      "cell_type": "code",
      "execution_count": 51,
      "metadata": {
        "colab": {
          "base_uri": "https://localhost:8080/"
        },
        "id": "VH0GL0xlHRl6",
        "outputId": "52acdf3a-c5f1-4cb9-b140-d69f28e4c0e8",
        "trusted": true
      },
      "outputs": [
        {
          "name": "stderr",
          "output_type": "stream",
          "text": [
            "[nltk_data] Downloading package stopwords to /root/nltk_data...\n",
            "[nltk_data]   Package stopwords is already up-to-date!\n"
          ]
        }
      ],
      "source": [
        "nltk.download('stopwords')\n",
        "stop_words = stopwords.words('french')\n",
        "train['texte'] = train[\"texte\"].apply(lambda x: ' '.join([word for word in x.split() if word not in (stop_words)]))"
      ]
    },
    {
      "cell_type": "code",
      "execution_count": 52,
      "metadata": {
        "id": "pmIX_gq8HRl6",
        "trusted": true
      },
      "outputs": [],
      "source": [
        "train = train.drop([\"ID\", \"filename\"], axis=1)"
      ]
    },
    {
      "cell_type": "code",
      "execution_count": 53,
      "metadata": {
        "id": "eNchdtQcHRl7",
        "trusted": true
      },
      "outputs": [],
      "source": [
        "train['text_id'] = np.arange(len(train))"
      ]
    },
    {
      "cell_type": "markdown",
      "metadata": {
        "id": "ewOW06rOHRl7"
      },
      "source": [
        "# Let's create our dataset"
      ]
    },
    {
      "cell_type": "code",
      "execution_count": 54,
      "metadata": {
        "id": "5Drc2nLXHRl7",
        "trusted": true
      },
      "outputs": [],
      "source": [
        "class JuridiqueDataset(Dataset):\n",
        "    def __init__(self,\n",
        "                 df,\n",
        "                 tokenizer,\n",
        "                 args\n",
        "                ):\n",
        "        # args is a dict, a nice way to share the global arguments (even accross multiple files)\n",
        "        self.args = args\n",
        "        self.tokenizer = tokenizer\n",
        "        self.df = df\n",
        "\n",
        "    def make_one_item(self,idx):\n",
        "        # this function should encode (tokenize) a given text\n",
        "        text_id = self.df.iloc[idx].text_id\n",
        "        text = self.df.iloc[idx].texte\n",
        "        sexe = self.df.iloc[idx].sexe\n",
        "        tokenizer_encoding = self.tokenizer(text, max_length=512)\n",
        "        outputs = dict(**tokenizer_encoding)\n",
        "\n",
        "        outputs['text_id'] = text_id\n",
        "        outputs['sexe'] = sexe\n",
        "\n",
        "        return outputs\n",
        "\n",
        "    def __len__(self) -> int:\n",
        "        return len(self.df)\n",
        "\n",
        "    def __getitem__(self,idx):\n",
        "        return self.make_one_item(idx)"
      ]
    },
    {
      "cell_type": "code",
      "execution_count": 55,
      "metadata": {
        "id": "MEhcS6KTHRl7",
        "trusted": true
      },
      "outputs": [],
      "source": [
        "\n",
        "model_name = \"almanach/camembert-base\"\n",
        "tokenizer = AutoTokenizer.from_pretrained(model_name)"
      ]
    },
    {
      "cell_type": "code",
      "execution_count": 56,
      "metadata": {
        "id": "cBL1gnO1HRl7",
        "trusted": true
      },
      "outputs": [],
      "source": [
        "import random\n",
        "args = {}\n",
        "ds = JuridiqueDataset(train,tokenizer,args)\n",
        "idx = random.choice(range(len(ds)))"
      ]
    },
    {
      "cell_type": "code",
      "execution_count": 57,
      "metadata": {
        "colab": {
          "base_uri": "https://localhost:8080/"
        },
        "id": "I-tkb-eVHRl8",
        "outputId": "a8d5ec62-f75e-4e4a-d505-dfd8d856c7b4",
        "trusted": true
      },
      "outputs": [
        {
          "name": "stderr",
          "output_type": "stream",
          "text": [
            "Truncation was not explicitly activated but `max_length` is provided a specific value, please use `truncation=True` to explicitly truncate examples to max length. Defaulting to 'longest_first' truncation strategy. If you encode pairs of sequences (GLUE-style) with the tokenizer you can select this strategy more precisely by providing a specific strategy to `truncation`.\n"
          ]
        },
        {
          "name": "stdout",
          "output_type": "stream",
          "text": [
            "['<s>', '▁Le', '▁:', '▁12', '/11/', '2019', '▁Cour', '▁d', '’', 'appel', '▁Saint', '-', 'Denis', '▁Réunion', '▁chambre', '▁civile', '▁Audi', 'ence', '▁publique', '▁6', '▁mars', '▁2015', '▁N', '°', '▁', 'RG', ':', '▁13', '/01', '3', '66', '▁In', 'firm', 'e', '▁décision', '▁déf', 'érée', '▁toutes', '▁dispositions', ',', '▁l', '’', 'égard', '▁toutes', '▁parties', '▁recours', '▁REP', 'UB', 'L', 'IQUE', '▁FRANC', 'A', 'ISE', '▁AU', '▁', 'NOM', '▁DU', '▁PE', 'UP', 'LE', '▁FRANC', 'AIS', '▁C', 'OUR', '▁D', '’', 'APP', 'EL', '▁DE', '▁SAINT', '-', 'DEN', 'IS', '▁A', 'RR', '<unk>', 'T', '▁DU', '▁06', '▁MAR', 'S', '▁2015', '▁Chambre', '▁civile', '▁T', 'GI', '▁A', 'RR', '<unk>', 'T', '▁No', '15', '/', '▁P', 'B', '▁R', '.', '▁G', '▁:', '▁13', '/', '▁01', '3', '66', '▁X', '...', '▁C', '/', '▁Association', '▁G', 'ROU', 'P', 'EMENT', '▁SPORT', 'IF', '▁DE', '▁LA', '▁J', 'EU', 'NES', 'SE', '▁Organ', 'isme', '▁C', 'AIS', 'SE', '▁GE', 'NER', 'ALE', '▁DE', '▁SEC', 'UR', 'ITE', '▁SO', 'CI', 'ALE', '▁DE', '▁LA', '▁RÉ', 'UN', 'ION', '▁Compagnie', '▁d', '’', 'assurance', 's', '▁', 'AZ', 'UR', '▁ASS', 'UR', 'ANCE', 'S', '▁', 'RG', '▁1', 'ERE', '▁IN', 'ST', 'ANCE', '▁:', '▁11', '/', '▁0', '28', '88', '▁Appel', '▁d', '’', 'une', '▁décision', '▁rendue', '▁TR', 'IB', 'UN', 'AL', '▁DE', '▁GRAND', 'E', '▁IN', 'ST', 'ANCE', '▁DE', '▁SAINT', '▁DE', 'NIS', '▁(', 'RÉ', 'UN', 'ION', ')', '▁date', '▁22', '▁MAI', '▁2013', '▁', 'rg', '▁no', '▁11', '/', '▁0', '28', '88', '▁suivant', '▁déclaration', '▁d', '’', 'appel', '▁date', '▁09', '▁J', 'U', 'ILLE', 'T', '▁2013', '▁APP', 'EL', 'ANT', '▁:', '▁Monsieur', '▁Jean', '▁Ulrich', '▁X', '...', '▁...', '▁9', '74', '40', '▁SAINT', '▁', 'ANDR', 'É', '▁Représentant', '▁:', '▁Me', '▁Fernand', 'e', '▁AN', 'IL', 'HA', '▁l', '’', 'Association', '▁AN', 'IL', 'HA', '▁F', 'ERN', 'AND', 'E', '▁ET', '▁MA', 'ILL', 'OT', '▁J', 'UL', 'IEN', ',', '▁avocat', '▁barre', 'au', '▁SAINT', '-', 'DEN', 'IS', '-', 'DE', '-', 'LA', '-', 'RÉ', 'UN', 'ION', '▁aide', '▁juridiction', 'nelle', '▁totale', '▁numéro', '▁2013', '/', '▁48', '24', '▁19', '/', '▁09', '/', '▁2013', '▁accordée', '▁bureau', '▁d', '’', 'aide', '▁juridiction', 'nelle', '▁Saint', '-', 'Denis', '▁', 'INT', 'IM', 'É', 'ES', '▁:', '▁G', 'ROU', 'P', 'EMENT', '▁SPORT', 'IF', '▁DE', '▁LA', '▁J', 'EU', 'NES', 'SE', '▁(', 'association', ')', '▁prise', '▁personne', '▁représentant', '▁légal', '▁exercice', ',', '▁domicilié', '▁', 'ès', '▁qualités', '▁droit', '▁audit', '▁siège', '▁4', '68', '▁rue', '▁B', 'lard', '▁9', '74', '40', '▁SAINT', '▁', 'ANDR', 'É', '▁C', 'AIS', 'SE', '▁G', 'É', 'N', 'ÉR', 'ALE', '▁DE', '▁S', 'É', 'C', 'UR', 'ITÉ', '▁SO', 'CI', 'ALE', '▁DE', '▁LA', '▁RÉ', 'UN', 'ION', '▁prise', '▁personne', '▁directeur', '▁exercice', '▁4', '▁boulevard', '▁Dor', 'et', '▁97', '400', '▁SAINT', '▁DE', 'NIS', '▁Re', 'présent', 'ée', '▁Me', '▁Philippe', '▁B', 'ARRE', '▁S', 'EL', 'ARL', '▁P', 'HL', 'IP', 'PE', '▁B', 'ARRE', ',', '▁avocat', '▁barre', 'au', '▁SAINT', '-', 'DEN', 'IS', '-', 'DE', '-', 'LA', '-', 'RÉ', 'UN', 'ION', '▁Compagnie', '▁d', '’', 'assurance', 's', '▁', 'AZ', 'UR', '▁ASS', 'UR', 'ANCE', 'S', '▁prise', '▁personne', '▁représentant', '▁légal', '▁exercice', ',', '▁domicilié', '▁', 'ès', '▁qualités', '▁droit', '▁audit', '▁siège', '▁07', '▁avenue', '▁Marcel', '▁Proust', '▁2', '89', '32', '▁CHAR', 'TRE', 'S', '▁Re', 'présent', 'ée', '▁Me', '▁Frédérique', '▁F', 'AY', 'ETTE', ',', '▁avocat', '▁barre', 'au', '▁SAINT', '-', 'DEN', 'IS', '-', 'DE', '-', 'LA', '-', 'RÉ', 'UN', 'ION', '▁C', 'LO', 'TURE', '▁LE', '▁:', '▁29', '/', '▁07', '/', '▁2014', '▁DÉ', 'BAT', 'S', '▁:', '▁En', '▁application', '▁dispositions', '▁l', '’', 'article', '▁7', '85', '▁Code', '▁procédure', '▁civile', ',', '▁l', '’', 'affaire', '▁a', '▁débattu', 'e', '▁l', '’', 'audience', '▁publique', '▁06', '▁février', '▁2015', '▁devant', '▁cour', '▁composée', '</s>']\n"
          ]
        }
      ],
      "source": [
        "print(tokenizer.convert_ids_to_tokens(ds[idx]['input_ids']))"
      ]
    },
    {
      "cell_type": "markdown",
      "metadata": {
        "id": "N3yR9VKDHRl8"
      },
      "source": [
        "# Now, we create our DataLoader"
      ]
    },
    {
      "cell_type": "code",
      "execution_count": 58,
      "metadata": {
        "id": "qD5q6ioaHRl8",
        "trusted": true
      },
      "outputs": [],
      "source": [
        "class CustomCollator():\n",
        "    def __init__(self, tokenizer):\n",
        "        self.tokenizer = tokenizer\n",
        "\n",
        "    def __call__(self, batch):\n",
        "        output = dict()\n",
        "        output[\"input_ids\"] = [sample[\"input_ids\"] for sample in batch]\n",
        "        output[\"attention_mask\"] = [sample[\"attention_mask\"] for sample in batch]\n",
        "        output[\"sexe\"] = [sample[\"sexe\"] for sample in batch]\n",
        "        output[\"text_id\"] = [sample[\"text_id\"] for sample in batch]\n",
        "\n",
        "\n",
        "        batch_max = max([len(ids) for ids in output[\"input_ids\"]])\n",
        "\n",
        "        # add padding\n",
        "        if self.tokenizer.padding_side == \"right\":\n",
        "            output[\"input_ids\"] = [s + (batch_max - len(s)) * [self.tokenizer.pad_token_id] for s in output[\"input_ids\"]]\n",
        "            output[\"attention_mask\"] = [s + (batch_max - len(s)) * [0] for s in output[\"attention_mask\"]]\n",
        "\n",
        "        else:\n",
        "\n",
        "            output[\"input_ids\"] = [(batch_max - len(s)) * [self.tokenizer.pad_token_id] + s for s in output[\"input_ids\"]]\n",
        "            output[\"attention_mask\"] = [(batch_max - len(s)) * [0] + s for s in output[\"attention_mask\"]]\n",
        "\n",
        "        # convert to tensors\n",
        "        output[\"input_ids\"] = torch.tensor(output[\"input_ids\"], dtype=torch.long)\n",
        "        output[\"attention_mask\"] = torch.tensor(output[\"attention_mask\"], dtype=torch.long)\n",
        "\n",
        "        sexe_to_int = {\"homme\": 0,\n",
        "                       \"femme\": 1,\n",
        "                       \"n.c.\": -1}\n",
        "        output[\"sexe\"] = torch.tensor([sexe_to_int[item] for item in output[\"sexe\"]], dtype=torch.long)\n",
        "        output[\"text_id\"] = torch.tensor(output[\"text_id\"], dtype=torch.long)\n",
        "        return output\n"
      ]
    },
    {
      "cell_type": "code",
      "execution_count": 59,
      "metadata": {
        "id": "Ut4-SCNYHRl8",
        "trusted": true
      },
      "outputs": [],
      "source": [
        "collator_function = CustomCollator(tokenizer)\n",
        "my_dataset = JuridiqueDataset(train,tokenizer,args)"
      ]
    },
    {
      "cell_type": "code",
      "execution_count": 60,
      "metadata": {
        "id": "7vOQqz7VHRl8",
        "trusted": true
      },
      "outputs": [],
      "source": [
        "data_loader = DataLoader(my_dataset,drop_last = False,num_workers=0,pin_memory=False,shuffle=False,\n",
        "                              batch_size = 2,collate_fn = collator_function)"
      ]
    },
    {
      "cell_type": "code",
      "execution_count": 61,
      "metadata": {
        "colab": {
          "base_uri": "https://localhost:8080/"
        },
        "id": "HFz--OMGHRl8",
        "outputId": "539b4b5e-1da4-48f1-ee12-a0c54dc0355d",
        "trusted": true
      },
      "outputs": [
        {
          "name": "stderr",
          "output_type": "stream",
          "text": [
            "  0%|          | 0/385 [00:00<?, ?it/s]\n"
          ]
        }
      ],
      "source": [
        "for batch in tqdm(data_loader):\n",
        "    break"
      ]
    },
    {
      "cell_type": "code",
      "execution_count": 62,
      "metadata": {
        "colab": {
          "base_uri": "https://localhost:8080/"
        },
        "id": "Q6zh8esAHRl8",
        "outputId": "56614774-a1b5-4c8b-a777-ef141907a9f2",
        "trusted": true
      },
      "outputs": [
        {
          "data": {
            "text/plain": [
              "(torch.Size([2, 512]), torch.Size([2]), torch.Size([2, 512]))"
            ]
          },
          "execution_count": 62,
          "metadata": {},
          "output_type": "execute_result"
        }
      ],
      "source": [
        "batch['input_ids'].shape,batch['sexe'].shape,batch['attention_mask'].shape"
      ]
    },
    {
      "cell_type": "code",
      "execution_count": 63,
      "metadata": {
        "colab": {
          "base_uri": "https://localhost:8080/"
        },
        "id": "s7WGocqUHRl8",
        "outputId": "2c3c839a-f50e-4857-ee2d-7c64d27bda49",
        "trusted": true
      },
      "outputs": [
        {
          "data": {
            "text/plain": [
              "tensor([[1, 1, 1,  ..., 1, 1, 1],\n",
              "        [1, 1, 1,  ..., 1, 1, 1]])"
            ]
          },
          "execution_count": 63,
          "metadata": {},
          "output_type": "execute_result"
        }
      ],
      "source": [
        "batch['attention_mask']"
      ]
    },
    {
      "cell_type": "markdown",
      "metadata": {},
      "source": [
        "## We create our model"
      ]
    },
    {
      "cell_type": "code",
      "execution_count": 64,
      "metadata": {
        "id": "v54YSXK_HRl8",
        "trusted": true
      },
      "outputs": [],
      "source": [
        "class MyBertModel(nn.Module):\n",
        "    def __init__(self, model_name=\"almanach/camembert-base\", num_labels=2):\n",
        "        super().__init__()\n",
        "        self.config = AutoConfig.from_pretrained(model_name, output_hidden_states=True)\n",
        "        self.backbone = AutoModel.from_pretrained(model_name)\n",
        "        self.fc = nn.Linear(self.config.hidden_size, num_labels)\n",
        "\n",
        "    def forward(self, batch):\n",
        "        inputs = {k: v for k, v in batch.items() if k in ['input_ids', 'attention_mask']}\n",
        "        outputs = self.backbone(**inputs)\n",
        "        x = outputs.last_hidden_state[:, 0, :]\n",
        "        x = self.fc(x)\n",
        "        return x\n"
      ]
    },
    {
      "cell_type": "markdown",
      "metadata": {},
      "source": [
        "# Training of the model"
      ]
    },
    {
      "cell_type": "code",
      "execution_count": 65,
      "metadata": {
        "id": "DSNpfnkdHRl8",
        "trusted": true
      },
      "outputs": [],
      "source": [
        "def train_one_step(batch,model,criterion):\n",
        "    \"\"\"\n",
        "    Complete this function which should return the loss generate on the bacth data\n",
        "    \"\"\"\n",
        "    # convert bacth data to same device as model\n",
        "    device  = torch.device(f\"cuda:0\" if torch.cuda.is_available() else \"cpu\")\n",
        "    batch = batch_to_device(batch,device)\n",
        "    # one step forward with the bacth\n",
        "    pred = model(batch)\n",
        "\n",
        "    # compute loss\n",
        "    loss = criterion(pred.squeeze(),batch['sexe'].float().squeeze(-1))\n",
        "    return loss"
      ]
    },
    {
      "cell_type": "code",
      "execution_count": 66,
      "metadata": {
        "id": "JkHymGSPHRl9",
        "trusted": true
      },
      "outputs": [],
      "source": [
        "import time\n",
        "def train_one_epoch(epoch_number,data_loader,model,criterion,optimzer,lr_scheduler):\n",
        "    losses = []\n",
        "    model.train()\n",
        "    start_time = time.time()\n",
        "    pbar = tqdm(data_loader)\n",
        "    for batch in pbar:\n",
        "        loss = train_one_step(batch,model,criterion)\n",
        "        pbar.set_postfix({\"loss\":loss.item()})\n",
        "        losses.append(loss.item())\n",
        "        loss.backward()\n",
        "        optimzer.step()\n",
        "        lr_scheduler.step()\n",
        "        optimizer.zero_grad()\n",
        "\n",
        "    lr = scheduler.get_lr()[0]\n",
        "    elapsed_time = time.time() - start_time\n",
        "    loss_ = np.mean(losses)\n",
        "    print(f\"Epoch {epoch_number + 1} :  lr={lr:.6f} t={elapsed_time:.0f}s loss : {loss_:.5f}\")\n",
        "    return model"
      ]
    },
    {
      "cell_type": "code",
      "execution_count": 67,
      "metadata": {
        "id": "R1wrL3LQHRl9",
        "trusted": true
      },
      "outputs": [],
      "source": [
        "def inference(valid_loader, model):\n",
        "    predictions = []\n",
        "    model.eval()\n",
        "\n",
        "    device = next(model.parameters()).device\n",
        "\n",
        "    with torch.no_grad():\n",
        "        for batch in tqdm(valid_loader):\n",
        "            batch = {k: v.to(device) if isinstance(v, torch.Tensor) else v for k, v in batch.items()}\n",
        "            pred = model(batch).sigmoid().squeeze()\n",
        "\n",
        "            if pred.dim() == 0:\n",
        "                pred = pred.unsqueeze(0)\n",
        "\n",
        "            predictions.append(pred.detach().cpu().numpy())\n",
        "\n",
        "    predictions = np.concatenate(predictions, axis=0)\n",
        "\n",
        "    df_predict = pd.DataFrame({\"sexe_pred\": predictions.tolist()})\n",
        "    return df_predict"
      ]
    },
    {
      "cell_type": "code",
      "execution_count": 68,
      "metadata": {
        "id": "z8ZBJWv3HRl9",
        "trusted": true
      },
      "outputs": [],
      "source": [
        "def batch_to_device(batch, device):\n",
        "    \"\"\"Moves only batch tensors to the specified device.\"\"\"\n",
        "    batch_dict = {}\n",
        "    for key in batch:\n",
        "        if isinstance(batch[key], torch.Tensor):\n",
        "            batch_dict[key] = batch[key].to(device)\n",
        "        else:\n",
        "            batch_dict[key] = batch[key]\n",
        "    return batch_dict\n"
      ]
    },
    {
      "cell_type": "code",
      "execution_count": 69,
      "metadata": {
        "colab": {
          "base_uri": "https://localhost:8080/"
        },
        "id": "05O8wksrHRl9",
        "outputId": "73bdc7d7-a67c-467f-93c2-74bf9f9ed005",
        "trusted": true
      },
      "outputs": [
        {
          "data": {
            "text/plain": [
              "MyBertModel(\n",
              "  (backbone): CamembertModel(\n",
              "    (embeddings): CamembertEmbeddings(\n",
              "      (word_embeddings): Embedding(32005, 768, padding_idx=1)\n",
              "      (position_embeddings): Embedding(514, 768, padding_idx=1)\n",
              "      (token_type_embeddings): Embedding(1, 768)\n",
              "      (LayerNorm): LayerNorm((768,), eps=1e-05, elementwise_affine=True)\n",
              "      (dropout): Dropout(p=0.1, inplace=False)\n",
              "    )\n",
              "    (encoder): CamembertEncoder(\n",
              "      (layer): ModuleList(\n",
              "        (0-11): 12 x CamembertLayer(\n",
              "          (attention): CamembertAttention(\n",
              "            (self): CamembertSelfAttention(\n",
              "              (query): Linear(in_features=768, out_features=768, bias=True)\n",
              "              (key): Linear(in_features=768, out_features=768, bias=True)\n",
              "              (value): Linear(in_features=768, out_features=768, bias=True)\n",
              "              (dropout): Dropout(p=0.1, inplace=False)\n",
              "            )\n",
              "            (output): CamembertSelfOutput(\n",
              "              (dense): Linear(in_features=768, out_features=768, bias=True)\n",
              "              (LayerNorm): LayerNorm((768,), eps=1e-05, elementwise_affine=True)\n",
              "              (dropout): Dropout(p=0.1, inplace=False)\n",
              "            )\n",
              "          )\n",
              "          (intermediate): CamembertIntermediate(\n",
              "            (dense): Linear(in_features=768, out_features=3072, bias=True)\n",
              "            (intermediate_act_fn): GELUActivation()\n",
              "          )\n",
              "          (output): CamembertOutput(\n",
              "            (dense): Linear(in_features=3072, out_features=768, bias=True)\n",
              "            (LayerNorm): LayerNorm((768,), eps=1e-05, elementwise_affine=True)\n",
              "            (dropout): Dropout(p=0.1, inplace=False)\n",
              "          )\n",
              "        )\n",
              "      )\n",
              "    )\n",
              "    (pooler): CamembertPooler(\n",
              "      (dense): Linear(in_features=768, out_features=768, bias=True)\n",
              "      (activation): Tanh()\n",
              "    )\n",
              "  )\n",
              "  (fc): Linear(in_features=768, out_features=1, bias=True)\n",
              ")"
            ]
          },
          "execution_count": 69,
          "metadata": {},
          "output_type": "execute_result"
        }
      ],
      "source": [
        "# Define your model\n",
        "device = torch.device(f\"cuda:0\" if torch.cuda.is_available() else \"cpu\")\n",
        "net = MyBertModel(model_name=model_name,num_labels=1)\n",
        "net.to(device)"
      ]
    },
    {
      "cell_type": "code",
      "execution_count": 70,
      "metadata": {
        "id": "-8WYT2zYHRl9",
        "trusted": true
      },
      "outputs": [],
      "source": [
        "# Define an optimzer\n",
        "\n",
        "optimizer = optim.AdamW(net.parameters(),lr = 4e-6 )"
      ]
    },
    {
      "cell_type": "code",
      "execution_count": 71,
      "metadata": {
        "id": "B5AZ4FoFHRl9",
        "trusted": true
      },
      "outputs": [],
      "source": [
        "# Define a scheduller for your model training\n",
        "from transformers import get_linear_schedule_with_warmup,get_cosine_schedule_with_warmup\n",
        "\n",
        "BATCH_SIZE = 8\n",
        "EPOCHS = 10\n",
        "warmup_steps = 0.04 * (len(train)//BATCH_SIZE)\n",
        "training_steps = EPOCHS * (len(train)// (BATCH_SIZE))\n",
        "\n",
        "scheduler = get_cosine_schedule_with_warmup(optimizer, warmup_steps, training_steps)"
      ]
    },
    {
      "cell_type": "code",
      "execution_count": 72,
      "metadata": {
        "colab": {
          "base_uri": "https://localhost:8080/"
        },
        "id": "7DRGoZJEHRl9",
        "outputId": "0be2c239-9570-48d0-c1cf-d9903360de37",
        "trusted": true
      },
      "outputs": [
        {
          "data": {
            "text/plain": [
              "(3.84, 960)"
            ]
          },
          "execution_count": 72,
          "metadata": {},
          "output_type": "execute_result"
        }
      ],
      "source": [
        "warmup_steps,training_steps"
      ]
    },
    {
      "cell_type": "code",
      "execution_count": 73,
      "metadata": {
        "colab": {
          "base_uri": "https://localhost:8080/"
        },
        "id": "1KF-5BINHRl9",
        "outputId": "ecfb79db-6e99-4610-d2c6-b4b25dfd1295",
        "trusted": true
      },
      "outputs": [
        {
          "name": "stderr",
          "output_type": "stream",
          "text": [
            "100%|██████████| 385/385 [01:22<00:00,  4.66it/s, loss=0.284]\n",
            "/usr/local/lib/python3.10/dist-packages/torch/optim/lr_scheduler.py:271: UserWarning: To get the last learning rate computed by the scheduler, please use `get_last_lr()`.\n",
            "  warnings.warn(\"To get the last learning rate computed by the scheduler, \"\n"
          ]
        },
        {
          "name": "stdout",
          "output_type": "stream",
          "text": [
            "Epoch 1 :  lr=0.000003 t=83s loss : 0.58452\n"
          ]
        },
        {
          "name": "stderr",
          "output_type": "stream",
          "text": [
            "100%|██████████| 385/385 [01:24<00:00,  4.53it/s, loss=0.309]\n"
          ]
        },
        {
          "name": "stdout",
          "output_type": "stream",
          "text": [
            "Epoch 2 :  lr=0.000000 t=85s loss : 0.57482\n"
          ]
        },
        {
          "name": "stderr",
          "output_type": "stream",
          "text": [
            "100%|██████████| 385/385 [01:25<00:00,  4.48it/s, loss=0.307]\n"
          ]
        },
        {
          "name": "stdout",
          "output_type": "stream",
          "text": [
            "Epoch 3 :  lr=0.000000 t=86s loss : 0.57042\n"
          ]
        },
        {
          "name": "stderr",
          "output_type": "stream",
          "text": [
            "100%|██████████| 385/385 [01:26<00:00,  4.46it/s, loss=0.299]\n"
          ]
        },
        {
          "name": "stdout",
          "output_type": "stream",
          "text": [
            "Epoch 4 :  lr=0.000003 t=86s loss : 0.57314\n"
          ]
        },
        {
          "name": "stderr",
          "output_type": "stream",
          "text": [
            "100%|██████████| 385/385 [01:26<00:00,  4.44it/s, loss=0.288]\n"
          ]
        },
        {
          "name": "stdout",
          "output_type": "stream",
          "text": [
            "Epoch 5 :  lr=0.000004 t=87s loss : 0.57232\n"
          ]
        },
        {
          "name": "stderr",
          "output_type": "stream",
          "text": [
            "100%|██████████| 385/385 [01:27<00:00,  4.42it/s, loss=0.184]\n"
          ]
        },
        {
          "name": "stdout",
          "output_type": "stream",
          "text": [
            "Epoch 6 :  lr=0.000003 t=87s loss : 0.47023\n"
          ]
        },
        {
          "name": "stderr",
          "output_type": "stream",
          "text": [
            "100%|██████████| 385/385 [01:26<00:00,  4.43it/s, loss=0.171]\n"
          ]
        },
        {
          "name": "stdout",
          "output_type": "stream",
          "text": [
            "Epoch 7 :  lr=0.000000 t=87s loss : 0.32552\n"
          ]
        },
        {
          "name": "stderr",
          "output_type": "stream",
          "text": [
            "100%|██████████| 385/385 [01:26<00:00,  4.43it/s, loss=0.168]\n"
          ]
        },
        {
          "name": "stdout",
          "output_type": "stream",
          "text": [
            "Epoch 8 :  lr=0.000000 t=87s loss : 0.29475\n"
          ]
        },
        {
          "name": "stderr",
          "output_type": "stream",
          "text": [
            "100%|██████████| 385/385 [01:26<00:00,  4.43it/s, loss=0.164]\n"
          ]
        },
        {
          "name": "stdout",
          "output_type": "stream",
          "text": [
            "Epoch 9 :  lr=0.000003 t=87s loss : 0.28901\n"
          ]
        },
        {
          "name": "stderr",
          "output_type": "stream",
          "text": [
            "100%|██████████| 385/385 [01:26<00:00,  4.43it/s, loss=0.137]"
          ]
        },
        {
          "name": "stdout",
          "output_type": "stream",
          "text": [
            "Epoch 10 :  lr=0.000004 t=87s loss : 0.25261\n"
          ]
        },
        {
          "name": "stderr",
          "output_type": "stream",
          "text": [
            "\n"
          ]
        }
      ],
      "source": [
        "criterion = nn.BCEWithLogitsLoss().to(device)\n",
        "for epoch_num in range(EPOCHS):\n",
        "    net = train_one_epoch(epoch_num,data_loader,net,criterion,optimizer,scheduler)"
      ]
    },
    {
      "cell_type": "code",
      "execution_count": 74,
      "metadata": {
        "id": "NcVWZAGvHRl9",
        "trusted": true
      },
      "outputs": [],
      "source": [
        "collator_function = CustomCollator(tokenizer)\n",
        "valid_dataset = JuridiqueDataset(train,tokenizer,args)\n",
        "valid_loader = DataLoader(valid_dataset,drop_last = False,num_workers=0,pin_memory=False,shuffle=False,\n",
        "                              batch_size = 6, collate_fn = collator_function)"
      ]
    },
    {
      "cell_type": "code",
      "execution_count": 75,
      "metadata": {
        "colab": {
          "base_uri": "https://localhost:8080/"
        },
        "id": "n6DwyUstHRl9",
        "outputId": "634eaf37-9997-4125-fd76-8e16ff59e907",
        "trusted": true
      },
      "outputs": [
        {
          "name": "stderr",
          "output_type": "stream",
          "text": [
            "100%|██████████| 129/129 [00:37<00:00,  3.44it/s]\n"
          ]
        }
      ],
      "source": [
        "pred_df = inference(valid_loader,net)"
      ]
    },
    {
      "cell_type": "markdown",
      "metadata": {
        "id": "aZNlltONHRl9"
      },
      "source": [
        "# Let's predict the sex of the victim!"
      ]
    },
    {
      "cell_type": "markdown",
      "metadata": {
        "id": "VgwqR1w7HRl-"
      },
      "source": [
        "## We will use a TF-IDF"
      ]
    },
    {
      "cell_type": "code",
      "execution_count": 82,
      "metadata": {
        "colab": {
          "base_uri": "https://localhost:8080/"
        },
        "id": "pxI5j019HRl-",
        "outputId": "e53b9dc1-4aa8-44e1-c370-9ae35880a7b5",
        "trusted": true
      },
      "outputs": [
        {
          "name": "stderr",
          "output_type": "stream",
          "text": [
            "/usr/local/lib/python3.10/dist-packages/sklearn/feature_extraction/text.py:409: UserWarning: Your stop_words may be inconsistent with your preprocessing. Tokenizing the stop words generated tokens ['neuf', 'qu', 'quelqu'] not in stop_words.\n",
            "  warnings.warn(\n"
          ]
        }
      ],
      "source": [
        "X = train[[\"texte\", 'text_id']]\n",
        "\n",
        "vect = TfidfVectorizer(\n",
        "  max_features=5000,\n",
        "  stop_words=list(fr_stop), binary=True)\n",
        "\n",
        "X = vect.fit_transform(train['texte'])\n",
        "train[\"sexe\"] = train[\"sexe\"].replace({'homme':0, \"femme\":1, \"n.c.\": -1})\n",
        "y = train['sexe']\n",
        "\n",
        "X_train, X_test, y_train, y_test = train_test_split(X, y, test_size=0.2, random_state=42)\n",
        "\n",
        "clf = LogisticRegression(random_state=42).fit(X, y)\n",
        "\n",
        "preds = clf.predict((X_test))"
      ]
    },
    {
      "cell_type": "markdown",
      "metadata": {
        "id": "KYDoSxZ7HRl-"
      },
      "source": [
        "# Now, we compute our metrics"
      ]
    },
    {
      "cell_type": "code",
      "execution_count": 83,
      "metadata": {
        "colab": {
          "base_uri": "https://localhost:8080/"
        },
        "id": "dsm_MGh6HRl-",
        "outputId": "d26d70f3-b72f-46ae-e337-52e6be90ed78"
      },
      "outputs": [
        {
          "name": "stdout",
          "output_type": "stream",
          "text": [
            "accuracy: 0.9155844155844156\n",
            "f1: 0.8854363376251788\n"
          ]
        }
      ],
      "source": [
        "print(\"accuracy:\", accuracy_score(y_test, preds))\n",
        "print(\"f1:\", f1_score(y_test, preds, average='macro'))"
      ]
    }
  ],
  "metadata": {
    "accelerator": "GPU",
    "colab": {
      "gpuType": "T4",
      "provenance": []
    },
    "kaggle": {
      "accelerator": "none",
      "dataSources": [
        {
          "datasetId": 4541802,
          "sourceId": 7765031,
          "sourceType": "datasetVersion"
        }
      ],
      "dockerImageVersionId": 30664,
      "isGpuEnabled": false,
      "isInternetEnabled": true,
      "language": "python",
      "sourceType": "notebook"
    },
    "kernelspec": {
      "display_name": "Python 3",
      "name": "python3"
    },
    "language_info": {
      "codemirror_mode": {
        "name": "ipython",
        "version": 3
      },
      "file_extension": ".py",
      "mimetype": "text/x-python",
      "name": "python",
      "nbconvert_exporter": "python",
      "pygments_lexer": "ipython3",
      "version": "3.10.13"
    }
  },
  "nbformat": 4,
  "nbformat_minor": 0
}
